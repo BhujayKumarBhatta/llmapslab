{
 "cells": [
  {
   "cell_type": "code",
   "execution_count": 29,
   "id": "6ec6afaa-ccf4-4e35-897c-f5a773a188aa",
   "metadata": {},
   "outputs": [],
   "source": [
    "from langchain_core.tools import BaseTool, ToolException, Field\n",
    "from langchain.pydantic_v1 import BaseModel\n",
    "from typing import (\n",
    "    List, Sequence, Tuple, Callable, Optional, Union, Literal,\n",
    "    Dict, cast, TYPE_CHECKING, Any, Type, \n",
    ")\n",
    "from io import IOBase\n",
    "import pandas as pd\n",
    "import os\n",
    "from glob import glob"
   ]
  },
  {
   "cell_type": "code",
   "execution_count": 31,
   "id": "a3c1611b-ac97-4011-aa46-c4a6b40d74df",
   "metadata": {},
   "outputs": [
    {
     "name": "stdout",
     "output_type": "stream",
     "text": [
      "['../data/country_eng.csv', '../data/custom_2020.csv', '../data/Mobile-Price-Prediction-cleaned_data.csv']\n"
     ]
    }
   ],
   "source": [
    "data_path = os.path.join(\"../data\")\n",
    "os.path.exists(data_path)\n",
    "csv_files = glob(f\"{data_path}/*.csv\")\n",
    "print(csv_files)\n",
    "lfile = csv_files[1]"
   ]
  },
  {
   "cell_type": "code",
   "execution_count": 32,
   "id": "cc3acbd5-765f-4888-aa01-cc1a1dd9ebaa",
   "metadata": {
    "scrolled": true
   },
   "outputs": [
    {
     "name": "stdout",
     "output_type": "stream",
     "text": [
      "['../data/country_eng.csv', '../data/custom_2020.csv', '../data/Mobile-Price-Prediction-cleaned_data.csv']\n",
      "small csv:\n",
      " Unnamed: 0      232\n",
      "Country         232\n",
      "Country_name    232\n",
      "Area            232\n",
      "dtype: int64\n",
      "\n",
      "large csv:\n",
      " exp_imp    3299804\n",
      "Year       3299804\n",
      "month      3299804\n",
      "ym         3299804\n",
      "Country    3299804\n",
      "Custom     3299804\n",
      "hs2        3299804\n",
      "hs4        3299804\n",
      "hs6        3299804\n",
      "hs9        3299804\n",
      "Q1         3299804\n",
      "Q2         3299804\n",
      "Value      3299804\n",
      "dtype: int64\n"
     ]
    }
   ],
   "source": [
    "data_path = os.path.join(\"../data\")\n",
    "os.path.exists(data_path)\n",
    "csv_files = glob(f\"{data_path}/*.csv\")\n",
    "print(csv_files)\n",
    "sfile = csv_files[0]\n",
    "df_small = pd.read_csv(sfile)\n",
    "print('small csv:\\n', df_small.count())\n",
    "lfile = csv_files[1]\n",
    "df_large = pd.read_csv(lfile)\n",
    "print()\n",
    "print('large csv:\\n', df_large.count())"
   ]
  },
  {
   "cell_type": "code",
   "execution_count": 90,
   "id": "b150f8dd-5ac7-40b4-bd56-3a7cb9b55fc4",
   "metadata": {},
   "outputs": [
    {
     "data": {
      "text/html": [
       "<div>\n",
       "<style scoped>\n",
       "    .dataframe tbody tr th:only-of-type {\n",
       "        vertical-align: middle;\n",
       "    }\n",
       "\n",
       "    .dataframe tbody tr th {\n",
       "        vertical-align: top;\n",
       "    }\n",
       "\n",
       "    .dataframe thead th {\n",
       "        text-align: right;\n",
       "    }\n",
       "</style>\n",
       "<table border=\"1\" class=\"dataframe\">\n",
       "  <thead>\n",
       "    <tr style=\"text-align: right;\">\n",
       "      <th></th>\n",
       "      <th>exp_imp</th>\n",
       "      <th>Year</th>\n",
       "      <th>month</th>\n",
       "      <th>ym</th>\n",
       "      <th>Country</th>\n",
       "      <th>Custom</th>\n",
       "      <th>hs2</th>\n",
       "      <th>hs4</th>\n",
       "      <th>hs6</th>\n",
       "      <th>hs9</th>\n",
       "      <th>Q1</th>\n",
       "      <th>Q2</th>\n",
       "      <th>Value</th>\n",
       "    </tr>\n",
       "  </thead>\n",
       "  <tbody>\n",
       "    <tr>\n",
       "      <th>0</th>\n",
       "      <td>1</td>\n",
       "      <td>2020</td>\n",
       "      <td>1</td>\n",
       "      <td>202001</td>\n",
       "      <td>103</td>\n",
       "      <td>100</td>\n",
       "      <td>0</td>\n",
       "      <td>0</td>\n",
       "      <td>0</td>\n",
       "      <td>190</td>\n",
       "      <td>0</td>\n",
       "      <td>526875</td>\n",
       "      <td>1150084</td>\n",
       "    </tr>\n",
       "    <tr>\n",
       "      <th>1</th>\n",
       "      <td>1</td>\n",
       "      <td>2020</td>\n",
       "      <td>1</td>\n",
       "      <td>202001</td>\n",
       "      <td>105</td>\n",
       "      <td>100</td>\n",
       "      <td>0</td>\n",
       "      <td>0</td>\n",
       "      <td>0</td>\n",
       "      <td>190</td>\n",
       "      <td>0</td>\n",
       "      <td>1241751</td>\n",
       "      <td>3830662</td>\n",
       "    </tr>\n",
       "    <tr>\n",
       "      <th>2</th>\n",
       "      <td>1</td>\n",
       "      <td>2020</td>\n",
       "      <td>1</td>\n",
       "      <td>202001</td>\n",
       "      <td>106</td>\n",
       "      <td>100</td>\n",
       "      <td>0</td>\n",
       "      <td>0</td>\n",
       "      <td>0</td>\n",
       "      <td>190</td>\n",
       "      <td>0</td>\n",
       "      <td>505391</td>\n",
       "      <td>1530045</td>\n",
       "    </tr>\n",
       "    <tr>\n",
       "      <th>3</th>\n",
       "      <td>1</td>\n",
       "      <td>2020</td>\n",
       "      <td>1</td>\n",
       "      <td>202001</td>\n",
       "      <td>107</td>\n",
       "      <td>100</td>\n",
       "      <td>0</td>\n",
       "      <td>0</td>\n",
       "      <td>0</td>\n",
       "      <td>190</td>\n",
       "      <td>0</td>\n",
       "      <td>1852</td>\n",
       "      <td>5150</td>\n",
       "    </tr>\n",
       "    <tr>\n",
       "      <th>4</th>\n",
       "      <td>1</td>\n",
       "      <td>2020</td>\n",
       "      <td>1</td>\n",
       "      <td>202001</td>\n",
       "      <td>108</td>\n",
       "      <td>100</td>\n",
       "      <td>0</td>\n",
       "      <td>0</td>\n",
       "      <td>0</td>\n",
       "      <td>190</td>\n",
       "      <td>0</td>\n",
       "      <td>455623</td>\n",
       "      <td>5664430</td>\n",
       "    </tr>\n",
       "  </tbody>\n",
       "</table>\n",
       "</div>"
      ],
      "text/plain": [
       "   exp_imp  Year  month      ym  Country  Custom  hs2  hs4  hs6  hs9  Q1  \\\n",
       "0        1  2020      1  202001      103     100    0    0    0  190   0   \n",
       "1        1  2020      1  202001      105     100    0    0    0  190   0   \n",
       "2        1  2020      1  202001      106     100    0    0    0  190   0   \n",
       "3        1  2020      1  202001      107     100    0    0    0  190   0   \n",
       "4        1  2020      1  202001      108     100    0    0    0  190   0   \n",
       "\n",
       "        Q2    Value  \n",
       "0   526875  1150084  \n",
       "1  1241751  3830662  \n",
       "2   505391  1530045  \n",
       "3     1852     5150  \n",
       "4   455623  5664430  "
      ]
     },
     "execution_count": 90,
     "metadata": {},
     "output_type": "execute_result"
    }
   ],
   "source": [
    "df_large.head()"
   ]
  },
  {
   "cell_type": "code",
   "execution_count": 34,
   "id": "dd7d01fb-e88e-44ec-97da-afa632886022",
   "metadata": {},
   "outputs": [
    {
     "data": {
      "text/plain": [
       "6854247392"
      ]
     },
     "execution_count": 34,
     "metadata": {},
     "output_type": "execute_result"
    }
   ],
   "source": [
    "df_large[df_large[\"Country\"] == 103][\"Value\"].sum()"
   ]
  },
  {
   "cell_type": "code",
   "execution_count": 51,
   "id": "43247281-7229-4a43-b150-37191f8e41a0",
   "metadata": {},
   "outputs": [],
   "source": [
    "class CSVToolSchema(BaseModel):\n",
    "    path: str = Field(description=\"path of the csv file or a list of paths\")\n",
    "    query: str = Field(description=\"query for the pandas dataframe\")\n",
    "    max_row_out: Optional[int] = 100\n",
    "    "
   ]
  },
  {
   "cell_type": "code",
   "execution_count": 79,
   "id": "d4710020-0d3b-4afd-956c-536a25d6be2c",
   "metadata": {
    "scrolled": true
   },
   "outputs": [
    {
     "name": "stdout",
     "output_type": "stream",
     "text": [
      "('6854247392', {})\n",
      "6854247392\n",
      "Result Size: 13172289. Examples:      exp_imp  Year  month      ym  Country  Custom  hs2  hs4    hs6       hs9  \\\n",
      "9          1  2020      1  202001      116     100    0    0      0       190   \n",
      "21         1  2020      1  202001      132     100    0    0      0       190   \n",
      "22         1  2020      1  202001      134     100    0    0      0       190   \n",
      "31         1  2020      1  202001      149     100    0    0      0       190   \n",
      "39         1  2020      1  202001      209     100    0    0      0       190   \n",
      "..       ...   ...    ...     ...      ...     ...  ...  ...    ...       ...   \n",
      "272        1  2020      1  202001      113     100    7  714  71430  71430000   \n",
      "274        1  2020      1  202001      601     100    7  714  71430  71430000   \n",
      "275        1  2020      1  202001      205     100    7  714  71490  71490000   \n",
      "276        1  2020      1  202001      106     100    8  805  80521  80521000   \n",
      "278        1  2020      1  202001      112     100    8  805  80521  80521000   \n",
      "\n",
      "     Q1   Q2  Value  \n",
      "9     0   22    530  \n",
      "21    0   23    782  \n",
      "22    0    2    262  \n",
      "31    0   17    417  \n",
      "39    0   71    533  \n",
      "..   ..  ...    ...  \n",
      "272   0  430    286  \n",
      "274   0  200    252  \n",
      "275   0  300    227  \n",
      "276   0  216    215  \n",
      "278   0  974    429  \n",
      "\n",
      "[100 rows x 13 columns]\n"
     ]
    }
   ],
   "source": [
    "class CSVTool(BaseTool):\n",
    "    name = \"csv_tool\"\n",
    "    description = \"\"\n",
    "    args_schema: Type[BaseModel] = CSVToolSchema\n",
    "    return_direct: bool = True\n",
    "    handle_tool_error: Optional[Union[bool, str, Callable[[ToolException], str]]] = True\n",
    "    response_format: Literal['content', 'content_and_artifact'] = 'content_and_artifact'\n",
    "    \n",
    "    def _run(self, path: Union[str, List[str]], query: str, \n",
    "             max_row_out: Optional[int]=100, **_kwargs):\n",
    "        try:\n",
    "            # Ensure pandas is available\n",
    "            import pandas as pd\n",
    "        except ImportError:\n",
    "            raise ImportError(\n",
    "                \"pandas package not found, please install with `pip install pandas`.\"\n",
    "            )\n",
    "        \n",
    "        # Load the CSV into a DataFrame\n",
    "        if isinstance(path, (str, IOBase)):\n",
    "            df = pd.read_csv(path, **_kwargs)\n",
    "        elif isinstance(path, list):\n",
    "            df = pd.concat([pd.read_csv(item, **_kwargs) for item in path], ignore_index=True)\n",
    "        else:\n",
    "            raise ValueError(f\"Expected str, list, or file-like object, got {type(path)}\")\n",
    "        \n",
    "        # Safely evaluate the query string on the DataFrame\n",
    "        artifact = {} ### should be a dictionary \n",
    "        try:\n",
    "            result = eval(query,  {\"df\": df, \"pd\": pd, \"__builtins__\": None})\n",
    "            if isinstance(result, (pd.core.frame.DataFrame, \n",
    "                                   pd.core.series.Series,\n",
    "                                   List, tuple)):\n",
    "                if isinstance(result, pd.DataFrame) and result.empty:\n",
    "                    content = \"Query result is an empty DataFrame.\"\n",
    "                else:\n",
    "                    content = f\"Result Size: {result.size}. Examples: {result.head(max_row_out)}\"\n",
    "                artifact['out_df'] = result\n",
    "            else:\n",
    "                content = str(result)\n",
    "        except Exception as e:\n",
    "            raise ValueError(f\"Failed to execute query: {e}\")        \n",
    "        return content, artifact\n",
    "\n",
    "# Example usage\n",
    "csv_tool = CSVTool()\n",
    "path_to_csv = lfile\n",
    "query_string = 'df[df[\"Country\"] == 103][\"Value\"].sum()'  # Example query string\n",
    "result = csv_tool._run(path=path_to_csv, query=query_string)\n",
    "print(result)\n",
    "result = csv_tool.invoke({'path': path_to_csv, 'query': query_string})\n",
    "print(result)\n",
    "query_string = 'df[df[\"Value\"] < 1000]'\n",
    "result = csv_tool.invoke({'path': path_to_csv, 'query': query_string})\n",
    "print(result)"
   ]
  },
  {
   "cell_type": "code",
   "execution_count": 80,
   "id": "7cea7cf1-33e4-41ed-b297-3b135dbf6e3c",
   "metadata": {
    "scrolled": true
   },
   "outputs": [
    {
     "name": "stdout",
     "output_type": "stream",
     "text": [
      "content='Result Size: 13172289. Examples:      exp_imp  Year  month      ym  Country  Custom  hs2  hs4    hs6       hs9  \\\\\\n9          1  2020      1  202001      116     100    0    0      0       190   \\n21         1  2020      1  202001      132     100    0    0      0       190   \\n22         1  2020      1  202001      134     100    0    0      0       190   \\n31         1  2020      1  202001      149     100    0    0      0       190   \\n39         1  2020      1  202001      209     100    0    0      0       190   \\n..       ...   ...    ...     ...      ...     ...  ...  ...    ...       ...   \\n272        1  2020      1  202001      113     100    7  714  71430  71430000   \\n274        1  2020      1  202001      601     100    7  714  71430  71430000   \\n275        1  2020      1  202001      205     100    7  714  71490  71490000   \\n276        1  2020      1  202001      106     100    8  805  80521  80521000   \\n278        1  2020      1  202001      112     100    8  805  80521  80521000   \\n\\n     Q1   Q2  Value  \\n9     0   22    530  \\n21    0   23    782  \\n22    0    2    262  \\n31    0   17    417  \\n39    0   71    533  \\n..   ..  ...    ...  \\n272   0  430    286  \\n274   0  200    252  \\n275   0  300    227  \\n276   0  216    215  \\n278   0  974    429  \\n\\n[100 rows x 13 columns]' name='csv_tool' tool_call_id='1' artifact={'out_df':          exp_imp  Year  month      ym  Country  Custom  hs2   hs4     hs6  \\\n",
      "9              1  2020      1  202001      116     100    0     0       0   \n",
      "21             1  2020      1  202001      132     100    0     0       0   \n",
      "22             1  2020      1  202001      134     100    0     0       0   \n",
      "31             1  2020      1  202001      149     100    0     0       0   \n",
      "39             1  2020      1  202001      209     100    0     0       0   \n",
      "...          ...   ...    ...     ...      ...     ...  ...   ...     ...   \n",
      "3299795        2  2020     11  202011      213     907   90  9025  902519   \n",
      "3299797        2  2020     11  202011      304     907   94  9401  940180   \n",
      "3299798        2  2020     11  202011      304     907   94  9403  940370   \n",
      "3299799        2  2020     11  202011      304     907   94  9405  940510   \n",
      "3299803        2  2020     11  202011      105     907   95  9506  950699   \n",
      "\n",
      "               hs9   Q1   Q2  Value  \n",
      "9              190    0   22    530  \n",
      "21             190    0   23    782  \n",
      "22             190    0    2    262  \n",
      "31             190    0   17    417  \n",
      "39             190    0   71    533  \n",
      "...            ...  ...  ...    ...  \n",
      "3299795  902519010    6   10    258  \n",
      "3299797  940180090    1   74    277  \n",
      "3299798  940370000    1  195    506  \n",
      "3299799  940510010    0  166    559  \n",
      "3299803  950699000  212  183    700  \n",
      "\n",
      "[1013253 rows x 13 columns]}\n"
     ]
    }
   ],
   "source": [
    "tool_message = csv_tool.invoke(\n",
    "    {\n",
    "        \"name\": \"csv_tool\",\n",
    "        \"args\": {'path': path_to_csv, 'query': query_string},\n",
    "        \"id\": \"1\",  # required field\n",
    "        \"type\": \"tool_call\",  # required field\n",
    "    }\n",
    ")\n",
    "print(tool_message)"
   ]
  },
  {
   "cell_type": "code",
   "execution_count": 77,
   "id": "84259153-ebbe-46f7-ab2d-cac9e169c8c5",
   "metadata": {},
   "outputs": [
    {
     "name": "stdout",
     "output_type": "stream",
     "text": [
      "Failed to execute query: invalid syntax (<string>, line 1)\n"
     ]
    }
   ],
   "source": [
    "### any other command except df and pd should not run \n",
    "try:\n",
    "    result = csv_tool.invoke({'path': path_to_csv, 'query': 'import os, os.listdir()'})\n",
    "    print(result)\n",
    "except Exception as e:\n",
    "    print(e)"
   ]
  },
  {
   "cell_type": "code",
   "execution_count": 78,
   "id": "659f1a4a-c23c-4211-bc11-fda10819e5e9",
   "metadata": {},
   "outputs": [
    {
     "name": "stdout",
     "output_type": "stream",
     "text": [
      "Failed to execute query: 'NoneType' object is not subscriptable\n"
     ]
    }
   ],
   "source": [
    "### any other command except df and pd should not run \n",
    "try:\n",
    "    result = csv_tool.invoke({'path': path_to_csv, 'query': \"print(__import__('os').listdir())\"})\n",
    "    print(result)\n",
    "except Exception as e:\n",
    "    print(e)"
   ]
  },
  {
   "cell_type": "code",
   "execution_count": null,
   "id": "33263a5b-0957-47cf-9671-02a529cddad2",
   "metadata": {},
   "outputs": [],
   "source": []
  },
  {
   "cell_type": "code",
   "execution_count": null,
   "id": "d9665c6b-3629-4fc4-9f6a-f44e2a5642e0",
   "metadata": {},
   "outputs": [],
   "source": []
  },
  {
   "cell_type": "code",
   "execution_count": null,
   "id": "cb453a80-035b-480f-9073-d3cd37f0a71f",
   "metadata": {},
   "outputs": [],
   "source": []
  },
  {
   "cell_type": "code",
   "execution_count": null,
   "id": "75729e57-fec6-4864-8f22-d0c21c7f2a37",
   "metadata": {},
   "outputs": [],
   "source": []
  },
  {
   "cell_type": "code",
   "execution_count": null,
   "id": "6004a21d-1a0f-423b-9eee-4b0293c0bac7",
   "metadata": {},
   "outputs": [],
   "source": []
  },
  {
   "cell_type": "code",
   "execution_count": null,
   "id": "520d1340-2ec9-4280-99b1-737efe2f14e8",
   "metadata": {},
   "outputs": [],
   "source": []
  },
  {
   "cell_type": "code",
   "execution_count": null,
   "id": "512eec4c-51ac-49c6-b58b-472f4dde23bf",
   "metadata": {},
   "outputs": [],
   "source": []
  }
 ],
 "metadata": {
  "kernelspec": {
   "display_name": "Python 3 (ipykernel)",
   "language": "python",
   "name": "python3"
  },
  "language_info": {
   "codemirror_mode": {
    "name": "ipython",
    "version": 3
   },
   "file_extension": ".py",
   "mimetype": "text/x-python",
   "name": "python",
   "nbconvert_exporter": "python",
   "pygments_lexer": "ipython3",
   "version": "3.9.7"
  }
 },
 "nbformat": 4,
 "nbformat_minor": 5
}
