{
 "cells": [
  {
   "cell_type": "code",
   "execution_count": null,
   "id": "a9af149f-abb8-47ef-a243-aa80733457ae",
   "metadata": {},
   "outputs": [],
   "source": [
    "!pip install langchain-experimental tabulate"
   ]
  },
  {
   "cell_type": "code",
   "execution_count": 1,
   "id": "d30ce354-1c1d-4f79-8bfe-c24c353c95d1",
   "metadata": {},
   "outputs": [],
   "source": [
    "import sys\n",
    "sys.path.append(\"llmapslab\")\n",
    "import os\n",
    "import json\n",
    "import re\n",
    "from  openai import OpenAI\n",
    "from langchain_openai import ChatOpenAI"
   ]
  },
  {
   "cell_type": "code",
   "execution_count": 2,
   "id": "c53a76d8-be91-4da4-9a0d-caac5a368cd8",
   "metadata": {},
   "outputs": [],
   "source": [
    "with open('../secrets.json', 'r') as jsonfile:\n",
    "    configs = json.load(jsonfile)"
   ]
  },
  {
   "cell_type": "code",
   "execution_count": 3,
   "id": "6d36f93f-2bd9-4bbd-90b5-044a2fe2aa9f",
   "metadata": {},
   "outputs": [
    {
     "name": "stdout",
     "output_type": "stream",
     "text": [
      "content=\"J'aime la programmation.\" response_metadata={'token_usage': {'completion_tokens': 5, 'prompt_tokens': 28, 'total_tokens': 33}, 'model_name': 'gpt-4o-mini-2024-07-18', 'system_fingerprint': 'fp_611b667b19', 'finish_reason': 'stop', 'logprobs': None} id='run-01d84fc3-e0b3-4373-b0fa-9fba1b0c437f-0' usage_metadata={'input_tokens': 28, 'output_tokens': 5, 'total_tokens': 33}\n"
     ]
    }
   ],
   "source": [
    "openai_api_key = configs.get('openai_api_key')\n",
    "messages = [\n",
    "    (\n",
    "        \"system\",\n",
    "        \"You are a helpful translator. Translate the user sentence to French.\",\n",
    "    ),\n",
    "    (\"human\", \"I love programming.\"),\n",
    "]\n",
    "\n",
    "llm = ChatOpenAI(\n",
    "    api_key=openai_api_key,\n",
    "    model=\"gpt-4o-mini-2024-07-18\",\n",
    "    # model=\"gpt-4o-mini-2024-07-18\",\n",
    "    # model=\"gpt-4o\"\n",
    "    )\n",
    "response = llm.invoke(messages)\n",
    "print(response)"
   ]
  },
  {
   "cell_type": "code",
   "execution_count": null,
   "id": "71e6d108-2bfa-4ea3-b97d-e639453247d6",
   "metadata": {},
   "outputs": [],
   "source": []
  },
  {
   "cell_type": "code",
   "execution_count": null,
   "id": "48088406-7d06-4bd3-9f77-2c6203a3e074",
   "metadata": {},
   "outputs": [],
   "source": []
  },
  {
   "cell_type": "code",
   "execution_count": null,
   "id": "094fd7ca-4f70-41f7-8f4c-0a1eae5c9060",
   "metadata": {},
   "outputs": [],
   "source": []
  },
  {
   "cell_type": "code",
   "execution_count": null,
   "id": "add38de2-aad6-4db4-a4e7-669f77cbe230",
   "metadata": {},
   "outputs": [],
   "source": []
  },
  {
   "cell_type": "code",
   "execution_count": 4,
   "id": "aa3f9e67-7a62-47e8-ac8b-adb4bccda2ea",
   "metadata": {},
   "outputs": [
    {
     "name": "stdout",
     "output_type": "stream",
     "text": [
      "True\n",
      "['../data/country_eng.csv', '../data/custom_2020.csv', '../data/Mobile-Price-Prediction-cleaned_data.csv']\n"
     ]
    }
   ],
   "source": [
    "data_path = os.path.join(os.pardir, \"data/\")\n",
    "print(os.path.exists(data_path))\n",
    "from glob import glob\n",
    "csv_files = glob(data_path +'*.csv')\n",
    "print(csv_files)"
   ]
  },
  {
   "cell_type": "code",
   "execution_count": 5,
   "id": "88477da4-cb01-4852-81c5-e314641b7f7b",
   "metadata": {},
   "outputs": [
    {
     "name": "stdout",
     "output_type": "stream",
     "text": [
      "langchain                 0.2.11\n",
      "langchain-community       0.2.10\n",
      "langchain-core            0.2.23\n",
      "langchain-openai          0.1.17\n",
      "langchain-text-splitters  0.2.2\n",
      "langgraph                 0.1.16\n",
      "langsmith                 0.1.93\n",
      "\u001b[33mWARNING: You are using pip version 21.2.3; however, version 24.1.2 is available.\n",
      "You should consider upgrading via the '/mnt/d/myDev/llmapps/venv/bin/python -m pip install --upgrade pip' command.\u001b[0m\n"
     ]
    }
   ],
   "source": [
    "!pip list|grep lang"
   ]
  },
  {
   "cell_type": "code",
   "execution_count": 6,
   "id": "1342c4fb-917f-464c-8393-a348fd4c9ffb",
   "metadata": {
    "scrolled": true
   },
   "outputs": [],
   "source": [
    "from langchain_community.tools.tavily_search import TavilySearchResults"
   ]
  },
  {
   "cell_type": "code",
   "execution_count": 21,
   "id": "7535c64a-8b8d-4f5b-badb-6f7d10ce871e",
   "metadata": {},
   "outputs": [],
   "source": [
    "from langchain_experimental.agents import create_csv_agent            \n",
    "agent_executor = create_csv_agent(\n",
    "    llm,\n",
    "    csv_files[0],\n",
    "    agent_type=\"openai-tools\",\n",
    "    verbose=True,\n",
    "    allow_dangerous_code=True,\n",
    "    # return_direct=True\n",
    ")"
   ]
  },
  {
   "cell_type": "code",
   "execution_count": 23,
   "id": "47db2cf2-137d-4cf9-bf13-e6aa4ebdafd8",
   "metadata": {},
   "outputs": [
    {
     "name": "stdout",
     "output_type": "stream",
     "text": [
      "\n",
      "\n",
      "\u001b[1m> Entering new AgentExecutor chain...\u001b[0m\n",
      "\u001b[32;1m\u001b[1;3m\n",
      "Invoking: `python_repl_ast` with `{'query': 'len(df)'}`\n",
      "\n",
      "\n",
      "\u001b[0m\u001b[36;1m\u001b[1;3m232\u001b[0m\u001b[32;1m\u001b[1;3mThere are 232 rows in the dataframe.\u001b[0m\n",
      "\n",
      "\u001b[1m> Finished chain.\u001b[0m\n"
     ]
    },
    {
     "data": {
      "text/plain": [
       "{'input': 'how many rows are there',\n",
       " 'output': 'There are 232 rows in the dataframe.'}"
      ]
     },
     "execution_count": 23,
     "metadata": {},
     "output_type": "execute_result"
    }
   ],
   "source": [
    "agent_executor.invoke({\"input\": \"how many rows are there\"})"
   ]
  },
  {
   "cell_type": "code",
   "execution_count": 24,
   "id": "cecd521d-0b3c-4c39-ba5f-5ea711ab3085",
   "metadata": {
    "scrolled": true
   },
   "outputs": [
    {
     "name": "stdout",
     "output_type": "stream",
     "text": [
      "\n",
      "\n",
      "\u001b[1m> Entering new AgentExecutor chain...\u001b[0m\n",
      "\u001b[32;1m\u001b[1;3m\n",
      "Invoking: `python_repl_ast` with `{'query': 'len(df)'}`\n",
      "\n",
      "\n",
      "\u001b[0m\u001b[36;1m\u001b[1;3m232\u001b[0m\u001b[32;1m\u001b[1;3mThere are 232 rows in the dataframe `df`.\u001b[0m\n",
      "\n",
      "\u001b[1m> Finished chain.\u001b[0m\n"
     ]
    },
    {
     "data": {
      "text/plain": [
       "{'input': 'how many rows are there',\n",
       " 'output': 'There are 232 rows in the dataframe `df`.'}"
      ]
     },
     "execution_count": 24,
     "metadata": {},
     "output_type": "execute_result"
    }
   ],
   "source": [
    "agent_executor.invoke({\"input\": \"how many rows are there\"}, return_direct=True)"
   ]
  },
  {
   "cell_type": "code",
   "execution_count": 26,
   "id": "7a3de2bc-2bad-48b0-9403-77fb105dd199",
   "metadata": {},
   "outputs": [],
   "source": [
    "# help(agent_executor)"
   ]
  },
  {
   "cell_type": "markdown",
   "id": "fbc481b1-7d51-4eae-bd7e-b3ef24421097",
   "metadata": {},
   "source": [
    "https://python.langchain.com/v0.2/docs/concepts/#functiontool-calling\n",
    "https://python.langchain.com/v0.2/docs/how_to/tool_calling/\n",
    "https://python.langchain.com/v0.2/docs/concepts/#functiontool-calling\n",
    "https://python.langchain.com/v0.2/docs/concepts/#agents\n",
    "https://python.langchain.com/v0.2/docs/how_to/migrate_agent/\n",
    "https://github.com/langchain-ai/langgraph\n",
    "https://langchain-ai.github.io/langgraph/concepts/"
   ]
  }
 ],
 "metadata": {
  "kernelspec": {
   "display_name": "Python 3 (ipykernel)",
   "language": "python",
   "name": "python3"
  },
  "language_info": {
   "codemirror_mode": {
    "name": "ipython",
    "version": 3
   },
   "file_extension": ".py",
   "mimetype": "text/x-python",
   "name": "python",
   "nbconvert_exporter": "python",
   "pygments_lexer": "ipython3",
   "version": "3.9.7"
  }
 },
 "nbformat": 4,
 "nbformat_minor": 5
}
