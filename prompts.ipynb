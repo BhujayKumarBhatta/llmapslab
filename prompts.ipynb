{
 "cells": [
  {
   "cell_type": "markdown",
   "id": "e32b637a-1a60-466d-8d5b-9255a72f2986",
   "metadata": {},
   "source": [
    "### Imports"
   ]
  },
  {
   "cell_type": "code",
   "execution_count": 1,
   "id": "bb80fb63-7197-421c-9eb7-d3b7aed8a174",
   "metadata": {},
   "outputs": [],
   "source": [
    "import sys\n",
    "sys.path.append(\"llmapslab\")\n",
    "import os\n",
    "import json\n",
    "import re\n",
    "from openai_client import call_openai_api"
   ]
  },
  {
   "cell_type": "markdown",
   "id": "dcb1e1e4-f00b-4165-bef1-e3b3167202fc",
   "metadata": {},
   "source": [
    "## input message format for openai"
   ]
  },
  {
   "cell_type": "code",
   "execution_count": 3,
   "id": "be24207a-7503-4397-8d5d-9f377010882b",
   "metadata": {},
   "outputs": [
    {
     "name": "stdout",
     "output_type": "stream",
     "text": [
      "ChatCompletion(id='chatcmpl-9s8PGjWm8qyfrXrqhtV035WCwEvA8', choices=[Choice(finish_reason='stop', index=0, logprobs=None, message=ChatCompletionMessage(content='The capital of France is Paris.', role='assistant', function_call=None, tool_calls=None))], created=1722689054, model='gpt-4o-mini-2024-07-18', object='chat.completion', service_tier=None, system_fingerprint='fp_9b0abffe81', usage=CompletionUsage(completion_tokens=7, prompt_tokens=24, total_tokens=31))\n"
     ]
    }
   ],
   "source": [
    "messages = [\n",
    "    {\"role\": \"system\", \"content\": \"You are a helpful assistant.\"},\n",
    "    {\"role\": \"user\", \"content\": \"What is the capital of France?\"}\n",
    "]\n",
    "response = call_openai_api(messages)\n",
    "print(response)"
   ]
  },
  {
   "cell_type": "code",
   "execution_count": 4,
   "id": "9f10fe58-68d9-467b-a8d1-2ff1a3577519",
   "metadata": {},
   "outputs": [
    {
     "data": {
      "text/plain": [
       "'The capital of France is Paris.'"
      ]
     },
     "execution_count": 4,
     "metadata": {},
     "output_type": "execute_result"
    }
   ],
   "source": [
    "response.choices[0].message.content"
   ]
  },
  {
   "cell_type": "code",
   "execution_count": null,
   "id": "91067b6a-2d29-4ef7-96fb-082c37e0e2c6",
   "metadata": {},
   "outputs": [],
   "source": []
  },
  {
   "cell_type": "code",
   "execution_count": null,
   "id": "cd8f0411-1cef-4c32-9454-bab13199d7e8",
   "metadata": {},
   "outputs": [],
   "source": []
  },
  {
   "cell_type": "code",
   "execution_count": null,
   "id": "da72c68a-033a-47b2-b51b-28d0aa5cd2a3",
   "metadata": {},
   "outputs": [],
   "source": []
  },
  {
   "cell_type": "code",
   "execution_count": null,
   "id": "e2e4b30e-d57c-4431-8d3f-4e356d53d63b",
   "metadata": {},
   "outputs": [],
   "source": []
  },
  {
   "cell_type": "code",
   "execution_count": null,
   "id": "d7b62110-64ea-46d5-999f-8d8120a10638",
   "metadata": {},
   "outputs": [],
   "source": []
  },
  {
   "cell_type": "code",
   "execution_count": null,
   "id": "76aa1d21-f339-4a2c-95db-28e67de3d926",
   "metadata": {},
   "outputs": [],
   "source": []
  },
  {
   "cell_type": "code",
   "execution_count": null,
   "id": "bcc21e43-b1c5-4c3f-a1d2-1546212c71bf",
   "metadata": {},
   "outputs": [],
   "source": []
  },
  {
   "cell_type": "code",
   "execution_count": null,
   "id": "56cb6112-7eec-4831-966f-753ce178bf19",
   "metadata": {},
   "outputs": [],
   "source": []
  },
  {
   "cell_type": "code",
   "execution_count": null,
   "id": "ca5cc0c4-1759-4d9d-94f3-a62997467b3e",
   "metadata": {},
   "outputs": [],
   "source": []
  }
 ],
 "metadata": {
  "kernelspec": {
   "display_name": "Python 3 (ipykernel)",
   "language": "python",
   "name": "python3"
  },
  "language_info": {
   "codemirror_mode": {
    "name": "ipython",
    "version": 3
   },
   "file_extension": ".py",
   "mimetype": "text/x-python",
   "name": "python",
   "nbconvert_exporter": "python",
   "pygments_lexer": "ipython3",
   "version": "3.9.7"
  }
 },
 "nbformat": 4,
 "nbformat_minor": 5
}
