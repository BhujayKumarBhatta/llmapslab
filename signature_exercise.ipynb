{
 "cells": [
  {
   "cell_type": "code",
   "execution_count": 3,
   "id": "e66ca0aa-9e77-408f-baf8-0a081ff0c302",
   "metadata": {},
   "outputs": [],
   "source": [
    "from inspect import signature"
   ]
  },
  {
   "cell_type": "code",
   "execution_count": 4,
   "id": "77fe36dd-a71f-44c1-bbf4-34528a4fd314",
   "metadata": {},
   "outputs": [
    {
     "name": "stdout",
     "output_type": "stream",
     "text": [
      "(x, y, z=1)\n",
      "Help on method bind in module inspect:\n",
      "\n",
      "bind(*args, **kwargs) method of inspect.Signature instance\n",
      "    Get a BoundArguments object, that maps the passed `args`\n",
      "    and `kwargs` to the function's signature.  Raises `TypeError`\n",
      "    if the passed arguments can not be bound.\n",
      "\n"
     ]
    }
   ],
   "source": [
    "def test_func(x, y, z=1):\n",
    "    return x + y + z\n",
    "\n",
    "sig = signature(test_func)\n",
    "print(sig)\n",
    "help(sig.bind)"
   ]
  },
  {
   "cell_type": "code",
   "execution_count": 5,
   "id": "69acc0d3-d654-409e-8985-a22d3694715f",
   "metadata": {},
   "outputs": [
    {
     "name": "stdout",
     "output_type": "stream",
     "text": [
      "<BoundArguments (x=1, y=2)>\n",
      "{'x': 1, 'y': 2}\n",
      "(1, 2)\n",
      "{}\n",
      "<BoundArguments (x=1, y=2)>\n"
     ]
    }
   ],
   "source": [
    "# bind checks if the provided arguments match the function's parameters.\n",
    "# It fills in defaults for any parameters that have default values and are not provided with arguments.\n",
    "bound_args = sig.bind(1, 2)\n",
    "print(bound_args)  # Outputs: <BoundArguments (x=1, y=2, z=10)>\n",
    "print(bound_args.arguments)\n",
    "print(bound_args.args)\n",
    "print(bound_args.kwargs)\n",
    "bound_args = sig.bind(x=1, y=2)\n",
    "print(bound_args)  # Outputs: <BoundArguments (x=1, y=2, z=10)>"
   ]
  },
  {
   "cell_type": "code",
   "execution_count": 6,
   "id": "fc92580e-e16d-4162-b9bc-6fec3ad9643a",
   "metadata": {},
   "outputs": [
    {
     "name": "stdout",
     "output_type": "stream",
     "text": [
      "4\n"
     ]
    }
   ],
   "source": [
    "result = test_func(*bound_args.args)\n",
    "print(result)"
   ]
  },
  {
   "cell_type": "code",
   "execution_count": 7,
   "id": "bff7acfe-26d9-4acd-9dfe-63ed156c35ae",
   "metadata": {},
   "outputs": [
    {
     "name": "stdout",
     "output_type": "stream",
     "text": [
      "<BoundArguments (x=1)>\n"
     ]
    }
   ],
   "source": [
    "# partial_bind allows for the function call to be prepared even if not all parameters are satisfied.\n",
    "# This is unlike bind, which would raise an error if all required parameters were not provided.\n",
    "partial_bound_args = sig.bind_partial(1)\n",
    "print(partial_bound_args)  # Outputs: <BoundArguments (x=1)>"
   ]
  },
  {
   "cell_type": "code",
   "execution_count": 8,
   "id": "dee40146-c22c-4497-a5d0-9451e779ed33",
   "metadata": {},
   "outputs": [
    {
     "name": "stdout",
     "output_type": "stream",
     "text": [
      "23\n"
     ]
    }
   ],
   "source": [
    "partial_bound_args.arguments['y'] = 2\n",
    "if 'z' not in partial_bound_args.arguments:\n",
    "    partial_bound_args.arguments['z'] = 20  # Update or provide more arguments later\n",
    "args, kwargs = partial_bound_args.args, partial_bound_args.kwargs\n",
    "result = test_func(*args, **kwargs)  # This effectively calls test_func(1, 2, 20)\n",
    "print(result)  # Outputs: 23\n"
   ]
  },
  {
   "cell_type": "markdown",
   "id": "0ebbde4d-2e5e-408c-9d58-5bec80c8277f",
   "metadata": {},
   "source": [
    "# Dynamic Function Calls"
   ]
  },
  {
   "cell_type": "markdown",
   "id": "187e2d17-d8d2-4f0f-8271-9d2ffd2adb9c",
   "metadata": {},
   "source": [
    "In dynamic systems, especially where functions or methods may be invoked based on conditions or configurations that change at runtime, pre-validating arguments using bind() ensures that the function will not fail due to missing or unexpected arguments when it is finally called."
   ]
  },
  {
   "cell_type": "code",
   "execution_count": 9,
   "id": "22565ab4-1d78-47bc-b381-5406ed8a5600",
   "metadata": {},
   "outputs": [
    {
     "name": "stdout",
     "output_type": "stream",
     "text": [
      "Plugin A processing test with some data\n",
      "Failed to call plugin b: missing a required argument: 'data'\n"
     ]
    }
   ],
   "source": [
    "\n",
    "from inspect import signature\n",
    "\n",
    "def plugin_a(name, data):\n",
    "    print(f\"Plugin A processing {name} with {data}\")\n",
    "\n",
    "def plugin_b(name, data, flag):\n",
    "    print(f\"Plugin B processing {name} with {data} and flag={flag}\")\n",
    "\n",
    "plugin_registry = {\n",
    "    'a': plugin_a,\n",
    "    'b': plugin_b\n",
    "}\n",
    "\n",
    "def call_plugin(plugin_name, **kwargs):\n",
    "    plugin = plugin_registry[plugin_name]\n",
    "    sig = signature(plugin)\n",
    "    try:\n",
    "        bound_args = sig.bind(**kwargs)\n",
    "        plugin(**bound_args.arguments)\n",
    "    except TypeError as e:\n",
    "        print(f\"Failed to call plugin {plugin_name}: {e}\")\n",
    "\n",
    "# Correct call\n",
    "call_plugin('a', name='test', data='some data')\n",
    "\n",
    "# Call with missing arguments\n",
    "call_plugin('b', name='test')"
   ]
  },
  {
   "cell_type": "markdown",
   "id": "8a90cc9b-0315-4a5f-880b-004b63bc969d",
   "metadata": {},
   "source": [
    "# Validation of Arguments"
   ]
  },
  {
   "cell_type": "markdown",
   "id": "d1ff498d-2ea1-47b9-80e1-3b3d45ddb911",
   "metadata": {},
   "source": [
    "The direct use of bind() in a testing or debugging environment ensures that functions are only called if they can be called correctly, thus preventing runtime errors and improving the stability of the application."
   ]
  },
  {
   "cell_type": "code",
   "execution_count": 10,
   "id": "97a63c1c-aad5-4b0f-a0b9-439bf7dfcd65",
   "metadata": {},
   "outputs": [
    {
     "name": "stdout",
     "output_type": "stream",
     "text": [
      "Arguments are valid.\n",
      "Argument validation failed: missing a required argument: 'y'\n"
     ]
    }
   ],
   "source": [
    "\n",
    "def process_data(x, y, option=False):\n",
    "    if option:\n",
    "        return x * y\n",
    "    else:\n",
    "        return x + y\n",
    "\n",
    "def validate_args(func, *args, **kwargs):\n",
    "    sig = signature(func)\n",
    "    try:\n",
    "        sig.bind(*args, **kwargs)\n",
    "        print(\"Arguments are valid.\")\n",
    "    except TypeError as e:\n",
    "        print(f\"Argument validation failed: {e}\")\n",
    "\n",
    "validate_args(process_data, 1, 2)\n",
    "validate_args(process_data, 1)  # Will fail\n"
   ]
  },
  {
   "cell_type": "markdown",
   "id": "d68c834c-a4e2-435c-a302-82fe333bdf88",
   "metadata": {},
   "source": [
    "# Partial Configuration# Partial Configuration"
   ]
  },
  {
   "cell_type": "markdown",
   "id": "f87c9fb8-6b5d-4a8e-a2a5-72b64c7db7bc",
   "metadata": {},
   "source": [
    "In systems where configuration data may not be available all at once, partial_bind() allows for a staged setup where arguments are validated and stored as they become available, preventing premature function execution."
   ]
  },
  {
   "cell_type": "code",
   "execution_count": 11,
   "id": "9def54c4-7816-4301-8bb0-8ca25833ead2",
   "metadata": {},
   "outputs": [
    {
     "name": "stdout",
     "output_type": "stream",
     "text": [
      "Configuring system with operation=initialize, value=10, mode=verbose\n"
     ]
    }
   ],
   "source": [
    "\n",
    "def configure_system(operation, value, mode=None):\n",
    "    print(f\"Configuring system with operation={operation}, value={value}, mode={mode}\")\n",
    "\n",
    "sig = signature(configure_system)\n",
    "partial = sig.bind_partial(operation='initialize')\n",
    "\n",
    "# Later in the code, when more information is available:\n",
    "partial.arguments.update(value=10, mode='verbose')\n",
    "partial.apply_defaults()\n",
    "\n",
    "configure_system(*partial.args, **partial.kwargs)\n"
   ]
  },
  {
   "cell_type": "markdown",
   "id": "c458d942-228f-4c14-a9a7-69b80bfe7a2c",
   "metadata": {},
   "source": [
    "# Adapting function to different context "
   ]
  },
  {
   "cell_type": "markdown",
   "id": "227a4450-24be-4759-a107-d7a6298ba784",
   "metadata": {},
   "source": [
    "These binding methods help adapt functions with more flexible signatures to specific contexts without modifying the function bodies themselves.\n",
    "\n",
    "Wrapper Functions: They can be used to create wrapper functions that modify the behavior of the original functions by pre-binding some of their parameters.\n",
    "Dependency Injection: In frameworks that use dependency injection, bind and partial_bind can be used to inject dependencies into functions at runtime."
   ]
  },
  {
   "cell_type": "code",
   "execution_count": 19,
   "id": "1fb7d987-1c62-4aac-97e4-2ed5130268c8",
   "metadata": {},
   "outputs": [
    {
     "name": "stdout",
     "output_type": "stream",
     "text": [
      "generic_function: 103\n",
      "special_func: 503\n"
     ]
    }
   ],
   "source": [
    "def generic_function(x, y, z=100):\n",
    "    return x + y + z\n",
    "print('generic_function:',generic_function(1, 2))\n",
    "\n",
    "def create_context_specific_function(func, **preset_args):\n",
    "    sig = signature(func)\n",
    "    bound = sig.bind_partial(**preset_args)\n",
    "\n",
    "    def wrapper(*args, **kwargs):\n",
    "        bound_args = bound.arguments.copy()\n",
    "        bound_args.update(kwargs)\n",
    "        return func(*args, **bound_args)\n",
    "    return wrapper\n",
    "\n",
    "special_func = create_context_specific_function(generic_function, z=500)\n",
    "signature(special_func)\n",
    "print('special_func:',special_func(1, 2))"
   ]
  },
  {
   "cell_type": "markdown",
   "id": "83c857eb-c628-4b66-9225-6eac45106a5e",
   "metadata": {},
   "source": [
    "# Complex Workflows and Middleware"
   ]
  },
  {
   "cell_type": "markdown",
   "id": "d450ce52-4e20-4bc4-82e5-a3c156448263",
   "metadata": {},
   "source": [
    "complex workflows or middleware, where a request might pass through several layers of processing, these methods can ensure that each layer correctly receives and handles the parameters it needs.\n",
    "\n",
    "Multi-stage Processing: They facilitate the creation of processing pipelines where each stage can dynamically determine whether it can handle a request based on the parameters it receives.\n",
    "Practical Example\n",
    "Imagine a web application framework where controller functions take various parameters: some mandatory, some optional. Before routing a request to a controller, the framework can use partial_bind to attach available query parameters and bind to ensure all required parameters are present before calling the controller, thus avoiding runtime errors and simplifying error handling.\n",
    "\n",
    "By using bind and partial_bind, developers can create more robust, adaptable, and maintainable code structures that handle a wide range of dynamic calling scenarios efficiently."
   ]
  },
  {
   "cell_type": "code",
   "execution_count": 23,
   "id": "ea1e4cfa-043d-4cd4-b6d1-2622c252b0e8",
   "metadata": {},
   "outputs": [
    {
     "data": {
      "text/plain": [
       "'user id is 1234'"
      ]
     },
     "execution_count": 23,
     "metadata": {},
     "output_type": "execute_result"
    }
   ],
   "source": [
    "def middleware(request, response, func, **route_kwargs):\n",
    "    sig = signature(func)\n",
    "    try:\n",
    "        bound_args = sig.bind(request=request, response=response, **route_kwargs)\n",
    "        return func(**bound_args.arguments)\n",
    "    except TypeError as e:\n",
    "        response.status_code = 400\n",
    "        return f\"Bad request: {e}\"\n",
    "\n",
    "def controller(request, response, user_id):\n",
    "    return f\"user id is {user_id}\"\n",
    "\n",
    "middleware({}, {}, controller, user_id=1234)\n",
    "        "
   ]
  },
  {
   "cell_type": "markdown",
   "id": "2a4c11fe-b1bf-4aa1-a380-fc0794154405",
   "metadata": {},
   "source": [
    "# functools.partial "
   ]
  },
  {
   "cell_type": "code",
   "execution_count": 24,
   "id": "acb3c061-6c6f-4333-a5e9-f760720b9100",
   "metadata": {},
   "outputs": [
    {
     "name": "stdout",
     "output_type": "stream",
     "text": [
      "16\n",
      "25\n"
     ]
    }
   ],
   "source": [
    "import functools\n",
    "\n",
    "def power(base, exponent):\n",
    "    return base ** exponent\n",
    "\n",
    "# Create a new function that always squares the number\n",
    "square = functools.partial(power, exponent=2)\n",
    "\n",
    "print(square(4))  # Outputs: 16\n",
    "print(square(5))  # Outputs: 25"
   ]
  },
  {
   "cell_type": "code",
   "execution_count": 25,
   "id": "e21e9d5b-45c7-4368-8ca1-3b1545e1a8b4",
   "metadata": {},
   "outputs": [
    {
     "name": "stdout",
     "output_type": "stream",
     "text": [
      "Hello, Alice!\n"
     ]
    }
   ],
   "source": [
    "def greet(name, greeting):\n",
    "    print(f\"{greeting}, {name}!\")\n",
    "\n",
    "wish_hello = functools.partial(greet, greeting=\"Hello\")\n",
    "wish_hello(\"Alice\")  # Outputs: Hello, Alice!\n"
   ]
  },
  {
   "cell_type": "code",
   "execution_count": 31,
   "id": "75528fd3-a2bb-4aaa-ad85-86a69dd59fb8",
   "metadata": {},
   "outputs": [
    {
     "data": {
      "application/vnd.jupyter.widget-view+json": {
       "model_id": "e07a34adadef4736bccbf8c6b8b4ee1d",
       "version_major": 2,
       "version_minor": 0
      },
      "text/plain": [
       "Text(value='Hello World')"
      ]
     },
     "metadata": {},
     "output_type": "display_data"
    },
    {
     "data": {
      "application/vnd.jupyter.widget-view+json": {
       "model_id": "2b11227173744f6988e76e04ccc1863c",
       "version_major": 2,
       "version_minor": 0
      },
      "text/plain": [
       "Button(description='Update Label', style=ButtonStyle())"
      ]
     },
     "metadata": {},
     "output_type": "display_data"
    },
    {
     "data": {
      "application/vnd.jupyter.widget-view+json": {
       "model_id": "a4b202a7364147ebb83689338bd66cbf",
       "version_major": 2,
       "version_minor": 0
      },
      "text/plain": [
       "Label(value='')"
      ]
     },
     "metadata": {},
     "output_type": "display_data"
    }
   ],
   "source": [
    "from ipywidgets import widgets, Button, Label, Text\n",
    "import functools\n",
    "def update_label(label, text):\n",
    "    label.value = text.value\n",
    "text_input = Text(value='Hello World')\n",
    "label = Label()  # Start with an empty label\n",
    "button = Button(description=\"Update Label\")\n",
    "# Create a new function that already knows which label to update\n",
    "update_action = functools.partial(update_label, label)\n",
    "def on_button_click(b):\n",
    "    update_action(text=text_input)  # Only need to pass the text input now\n",
    "\n",
    "button.on_click(on_button_click)\n",
    "display(text_input, button, label)\n"
   ]
  },
  {
   "cell_type": "code",
   "execution_count": null,
   "id": "80499db2-bc91-4621-83c8-eddd32edd6d7",
   "metadata": {},
   "outputs": [],
   "source": []
  }
 ],
 "metadata": {
  "kernelspec": {
   "display_name": "Python 3 (ipykernel)",
   "language": "python",
   "name": "python3"
  },
  "language_info": {
   "codemirror_mode": {
    "name": "ipython",
    "version": 3
   },
   "file_extension": ".py",
   "mimetype": "text/x-python",
   "name": "python",
   "nbconvert_exporter": "python",
   "pygments_lexer": "ipython3",
   "version": "3.9.7"
  }
 },
 "nbformat": 4,
 "nbformat_minor": 5
}
