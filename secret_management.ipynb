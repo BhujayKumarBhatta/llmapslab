{
 "cells": [
  {
   "cell_type": "code",
   "execution_count": 15,
   "id": "6800dfc3-f46b-4a03-ab1c-cc186c0c56c0",
   "metadata": {},
   "outputs": [
    {
     "name": "stdout",
     "output_type": "stream",
     "text": [
      "pydantic openai_api_key **********\n"
     ]
    }
   ],
   "source": [
    "import os\n",
    "import sys\n",
    "sys.path.append(\"llmapslab\")\n",
    "from glob import glob\n",
    "import pandas as pd\n",
    "from openai_client import client, call_openai_api\n",
    "\n",
    "import json\n",
    "import re\n",
    "import load_configs\n",
    "import importlib\n",
    "importlib.reload(load_configs)\n",
    "from load_configs import (\n",
    "    openai_api_key,\n",
    "    llama_api_key, ai21_api_key, \n",
    "    gemini_api_key\n",
    ")\n",
    "from openai_client import call_openai_api\n",
    "\n",
    "from langchain_openai import ChatOpenAI\n",
    "print('pydantic openai_api_key', openai_api_key)  #### openai_api_key.get_secret_value()  will print actual key\n",
    "os.environ['OPENAI_API_KEY'] = 'api_key_from_env' ####openai_api_key.get_secret_value()"
   ]
  },
  {
   "cell_type": "code",
   "execution_count": 16,
   "id": "6328f7f1-72f0-4da2-bb71-786093be6c8d",
   "metadata": {},
   "outputs": [],
   "source": [
    "from langchain_community.llms import OpenAI  ### OpenAI should not be used from community, it is deprecated use langchain_openai\n",
    "model = OpenAI()"
   ]
  },
  {
   "cell_type": "code",
   "execution_count": 5,
   "id": "93574c49-6d9f-48e9-a52c-f9d9b92cc501",
   "metadata": {},
   "outputs": [],
   "source": [
    "# openai_api_key.get_secret_value()"
   ]
  },
  {
   "cell_type": "code",
   "execution_count": 17,
   "id": "658c5243-4574-46d7-87f0-13ea2cd13df8",
   "metadata": {},
   "outputs": [
    {
     "data": {
      "text/plain": [
       "'api_key_from_env'"
      ]
     },
     "execution_count": 17,
     "metadata": {},
     "output_type": "execute_result"
    }
   ],
   "source": [
    "model.openai_api_key"
   ]
  },
  {
   "cell_type": "code",
   "execution_count": 18,
   "id": "6c18ebbd-9a19-46ab-b01f-9e5a6c1a3668",
   "metadata": {},
   "outputs": [
    {
     "data": {
      "text/plain": [
       "OpenAI(client=<openai.resources.completions.Completions object at 0x7fb5ee7cc8b0>, async_client=<openai.resources.completions.AsyncCompletions object at 0x7fb5ed166fd0>, openai_api_key='api_key_from_env', openai_proxy='')"
      ]
     },
     "execution_count": 18,
     "metadata": {},
     "output_type": "execute_result"
    }
   ],
   "source": [
    "model"
   ]
  },
  {
   "cell_type": "code",
   "execution_count": 12,
   "id": "f0097181-9c6d-497b-89ba-01772559d3bc",
   "metadata": {},
   "outputs": [],
   "source": [
    "# !pip install langchain_openai"
   ]
  },
  {
   "cell_type": "code",
   "execution_count": 9,
   "id": "d6468663-404d-4bc9-9490-54a6865eb0a5",
   "metadata": {},
   "outputs": [],
   "source": [
    "from langchain_openai import OpenAI as LangChainOpenAI"
   ]
  },
  {
   "cell_type": "code",
   "execution_count": 10,
   "id": "862f66a5-d371-444d-af9a-bba639f6303e",
   "metadata": {},
   "outputs": [],
   "source": [
    "lcmodel = LangChainOpenAI()"
   ]
  },
  {
   "cell_type": "code",
   "execution_count": 11,
   "id": "6bf9c4b0-8725-454e-bfd3-052c60c7fb02",
   "metadata": {},
   "outputs": [
    {
     "data": {
      "text/plain": [
       "SecretStr('**********')"
      ]
     },
     "execution_count": 11,
     "metadata": {},
     "output_type": "execute_result"
    }
   ],
   "source": [
    "lcmodel.openai_api_key"
   ]
  },
  {
   "cell_type": "code",
   "execution_count": 13,
   "id": "05b2097c-3b8f-449b-90bc-aeb982ca551c",
   "metadata": {},
   "outputs": [],
   "source": [
    "lcmodel_2 = LangChainOpenAI(openai_api_key=\"zzxxzzxxzz\")"
   ]
  },
  {
   "cell_type": "code",
   "execution_count": 14,
   "id": "2b6b79c7-c228-4bb8-bde2-95aa4abd9a39",
   "metadata": {},
   "outputs": [
    {
     "data": {
      "text/plain": [
       "SecretStr('**********')"
      ]
     },
     "execution_count": 14,
     "metadata": {},
     "output_type": "execute_result"
    }
   ],
   "source": [
    "lcmodel_2.openai_api_key"
   ]
  },
  {
   "cell_type": "code",
   "execution_count": null,
   "id": "fad3f842-81b2-41eb-808a-66d8ad7d28d6",
   "metadata": {},
   "outputs": [],
   "source": []
  },
  {
   "cell_type": "code",
   "execution_count": null,
   "id": "8c19f0d0-1bb6-41f1-8784-a1f406acc577",
   "metadata": {},
   "outputs": [],
   "source": []
  },
  {
   "cell_type": "markdown",
   "id": "ad0ab8bb-c94e-4252-8318-462838cc1b2c",
   "metadata": {},
   "source": [
    "convert_to_secret_str   - https://github.com/langchain-ai/langchain/blob/master/libs/core/langchain_core/utils/utils.py#L252"
   ]
  },
  {
   "cell_type": "markdown",
   "id": "94e85b14-cd0e-4162-934f-7ef3837d8ee1",
   "metadata": {},
   "source": [
    "openai - https://github.com/langchain-ai/langchain/blob/master/libs/partners/openai/langchain_openai/llms/base.py"
   ]
  },
  {
   "cell_type": "code",
   "execution_count": null,
   "id": "15b0ab1c-1431-4900-90fd-076cf98f2300",
   "metadata": {},
   "outputs": [],
   "source": [
    "@root_validator()\n",
    "    def validate_environment(cls, values: Dict) -> Dict:\n",
    "        \"\"\"Validate that api key and python package exists in environment.\"\"\"\n",
    "        if values[\"n\"] < 1:\n",
    "            raise ValueError(\"n must be at least 1.\")\n",
    "        if values[\"streaming\"] and values[\"n\"] > 1:\n",
    "            raise ValueError(\"Cannot stream results when n > 1.\")\n",
    "        if values[\"streaming\"] and values[\"best_of\"] > 1:\n",
    "            raise ValueError(\"Cannot stream results when best_of > 1.\")\n",
    "\n",
    "        openai_api_key = get_from_dict_or_env(\n",
    "            values, \"openai_api_key\", \"OPENAI_API_KEY\"\n",
    "        )\n",
    "        values[\"openai_api_key\"] = (\n",
    "            convert_to_secret_str(openai_api_key) if openai_api_key else None\n",
    "        )\n",
    "        values[\"openai_api_base\"] = values[\"openai_api_base\"] or os.getenv(\n",
    "            \"OPENAI_API_BASE\"\n",
    "        )\n",
    "        values[\"openai_proxy\"] = get_from_dict_or_env(\n",
    "            values, \"openai_proxy\", \"OPENAI_PROXY\", default=\"\"\n",
    "        )\n",
    "        values[\"openai_organization\"] = (\n",
    "            values[\"openai_organization\"]\n",
    "            or os.getenv(\"OPENAI_ORG_ID\")\n",
    "            or os.getenv(\"OPENAI_ORGANIZATION\")\n",
    "        )\n",
    "\n",
    "        client_params = {\n",
    "            \"api_key\": (\n",
    "                values[\"openai_api_key\"].get_secret_value()\n",
    "                if values[\"openai_api_key\"]\n",
    "                else None\n",
    "            ),\n",
    "            \"organization\": values[\"openai_organization\"],\n",
    "            \"base_url\": values[\"openai_api_base\"],\n",
    "            \"timeout\": values[\"request_timeout\"],\n",
    "            \"max_retries\": values[\"max_retries\"],\n",
    "            \"default_headers\": values[\"default_headers\"],\n",
    "            \"default_query\": values[\"default_query\"],\n",
    "        }\n",
    "        if not values.get(\"client\"):\n",
    "            sync_specific = {\"http_client\": values[\"http_client\"]}\n",
    "            values[\"client\"] = openai.OpenAI(\n",
    "                **client_params, **sync_specific\n",
    "            ).completions\n",
    "        if not values.get(\"async_client\"):\n",
    "            async_specific = {\"http_client\": values[\"http_async_client\"]}\n",
    "            values[\"async_client\"] = openai.AsyncOpenAI(\n",
    "                **client_params, **async_specific\n",
    "            ).completions\n"
   ]
  },
  {
   "cell_type": "code",
   "execution_count": null,
   "id": "3d8fdc84-c142-4c28-8a11-267d6de17ebc",
   "metadata": {},
   "outputs": [],
   "source": []
  }
 ],
 "metadata": {
  "kernelspec": {
   "display_name": "Python 3 (ipykernel)",
   "language": "python",
   "name": "python3"
  },
  "language_info": {
   "codemirror_mode": {
    "name": "ipython",
    "version": 3
   },
   "file_extension": ".py",
   "mimetype": "text/x-python",
   "name": "python",
   "nbconvert_exporter": "python",
   "pygments_lexer": "ipython3",
   "version": "3.9.7"
  }
 },
 "nbformat": 4,
 "nbformat_minor": 5
}
