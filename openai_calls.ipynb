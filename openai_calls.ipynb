{
 "cells": [
  {
   "cell_type": "markdown",
   "id": "cc070494-ca8f-4820-8ba4-36617ee41e77",
   "metadata": {
    "jp-MarkdownHeadingCollapsed": true
   },
   "source": [
    "### Imports"
   ]
  },
  {
   "cell_type": "code",
   "execution_count": 1,
   "id": "bc811ab8-0f5c-4298-9f02-5c5c504a5f50",
   "metadata": {},
   "outputs": [],
   "source": [
    "import sys\n",
    "sys.path.append(\"llmapslab\")\n",
    "import os\n",
    "import json\n",
    "import re\n",
    "from  openai import OpenAI\n",
    "from langchain_openai import ChatOpenAI"
   ]
  },
  {
   "cell_type": "markdown",
   "id": "2b8d7176-2eaa-409a-9e22-a2b9cbaa3933",
   "metadata": {
    "jp-MarkdownHeadingCollapsed": true
   },
   "source": [
    "### setup openai"
   ]
  },
  {
   "cell_type": "markdown",
   "id": "0d52796f-5020-4910-bb70-4ce0c453c496",
   "metadata": {
    "jp-MarkdownHeadingCollapsed": true
   },
   "source": [
    "#### Open AI api access setup \n",
    "- Api access account is not same as the chatgpt account. \n",
    "- setup your project and api key from here https://platform.openai.com/playground/chat?models=gpt-4o-mini-2024-07-18\n",
    "- create a new api key and copy and save it before closing the pop up window. Once the window is closed \n",
    " the key is no more accessable.\n",
    "- before making call to openai ensure you have  balance and keep track of your cost\n",
    "- come back to the playground and try in the gui a simple chat to ensure chat is working\n",
    "https://platform.openai.com/organization/usage"
   ]
  },
  {
   "cell_type": "code",
   "execution_count": 2,
   "id": "f6f083e6-d0f3-4d95-8388-98026fb6ffc2",
   "metadata": {},
   "outputs": [],
   "source": [
    "with open('secrets.json', 'r') as jsonfile:\n",
    "    configs = json.load(jsonfile)\n",
    "\n",
    "client = OpenAI(api_key=configs.get('openai_api_key'),\n",
    "                # organization='Personal',\n",
    "                # project='proj_DqdKUU38qOGVj9Qxdq6UlXcD',\n",
    "               )"
   ]
  },
  {
   "cell_type": "code",
   "execution_count": 3,
   "id": "b8ec1baa-1374-42e7-ba76-eeb920ae44a2",
   "metadata": {},
   "outputs": [],
   "source": [
    "def call_openai_api(client, messages, model=\"gpt-3.5-turbo\", max_retries=5, wait_time=5):\n",
    "    retries = 0\n",
    "    while retries < max_retries:\n",
    "        try:\n",
    "            # Make a request to the OpenAI ChatCompletion API\n",
    "           response = client.chat.completions.create(\n",
    "              model=\"gpt-4o-mini\",\n",
    "              messages=messages,\n",
    "           )\n",
    "           return response\n",
    "        except client.error.RateLimitError:\n",
    "            print(f\"Rate limit exceeded. Retrying in {wait_time} seconds...\")\n",
    "            time.sleep(wait_time)\n",
    "            retries += 1\n",
    "    raise Exception(\"Max retries exceeded. Please check your plan and billing details.\")\n",
    "\n",
    "# Define the conversation messages\n",
    "messages = [\n",
    "    {\"role\": \"system\", \"content\": \"You are a helpful assistant.\"},\n",
    "    {\"role\": \"user\", \"content\": \"What is the capital of France?\"}\n",
    "]\n",
    "\n",
    "# Call the API\n",
    "response = call_openai_api(client, messages)"
   ]
  },
  {
   "cell_type": "code",
   "execution_count": 4,
   "id": "ddef680f-c18d-4482-a74a-ae0b783f98f5",
   "metadata": {},
   "outputs": [
    {
     "name": "stdout",
     "output_type": "stream",
     "text": [
      "ChatCompletion(id='chatcmpl-9onaGO3TrI5Ni42oMMgj3xdt7YP7L', choices=[Choice(finish_reason='stop', index=0, logprobs=None, message=ChatCompletionMessage(content='The capital of France is Paris.', role='assistant', function_call=None, tool_calls=None))], created=1721894028, model='gpt-4o-mini-2024-07-18', object='chat.completion', service_tier=None, system_fingerprint='fp_661538dc1f', usage=CompletionUsage(completion_tokens=7, prompt_tokens=24, total_tokens=31))\n"
     ]
    }
   ],
   "source": [
    "print(response)"
   ]
  },
  {
   "cell_type": "code",
   "execution_count": 5,
   "id": "e66ddd80-c33c-4fc4-907d-ddf5acac3d26",
   "metadata": {},
   "outputs": [
    {
     "data": {
      "text/plain": [
       "ChatCompletionMessage(content='The capital of France is Paris.', role='assistant', function_call=None, tool_calls=None)"
      ]
     },
     "execution_count": 5,
     "metadata": {},
     "output_type": "execute_result"
    }
   ],
   "source": [
    "response.choices[0].message"
   ]
  },
  {
   "cell_type": "code",
   "execution_count": 6,
   "id": "10d15b27-43b1-4751-b89c-c182f77df860",
   "metadata": {
    "jupyter": {
     "source_hidden": true
    }
   },
   "outputs": [
    {
     "data": {
      "text/plain": [
       "'The capital of France is Paris.'"
      ]
     },
     "execution_count": 6,
     "metadata": {},
     "output_type": "execute_result"
    }
   ],
   "source": [
    "response.choices[0].message.content"
   ]
  },
  {
   "cell_type": "markdown",
   "id": "21e87ad0-a382-4723-8382-bbc6e0b8619e",
   "metadata": {
    "jp-MarkdownHeadingCollapsed": true
   },
   "source": [
    "### langchain ChatOpenAI call "
   ]
  },
  {
   "cell_type": "code",
   "execution_count": 7,
   "id": "680e4e0b-baee-4705-9786-0e485f547057",
   "metadata": {},
   "outputs": [
    {
     "name": "stdout",
     "output_type": "stream",
     "text": [
      "content=\"J'adore la programmation.\" response_metadata={'token_usage': {'completion_tokens': 5, 'prompt_tokens': 28, 'total_tokens': 33}, 'model_name': 'gpt-4o-mini-2024-07-18', 'system_fingerprint': 'fp_611b667b19', 'finish_reason': 'stop', 'logprobs': None} id='run-8fc965ae-6800-4111-bb65-1d97ba404354-0' usage_metadata={'input_tokens': 28, 'output_tokens': 5, 'total_tokens': 33}\n"
     ]
    }
   ],
   "source": [
    "openai_api_key = configs.get('openai_api_key')\n",
    "messages = [\n",
    "    (\n",
    "        \"system\",\n",
    "        \"You are a helpful translator. Translate the user sentence to French.\",\n",
    "    ),\n",
    "    (\"human\", \"I love programming.\"),\n",
    "]\n",
    "\n",
    "llm = ChatOpenAI(\n",
    "    api_key=openai_api_key,\n",
    "    model=\"gpt-4o-mini-2024-07-18\",\n",
    "    # model=\"gpt-4o-mini-2024-07-18\",\n",
    "    # model=\"gpt-4o\"\n",
    "    )\n",
    "response = llm.invoke(messages)\n",
    "print(response)"
   ]
  },
  {
   "cell_type": "code",
   "execution_count": 8,
   "id": "1efa0c55-dedf-4716-a5ff-0bc1faee3d17",
   "metadata": {},
   "outputs": [
    {
     "data": {
      "text/plain": [
       "\"J'adore la programmation.\""
      ]
     },
     "execution_count": 8,
     "metadata": {},
     "output_type": "execute_result"
    }
   ],
   "source": [
    "response.content"
   ]
  },
  {
   "cell_type": "code",
   "execution_count": 9,
   "id": "6eae3b1b-01b6-4877-b50b-f4dfe012548a",
   "metadata": {},
   "outputs": [
    {
     "name": "stdout",
     "output_type": "stream",
     "text": [
      "content='To read Excel files in Python, you can use the `pandas` library, which is a powerful data manipulation and analysis library. The `pandas` library has built-in support for reading Excel files through the `read_excel` function.\\n\\nHere\\'s a step-by-step guide to reading an Excel file using `pandas`:\\n\\n### Step 1: Install the Required Libraries\\n\\nMake sure you have `pandas` and `openpyxl` installed. You can install them using pip if you haven\\'t done so:\\n\\n```bash\\npip install pandas openpyxl\\n```\\n\\n### Step 2: Read an Excel File\\n\\nHere\\'s a sample code snippet to read an Excel file:\\n\\n```python\\nimport pandas as pd\\n\\n# Specify the path to your Excel file\\nfile_path = \\'path/to/your/excel_file.xlsx\\'\\n\\n# Read the Excel file\\n# If you want to read a specific sheet, you can specify the sheet name or index\\ndf = pd.read_excel(file_path, sheet_name=\\'Sheet1\\')  # or use sheet_name=0 for the first sheet\\n\\n# Display the DataFrame\\nprint(df)\\n\\n# Optionally, you can also perform further operations on the DataFrame\\n# For example, you can print the first few rows\\nprint(df.head())\\n```\\n\\n### Explanation\\n\\n- **Importing Libraries**: We import the `pandas` library, which provides the functionality to read Excel files.\\n- **File Path**: Set the `file_path` variable to the path of your Excel file. Make sure to use the correct path.\\n- **Reading the Excel File**: The `pd.read_excel()` function reads the Excel file. You can specify the `sheet_name` parameter to read a specific sheet. If you want to read all sheets, you can set `sheet_name=None`, which will return a dictionary of DataFrames.\\n- **Displaying the DataFrame**: You can print the entire DataFrame or just the first few rows with `df.head()`.\\n\\n### Additional Options\\n\\n- If your Excel file contains multiple sheets, you can read them all like this:\\n\\n```python\\n# Read all sheets\\nall_sheets = pd.read_excel(file_path, sheet_name=None)\\n\\n# This will give you a dictionary with sheet names as keys and DataFrames as values\\nfor sheet_name, data in all_sheets.items():\\n    print(f\"Sheet name: {sheet_name}\")\\n    print(data.head())\\n```\\n\\nThis code will read all sheets and print the first few rows of each sheet.\\n\\n### Note\\n\\nMake sure that the Excel file you are trying to read is not open in another application (like Microsoft Excel) while running the script, as it may cause file access issues.\\n\\nThis should help you get started with reading Excel files in Python!' response_metadata={'token_usage': {'completion_tokens': 562, 'prompt_tokens': 21, 'total_tokens': 583}, 'model_name': 'gpt-4o-mini-2024-07-18', 'system_fingerprint': 'fp_661538dc1f', 'finish_reason': 'stop', 'logprobs': None} id='run-651afc28-726d-48f4-aefd-d7a50b54e57e-0' usage_metadata={'input_tokens': 21, 'output_tokens': 562, 'total_tokens': 583}\n"
     ]
    }
   ],
   "source": [
    "messages = [\n",
    "    (\n",
    "        \"system\",\n",
    "        \"You are an assistant\",\n",
    "    ),\n",
    "    (\"human\", \"generate a code to read excel\"),\n",
    "]\n",
    "\n",
    "llm = ChatOpenAI(\n",
    "    api_key=openai_api_key,\n",
    "    model=\"gpt-4o-mini-2024-07-18\",\n",
    "    # model=\"gpt-4o-mini-2024-07-18\",\n",
    "    # model=\"gpt-4o\"\n",
    "    )\n",
    "response = llm.invoke(messages)\n",
    "print(response)"
   ]
  },
  {
   "cell_type": "code",
   "execution_count": 10,
   "id": "5c9d3486-93bb-40c2-baae-7b206cfdeecc",
   "metadata": {},
   "outputs": [
    {
     "name": "stdout",
     "output_type": "stream",
     "text": [
      "To read Excel files in Python, you can use the `pandas` library, which is a powerful data manipulation and analysis library. The `pandas` library has built-in support for reading Excel files through the `read_excel` function.\n",
      "\n",
      "Here's a step-by-step guide to reading an Excel file using `pandas`:\n",
      "\n",
      "### Step 1: Install the Required Libraries\n",
      "\n",
      "Make sure you have `pandas` and `openpyxl` installed. You can install them using pip if you haven't done so:\n",
      "\n",
      "```bash\n",
      "pip install pandas openpyxl\n",
      "```\n",
      "\n",
      "### Step 2: Read an Excel File\n",
      "\n",
      "Here's a sample code snippet to read an Excel file:\n",
      "\n",
      "```python\n",
      "import pandas as pd\n",
      "\n",
      "# Specify the path to your Excel file\n",
      "file_path = 'path/to/your/excel_file.xlsx'\n",
      "\n",
      "# Read the Excel file\n",
      "# If you want to read a specific sheet, you can specify the sheet name or index\n",
      "df = pd.read_excel(file_path, sheet_name='Sheet1')  # or use sheet_name=0 for the first sheet\n",
      "\n",
      "# Display the DataFrame\n",
      "print(df)\n",
      "\n",
      "# Optionally, you can also perform further operations on the DataFrame\n",
      "# For example, you can print the first few rows\n",
      "print(df.head())\n",
      "```\n",
      "\n",
      "### Explanation\n",
      "\n",
      "- **Importing Libraries**: We import the `pandas` library, which provides the functionality to read Excel files.\n",
      "- **File Path**: Set the `file_path` variable to the path of your Excel file. Make sure to use the correct path.\n",
      "- **Reading the Excel File**: The `pd.read_excel()` function reads the Excel file. You can specify the `sheet_name` parameter to read a specific sheet. If you want to read all sheets, you can set `sheet_name=None`, which will return a dictionary of DataFrames.\n",
      "- **Displaying the DataFrame**: You can print the entire DataFrame or just the first few rows with `df.head()`.\n",
      "\n",
      "### Additional Options\n",
      "\n",
      "- If your Excel file contains multiple sheets, you can read them all like this:\n",
      "\n",
      "```python\n",
      "# Read all sheets\n",
      "all_sheets = pd.read_excel(file_path, sheet_name=None)\n",
      "\n",
      "# This will give you a dictionary with sheet names as keys and DataFrames as values\n",
      "for sheet_name, data in all_sheets.items():\n",
      "    print(f\"Sheet name: {sheet_name}\")\n",
      "    print(data.head())\n",
      "```\n",
      "\n",
      "This code will read all sheets and print the first few rows of each sheet.\n",
      "\n",
      "### Note\n",
      "\n",
      "Make sure that the Excel file you are trying to read is not open in another application (like Microsoft Excel) while running the script, as it may cause file access issues.\n",
      "\n",
      "This should help you get started with reading Excel files in Python!\n"
     ]
    }
   ],
   "source": [
    "print(response.content)"
   ]
  },
  {
   "cell_type": "markdown",
   "id": "8debc67c-cf43-49a7-ad37-89f16e5e7343",
   "metadata": {
    "jp-MarkdownHeadingCollapsed": true
   },
   "source": [
    "### Handcrafted Agent "
   ]
  },
  {
   "cell_type": "markdown",
   "id": "15d38244-618a-4c32-9436-63355c015cf2",
   "metadata": {
    "jp-MarkdownHeadingCollapsed": true
   },
   "source": [
    "#### what is agent doing\n",
    "- calling model with a prompt\n",
    "- maintianing a history of conversation"
   ]
  },
  {
   "cell_type": "code",
   "execution_count": 11,
   "id": "784e4092-b8f1-4c18-b7e8-3f6d78f6c38b",
   "metadata": {},
   "outputs": [],
   "source": [
    "class Agent:\n",
    "    def __init__(self, system=\"\"):\n",
    "        self.system = system\n",
    "        self.messages = []\n",
    "        if self.system:\n",
    "            self.messages.append({\"role\": \"system\", \"content\": system})\n",
    "\n",
    "    def __call__(self, message):\n",
    "        self.messages.append({\"role\": \"user\", \"content\": message})\n",
    "        result = self.execute()\n",
    "        self.messages.append({\"role\": \"assistant\", \"content\": result})\n",
    "        return result\n",
    "\n",
    "    def execute(self):\n",
    "        completion = client.chat.completions.create(\n",
    "            model=\"gpt-4o-mini-2024-07-18\",\n",
    "            temperature=0,\n",
    "            messages=self.messages)\n",
    "        return completion.choices[0].message.content"
   ]
  },
  {
   "cell_type": "markdown",
   "id": "b0886b58-7edd-488d-b26a-e884a41ce43e",
   "metadata": {},
   "source": [
    "### A ReAct type prompt for agent "
   ]
  },
  {
   "cell_type": "markdown",
   "id": "e7efc94d-12fb-48e9-9bc8-64c96d6f7269",
   "metadata": {},
   "source": [
    "- Thought:\n",
    "  - user asks a question to model\n",
    "  - model think about a plan of action from the available actions\n",
    "   - Available Actions:\n",
    "     - name of the python function: parameters of the function\n",
    "     - identifying the parameters correctly is critical\n",
    "- Action:\n",
    "  - from the free flow text identify the parameters for  the action\n",
    "  - return the model output as ACtion: function name: paramer\n",
    "  - This output will be parsed by the user or another program later to call the function\n",
    "  - also output 'PAUSE'. Why is this required ? may be external program can use this somehow.\n",
    "- Observation:\n",
    "  - assume that the function was called and result was obrained by user or by anothe program\n",
    "  - the model is now again called with the result along with the history\n",
    "  - the model now get to see:\n",
    "     - The original quesiton from the user\n",
    "     - The actions that it had suggested in terms of function name and its parameters\n",
    "     - the  result from the action\n",
    "- Answer: provide the final answer from the observation and the history of messages as context\n",
    "- Demonstration: give a task demonstration"
   ]
  },
  {
   "cell_type": "code",
   "execution_count": 78,
   "id": "c5a1b357-92e2-4dfd-8ae3-2a9ed77c825a",
   "metadata": {},
   "outputs": [],
   "source": [
    "agent_react_prompt = \"\"\"\n",
    "You run in a loop of Thought, Action, PAUSE, Observation.\n",
    "At the end of the loop you output an Answer\n",
    "Use Thought to describe your thoughts about the question you have been asked.\n",
    "Use Action to run one of the actions available to you - then return PAUSE.\n",
    "Observation will be the result of running those actions.\n",
    "\n",
    "Your available actions are:\n",
    "\n",
    "buy_product:\n",
    "e.g. buy_product: product_name\n",
    "the stock availale is updated with each purchase\n",
    "returns a confirmation message to the user or a regret message when item is not in stock. \n",
    "\n",
    "calculate_revenue:\n",
    "e.g. calculate_revenue: product_name\n",
    "returns revenue for the product or total revenue when no product name is mentioned\n",
    "\n",
    "Example session:\n",
    "\n",
    "Question: I would like to buy a wireless mouse, can you despatch it please ?\n",
    "Thought: I should buy the wireless mouse using the buy_product action\n",
    "Action: buy_product: wireless mouse\n",
    "PAUSE\n",
    "\n",
    "You will be called again with this:\n",
    "\n",
    "Observation: wireless mouse purchase confirmed. Remaining stock 40.\n",
    "\n",
    "You then output:\n",
    "\n",
    "Answer: Thanks for your order. Your wireless mouse has been despatched to you. \n",
    "when the stock is not there you answer should be changed accordingly\n",
    "\"\"\".strip()"
   ]
  },
  {
   "cell_type": "markdown",
   "id": "866a2a35-8af8-4e5c-bc47-9abeee00aab6",
   "metadata": {},
   "source": [
    "### python functions for the agent"
   ]
  },
  {
   "cell_type": "code",
   "execution_count": 79,
   "id": "37c97cfa-8eb9-4ead-98d1-8301035c303a",
   "metadata": {},
   "outputs": [],
   "source": [
    "# def calculate_t(what):\n",
    "#     return eval(what)\n",
    "\n",
    "# def average_dog_weight(name):\n",
    "#     if name in \"Scottish Terrier\":\n",
    "#         return(\"Scottish Terriers average 20 lbs\")\n",
    "#     elif name in \"Border Collie\":\n",
    "#         return(\"a Border Collies average weight is 37 lbs\")\n",
    "#     elif name in \"Toy Poodle\":\n",
    "#         return(\"a toy poodles average weight is 7 lbs\")\n",
    "#     else:\n",
    "#         return(\"An average dog weights 50 lbs\")\n",
    "\n",
    "# known_actions = {\n",
    "#     \"calculate\": calculate,\n",
    "#     \"average_dog_weight\": average_dog_weight\n",
    "# }"
   ]
  },
  {
   "cell_type": "code",
   "execution_count": 80,
   "id": "01160da6-73c2-4a1c-8b4f-b618ffb6409a",
   "metadata": {},
   "outputs": [
    {
     "name": "stdout",
     "output_type": "stream",
     "text": [
      "Wireless Mouse purchase confirmed. Remaining stock 99\n",
      "Mechanical Keyboard purchase confirmed. Remaining stock 49\n",
      "USB-C Hub purchase confirmed. Remaining stock 1\n",
      "Product Smartphone not found.\n",
      "Revenue for Wireless Mouse: $3924.49\n",
      "Revenue for Mechanical Keyboard: $6079.24\n",
      "Total revenue: $14237.52\n",
      "Product Smartphone not found.\n"
     ]
    }
   ],
   "source": [
    "# E-store data\n",
    "estore_data = {\n",
    "    \"products\": [\n",
    "        {\n",
    "            \"id\": 1,\n",
    "            \"name\": \"wireless mouse\",\n",
    "            \"price\": 25.99,\n",
    "            \"quantity_available\": 100,\n",
    "            \"items_sold\": 150\n",
    "        },\n",
    "        {\n",
    "            \"id\": 2,\n",
    "            \"name\": \"mechanical keyboard\",\n",
    "            \"price\": 79.99,\n",
    "            \"quantity_available\": 50,\n",
    "            \"items_sold\": 75\n",
    "        },\n",
    "        {\n",
    "            \"id\": 3,\n",
    "            \"name\": \"usb-c hub\",\n",
    "            \"price\": 34.99,\n",
    "            \"quantity_available\": 2,\n",
    "            \"items_sold\": 120\n",
    "        }\n",
    "    ]\n",
    "}\n",
    "\n",
    "def buy_product(product_name):\n",
    "    for product in estore_data['products']:\n",
    "        if product['name'] == product_name.lower():\n",
    "            if product['quantity_available'] > 0:\n",
    "                product['quantity_available'] -= 1\n",
    "                product['items_sold'] += 1\n",
    "                return f\"{product_name} purchase confirmed. Remaining stock {product['quantity_available']}\"\n",
    "            else:\n",
    "                return f\"Regret, {product_name} is not in stock.\"\n",
    "    return f\"Product {product_name} not found.\"\n",
    "\n",
    "def calculate_revenue(product_name=None):\n",
    "    total_revenue = 0.0\n",
    "    for product in estore_data['products']:\n",
    "        if product_name and product['name'] == product_name.lower():\n",
    "            return f\"Revenue for {product_name}: ${product['items_sold'] * product['price']:.2f}\"\n",
    "        total_revenue += product['items_sold'] * product['price']\n",
    "    if product_name is None:\n",
    "        return f\"Total revenue: ${total_revenue:.2f}\"\n",
    "    return f\"Product {product_name} not found.\"\n",
    "\n",
    "# Example usage:\n",
    "# Buying a product\n",
    "print(buy_product(\"Wireless Mouse\"))  # Wireless Mouse has been dispatched.\n",
    "print(buy_product(\"Mechanical Keyboard\"))  # Mechanical Keyboard has been dispatched.\n",
    "print(buy_product(\"USB-C Hub\"))  # USB-C Hub has been dispatched.\n",
    "print(buy_product(\"Smartphone\"))  # Product Smartphone not found.\n",
    "\n",
    "# Calculating revenue\n",
    "print(calculate_revenue(\"Wireless Mouse\"))  # Revenue for Wireless Mouse: $4158.50\n",
    "print(calculate_revenue(\"Mechanical Keyboard\"))  # Revenue for Mechanical Keyboard: $5992.50\n",
    "print(calculate_revenue())  # Total revenue: $17086.50\n",
    "print(calculate_revenue(\"Smartphone\"))  # Product Smartphone not found.\n",
    "known_actions = {\n",
    "    \"buy_product\": buy_product,\n",
    "    \"calculate_revenue\": calculate_revenue\n",
    "}"
   ]
  },
  {
   "cell_type": "markdown",
   "id": "c2c4fc06-52fe-48b4-94ff-8bce4d3b0375",
   "metadata": {},
   "source": [
    "### Run the agent to get the action name"
   ]
  },
  {
   "cell_type": "code",
   "execution_count": 81,
   "id": "ee5eea2e-9738-49a8-b334-339324f0b770",
   "metadata": {},
   "outputs": [],
   "source": [
    "agent = Agent(agent_react_prompt)"
   ]
  },
  {
   "cell_type": "code",
   "execution_count": 82,
   "id": "c1b8c4b6-c1a9-483c-9d3c-5d872ed6b56c",
   "metadata": {},
   "outputs": [
    {
     "name": "stdout",
     "output_type": "stream",
     "text": [
      "Thought: I need to buy a USB-C hub using the buy_product action to fulfill the order. \n",
      "Action: buy_product: USB-C hub\n",
      "PAUSE\n"
     ]
    }
   ],
   "source": [
    "# result = abot(\"How much does a toy poodle weigh?\")\n",
    "result = agent(\"book me a order for USB-C hub\")\n",
    "print(result)"
   ]
  },
  {
   "cell_type": "markdown",
   "id": "83e8f143-8d0e-46cb-b2dc-4a9259fb4402",
   "metadata": {},
   "source": [
    "### Parse the action name and parameters and manually recall the model for answer"
   ]
  },
  {
   "cell_type": "code",
   "execution_count": 83,
   "id": "b91fb342-5686-4e90-9c90-7289c21f60f2",
   "metadata": {},
   "outputs": [
    {
     "name": "stdout",
     "output_type": "stream",
     "text": [
      "[<re.Match object; span=(0, 30), match='Action: buy_product: USB-C hub'>]\n",
      "buy_product USB-C hub\n"
     ]
    }
   ],
   "source": [
    "def parse_action_name_n_params(result):\n",
    "    result.split('\\n')\n",
    "    pattern_action = re.compile('^Action: (\\w+): (.*)$')\n",
    "    parsed_actions = []\n",
    "    for line in result.split('\\n'):\n",
    "        action_found = pattern_action.match(line)\n",
    "        if action_found:\n",
    "            parsed_actions.append(action_found)\n",
    "    print(parsed_actions)\n",
    "    if parsed_actions:\n",
    "        action, action_input = parsed_actions[0].groups()\n",
    "        print(action, action_input )\n",
    "        return action, action_input\n",
    "    return\n",
    "action, action_input = parse_action_name_n_params(result)"
   ]
  },
  {
   "cell_type": "code",
   "execution_count": 84,
   "id": "a7473d2c-3a84-42ff-96d7-d4c31c4ccd2b",
   "metadata": {},
   "outputs": [
    {
     "name": "stdout",
     "output_type": "stream",
     "text": [
      "USB-C hub purchase confirmed. Remaining stock 0\n"
     ]
    },
    {
     "data": {
      "text/plain": [
       "'Answer: Thanks for your order. Your USB-C hub has been despatched to you.'"
      ]
     },
     "execution_count": 84,
     "metadata": {},
     "output_type": "execute_result"
    }
   ],
   "source": [
    "# result = average_dog_weight(\"Toy Poodle\")\n",
    "result = known_actions[action](action_input)\n",
    "print(result)\n",
    "next_prompt = \"Observation: {}\".format(result)\n",
    "agent(next_prompt)"
   ]
  },
  {
   "cell_type": "markdown",
   "id": "a0456c57-009e-42f3-a426-70ad6be18c45",
   "metadata": {},
   "source": [
    "### Check agent is able to identify different action based on users question"
   ]
  },
  {
   "cell_type": "code",
   "execution_count": 85,
   "id": "7b607e98-66d1-4456-9f66-0c78e87531bf",
   "metadata": {},
   "outputs": [
    {
     "name": "stdout",
     "output_type": "stream",
     "text": [
      "Thought: I need to calculate the revenue generated from the sale of the wireless mouse using the calculate_revenue action. \n",
      "Action: calculate_revenue: wireless mouse\n",
      "PAUSE\n"
     ]
    }
   ],
   "source": [
    "# result = abot(\"what is the result of multiplication of 5 and 20?\")\n",
    "result = agent(\"what is the revenue generated from Wireless Mouse sale? \")\n",
    "print(result)"
   ]
  },
  {
   "cell_type": "code",
   "execution_count": 86,
   "id": "27c5d32a-d663-48fe-8d6c-46b9386b5f13",
   "metadata": {},
   "outputs": [
    {
     "name": "stdout",
     "output_type": "stream",
     "text": [
      "[<re.Match object; span=(0, 41), match='Action: calculate_revenue: wireless mouse'>]\n",
      "calculate_revenue wireless mouse\n",
      "Revenue for wireless mouse: $3924.49\n"
     ]
    },
    {
     "data": {
      "text/plain": [
       "'Answer: The revenue generated from the sale of the wireless mouse is $3924.49.'"
      ]
     },
     "execution_count": 86,
     "metadata": {},
     "output_type": "execute_result"
    }
   ],
   "source": [
    "action, action_input = parse_action_name_n_params(result)\n",
    "result = known_actions[action](action_input)\n",
    "print(result)\n",
    "next_prompt = \"Observation: {}\".format(result)\n",
    "agent(next_prompt)"
   ]
  },
  {
   "cell_type": "markdown",
   "id": "f32ae32c-2ac7-41d0-adcf-3d58759da4fb",
   "metadata": {},
   "source": [
    "### Automate the Thought to Answer by calling the agent multiple times till the Final Answer"
   ]
  },
  {
   "cell_type": "code",
   "execution_count": 87,
   "id": "386fe0b8-4cdb-4087-9045-735ff2222928",
   "metadata": {},
   "outputs": [],
   "source": [
    "def autoagent(question, max_turns=5):\n",
    "    i = 0\n",
    "    agent = Agent(agent_react_prompt)\n",
    "    user_prompt = question\n",
    "    while i < max_turns:\n",
    "        i += 1\n",
    "        result = agent(user_prompt)\n",
    "        print(result)\n",
    "        parse_result = parse_action_name_n_params(result)\n",
    "        if isinstance( parse_result, tuple):\n",
    "            action, action_input = parse_result\n",
    "            if action not in known_actions:\n",
    "                raise Exception(\"Unknown actions: {}: {}\".format(action, action_input))\n",
    "            print(f'calling {action}: with arguments: {action_input}')            \n",
    "            observation = known_actions[action](action_input)\n",
    "            print('observation:', observation)\n",
    "            user_prompt = \"Observation: {}\".format(observation)\n",
    "        else:\n",
    "            return    "
   ]
  },
  {
   "cell_type": "code",
   "execution_count": 88,
   "id": "e5feb368-2c7b-45d5-a584-3ecd1caa1193",
   "metadata": {},
   "outputs": [
    {
     "name": "stdout",
     "output_type": "stream",
     "text": [
      "Thought: I need to buy both a wireless mouse and a USB-C hub using the buy_product action. I will first attempt to buy the wireless mouse and then the USB-C hub. \n",
      "Action: buy_product: wireless mouse\n",
      "PAUSE\n",
      "[<re.Match object; span=(0, 35), match='Action: buy_product: wireless mouse'>]\n",
      "buy_product wireless mouse\n",
      "calling buy_product: with arguments: wireless mouse\n",
      "observation: wireless mouse purchase confirmed. Remaining stock 98\n",
      "Thought: The wireless mouse purchase was successful. Now I will proceed to buy the USB-C hub. \n",
      "Action: buy_product: usb-c hub\n",
      "PAUSE\n",
      "[<re.Match object; span=(0, 30), match='Action: buy_product: usb-c hub'>]\n",
      "buy_product usb-c hub\n",
      "calling buy_product: with arguments: usb-c hub\n",
      "observation: Regret, usb-c hub is not in stock.\n",
      "Answer: Thanks for your order. Your wireless mouse has been despatched to you. Unfortunately, the USB-C hub is currently out of stock.\n",
      "[]\n"
     ]
    }
   ],
   "source": [
    "# question = \"\"\"I have 2 dogs, a border collie and a scottish terrier. \\\n",
    "# What is their combined weight\"\"\"\n",
    "question = \"\"\"can you buy me one wireless mouse and one usb-c hub ? \"\"\"\n",
    "autoagent(question)"
   ]
  },
  {
   "cell_type": "code",
   "execution_count": null,
   "id": "05f681df-3f04-4383-8389-f749993929e0",
   "metadata": {},
   "outputs": [],
   "source": []
  },
  {
   "cell_type": "code",
   "execution_count": null,
   "id": "6e86a610-fedf-4829-b8bd-693c80f5d260",
   "metadata": {},
   "outputs": [],
   "source": []
  },
  {
   "cell_type": "code",
   "execution_count": null,
   "id": "b4ef96b8-d463-4b6b-897f-1794a0412eeb",
   "metadata": {},
   "outputs": [],
   "source": []
  },
  {
   "cell_type": "code",
   "execution_count": null,
   "id": "ba538477-0b3c-4a15-8651-7edac2bc5173",
   "metadata": {},
   "outputs": [],
   "source": []
  },
  {
   "cell_type": "code",
   "execution_count": null,
   "id": "f1ee33df-1814-4aa8-a686-2b11b36ab131",
   "metadata": {},
   "outputs": [],
   "source": []
  },
  {
   "cell_type": "code",
   "execution_count": null,
   "id": "ff652d94-bc86-4f98-960f-f1e9941ea255",
   "metadata": {},
   "outputs": [],
   "source": []
  },
  {
   "cell_type": "code",
   "execution_count": null,
   "id": "dd3b4eed-3552-4a1c-b37a-de96e242345b",
   "metadata": {},
   "outputs": [],
   "source": []
  }
 ],
 "metadata": {
  "kernelspec": {
   "display_name": "Python 3 (ipykernel)",
   "language": "python",
   "name": "python3"
  },
  "language_info": {
   "codemirror_mode": {
    "name": "ipython",
    "version": 3
   },
   "file_extension": ".py",
   "mimetype": "text/x-python",
   "name": "python",
   "nbconvert_exporter": "python",
   "pygments_lexer": "ipython3",
   "version": "3.9.7"
  }
 },
 "nbformat": 4,
 "nbformat_minor": 5
}
