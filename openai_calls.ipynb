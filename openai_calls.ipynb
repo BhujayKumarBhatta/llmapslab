{
 "cells": [
  {
   "cell_type": "markdown",
   "id": "cc070494-ca8f-4820-8ba4-36617ee41e77",
   "metadata": {
    "jp-MarkdownHeadingCollapsed": true
   },
   "source": [
    "##  Imports"
   ]
  },
  {
   "cell_type": "markdown",
   "id": "2b8d7176-2eaa-409a-9e22-a2b9cbaa3933",
   "metadata": {
    "jp-MarkdownHeadingCollapsed": true
   },
   "source": [
    "## setup openai"
   ]
  },
  {
   "cell_type": "code",
   "execution_count": 1,
   "id": "bc811ab8-0f5c-4298-9f02-5c5c504a5f50",
   "metadata": {},
   "outputs": [],
   "source": [
    "import sys\n",
    "sys.path.append(\"llmapslab\")\n",
    "import os\n",
    "import json\n",
    "from  openai import OpenAI\n",
    "from langchain_openai import ChatOpenAI"
   ]
  },
  {
   "cell_type": "markdown",
   "id": "0d52796f-5020-4910-bb70-4ce0c453c496",
   "metadata": {
    "jp-MarkdownHeadingCollapsed": true
   },
   "source": [
    "### Open AI api access setup \n",
    "- Api access account is not same as the chatgpt account. \n",
    "- setup your project and api key from here https://platform.openai.com/playground/chat?models=gpt-4o-mini-2024-07-18\n",
    "- create a new api key and copy and save it before closing the pop up window. Once the window is closed \n",
    " the key is no more accessable.\n",
    "- before making call to openai ensure you have  balance and keep track of your cost\n",
    "- come back to the playground and try in the gui a simple chat to ensure chat is working\n",
    "https://platform.openai.com/organization/usage"
   ]
  },
  {
   "cell_type": "code",
   "execution_count": 2,
   "id": "f6f083e6-d0f3-4d95-8388-98026fb6ffc2",
   "metadata": {},
   "outputs": [],
   "source": [
    "with open('secrets.json', 'r') as jsonfile:\n",
    "    configs = json.load(jsonfile)\n",
    "\n",
    "client = OpenAI(api_key=configs.get('openai_api_key'),\n",
    "                # organization='Personal',\n",
    "                # project='proj_DqdKUU38qOGVj9Qxdq6UlXcD',\n",
    "               )"
   ]
  },
  {
   "cell_type": "code",
   "execution_count": 3,
   "id": "b8ec1baa-1374-42e7-ba76-eeb920ae44a2",
   "metadata": {},
   "outputs": [],
   "source": [
    "def call_openai_api(client, messages, model=\"gpt-3.5-turbo\", max_retries=5, wait_time=5):\n",
    "    retries = 0\n",
    "    while retries < max_retries:\n",
    "        try:\n",
    "            # Make a request to the OpenAI ChatCompletion API\n",
    "           response = client.chat.completions.create(\n",
    "              model=\"gpt-4o-mini\",\n",
    "              messages=messages,\n",
    "           )\n",
    "           return response\n",
    "        except client.error.RateLimitError:\n",
    "            print(f\"Rate limit exceeded. Retrying in {wait_time} seconds...\")\n",
    "            time.sleep(wait_time)\n",
    "            retries += 1\n",
    "    raise Exception(\"Max retries exceeded. Please check your plan and billing details.\")\n",
    "\n",
    "# Define the conversation messages\n",
    "messages = [\n",
    "    {\"role\": \"system\", \"content\": \"You are a helpful assistant.\"},\n",
    "    {\"role\": \"user\", \"content\": \"What is the capital of France?\"}\n",
    "]\n",
    "\n",
    "# Call the API\n",
    "response = call_openai_api(client, messages)"
   ]
  },
  {
   "cell_type": "code",
   "execution_count": 4,
   "id": "ddef680f-c18d-4482-a74a-ae0b783f98f5",
   "metadata": {},
   "outputs": [
    {
     "name": "stdout",
     "output_type": "stream",
     "text": [
      "ChatCompletion(id='chatcmpl-9ofhR9VHlYfDwyVLy8qzh2aGkvhCq', choices=[Choice(finish_reason='stop', index=0, logprobs=None, message=ChatCompletionMessage(content='The capital of France is Paris.', role='assistant', function_call=None, tool_calls=None))], created=1721863721, model='gpt-4o-mini-2024-07-18', object='chat.completion', service_tier=None, system_fingerprint='fp_661538dc1f', usage=CompletionUsage(completion_tokens=7, prompt_tokens=24, total_tokens=31))\n"
     ]
    }
   ],
   "source": [
    "print(response)"
   ]
  },
  {
   "cell_type": "code",
   "execution_count": 5,
   "id": "e66ddd80-c33c-4fc4-907d-ddf5acac3d26",
   "metadata": {},
   "outputs": [
    {
     "data": {
      "text/plain": [
       "ChatCompletionMessage(content='The capital of France is Paris.', role='assistant', function_call=None, tool_calls=None)"
      ]
     },
     "execution_count": 5,
     "metadata": {},
     "output_type": "execute_result"
    }
   ],
   "source": [
    "response.choices[0].message"
   ]
  },
  {
   "cell_type": "code",
   "execution_count": 6,
   "id": "10d15b27-43b1-4751-b89c-c182f77df860",
   "metadata": {
    "jupyter": {
     "source_hidden": true
    }
   },
   "outputs": [
    {
     "data": {
      "text/plain": [
       "'The capital of France is Paris.'"
      ]
     },
     "execution_count": 6,
     "metadata": {},
     "output_type": "execute_result"
    }
   ],
   "source": [
    "response.choices[0].message.content"
   ]
  },
  {
   "cell_type": "markdown",
   "id": "21e87ad0-a382-4723-8382-bbc6e0b8619e",
   "metadata": {
    "jp-MarkdownHeadingCollapsed": true
   },
   "source": [
    "## langchain ChatOpenAI call "
   ]
  },
  {
   "cell_type": "code",
   "execution_count": 7,
   "id": "680e4e0b-baee-4705-9786-0e485f547057",
   "metadata": {},
   "outputs": [
    {
     "name": "stdout",
     "output_type": "stream",
     "text": [
      "content=\"J'aime la programmation.\" response_metadata={'token_usage': {'completion_tokens': 5, 'prompt_tokens': 28, 'total_tokens': 33}, 'model_name': 'gpt-4o-mini-2024-07-18', 'system_fingerprint': 'fp_661538dc1f', 'finish_reason': 'stop', 'logprobs': None} id='run-7a48c0f6-c0d1-4b96-9228-ad1f90f64173-0' usage_metadata={'input_tokens': 28, 'output_tokens': 5, 'total_tokens': 33}\n"
     ]
    }
   ],
   "source": [
    "openai_api_key = configs.get('openai_api_key')\n",
    "messages = [\n",
    "    (\n",
    "        \"system\",\n",
    "        \"You are a helpful translator. Translate the user sentence to French.\",\n",
    "    ),\n",
    "    (\"human\", \"I love programming.\"),\n",
    "]\n",
    "\n",
    "llm = ChatOpenAI(\n",
    "    api_key=openai_api_key,\n",
    "    model=\"gpt-4o-mini-2024-07-18\",\n",
    "    # model=\"gpt-4o-mini-2024-07-18\",\n",
    "    # model=\"gpt-4o\"\n",
    "    )\n",
    "response = llm.invoke(messages)\n",
    "print(response)"
   ]
  },
  {
   "cell_type": "code",
   "execution_count": 8,
   "id": "1efa0c55-dedf-4716-a5ff-0bc1faee3d17",
   "metadata": {},
   "outputs": [
    {
     "data": {
      "text/plain": [
       "\"J'aime la programmation.\""
      ]
     },
     "execution_count": 8,
     "metadata": {},
     "output_type": "execute_result"
    }
   ],
   "source": [
    "response.content"
   ]
  },
  {
   "cell_type": "code",
   "execution_count": 9,
   "id": "6eae3b1b-01b6-4877-b50b-f4dfe012548a",
   "metadata": {},
   "outputs": [
    {
     "name": "stdout",
     "output_type": "stream",
     "text": [
      "content=\"To read Excel files in Python, you can use the `pandas` library, which provides a convenient interface for working with data in various formats, including Excel. Below is a simple example of how to read an Excel file using `pandas`. Make sure you have the library installed; if you haven't installed it yet, you can do so using pip:\\n\\n```bash\\npip install pandas openpyxl\\n```\\n\\n### Example Code to Read an Excel File\\n\\nHere's a basic example to read an Excel file named `example.xlsx`:\\n\\n```python\\nimport pandas as pd\\n\\n# Specify the path to your Excel file\\nfile_path = 'example.xlsx'\\n\\n# Read the Excel file\\n# You can specify the sheet name or index (0 for the first sheet)\\ndf = pd.read_excel(file_path, sheet_name=0)  # or 'Sheet1' for a specific sheet\\n\\n# Display the contents of the DataFrame\\nprint(df)\\n```\\n\\n### Explanation:\\n- Import the `pandas` library.\\n- Specify the path to your Excel file.\\n- Use `pd.read_excel()` to read the Excel file into a DataFrame. You can specify the `sheet_name` parameter to read a specific sheet.\\n- Print the DataFrame to see the contents of the Excel file.\\n\\n### Notes:\\n- If you have multiple sheets in your Excel file, you can read them all by passing `sheet_name=None` to `pd.read_excel()`, which will return a dictionary of DataFrames.\\n- If your Excel file contains any formulas, `openpyxl` can read them, but `pandas` will only read the values.\\n\\nFeel free to modify the `file_path` variable to point to your actual Excel file.\" response_metadata={'token_usage': {'completion_tokens': 349, 'prompt_tokens': 21, 'total_tokens': 370}, 'model_name': 'gpt-4o-mini-2024-07-18', 'system_fingerprint': 'fp_661538dc1f', 'finish_reason': 'stop', 'logprobs': None} id='run-ad764f18-2619-4f65-92fb-89799458c87f-0' usage_metadata={'input_tokens': 21, 'output_tokens': 349, 'total_tokens': 370}\n"
     ]
    }
   ],
   "source": [
    "messages = [\n",
    "    (\n",
    "        \"system\",\n",
    "        \"You are an assistant\",\n",
    "    ),\n",
    "    (\"human\", \"generate a code to read excel\"),\n",
    "]\n",
    "\n",
    "llm = ChatOpenAI(\n",
    "    api_key=openai_api_key,\n",
    "    model=\"gpt-4o-mini-2024-07-18\",\n",
    "    # model=\"gpt-4o-mini-2024-07-18\",\n",
    "    # model=\"gpt-4o\"\n",
    "    )\n",
    "response = llm.invoke(messages)\n",
    "print(response)"
   ]
  },
  {
   "cell_type": "code",
   "execution_count": 10,
   "id": "5c9d3486-93bb-40c2-baae-7b206cfdeecc",
   "metadata": {},
   "outputs": [
    {
     "name": "stdout",
     "output_type": "stream",
     "text": [
      "To read Excel files in Python, you can use the `pandas` library, which provides a convenient interface for working with data in various formats, including Excel. Below is a simple example of how to read an Excel file using `pandas`. Make sure you have the library installed; if you haven't installed it yet, you can do so using pip:\n",
      "\n",
      "```bash\n",
      "pip install pandas openpyxl\n",
      "```\n",
      "\n",
      "### Example Code to Read an Excel File\n",
      "\n",
      "Here's a basic example to read an Excel file named `example.xlsx`:\n",
      "\n",
      "```python\n",
      "import pandas as pd\n",
      "\n",
      "# Specify the path to your Excel file\n",
      "file_path = 'example.xlsx'\n",
      "\n",
      "# Read the Excel file\n",
      "# You can specify the sheet name or index (0 for the first sheet)\n",
      "df = pd.read_excel(file_path, sheet_name=0)  # or 'Sheet1' for a specific sheet\n",
      "\n",
      "# Display the contents of the DataFrame\n",
      "print(df)\n",
      "```\n",
      "\n",
      "### Explanation:\n",
      "- Import the `pandas` library.\n",
      "- Specify the path to your Excel file.\n",
      "- Use `pd.read_excel()` to read the Excel file into a DataFrame. You can specify the `sheet_name` parameter to read a specific sheet.\n",
      "- Print the DataFrame to see the contents of the Excel file.\n",
      "\n",
      "### Notes:\n",
      "- If you have multiple sheets in your Excel file, you can read them all by passing `sheet_name=None` to `pd.read_excel()`, which will return a dictionary of DataFrames.\n",
      "- If your Excel file contains any formulas, `openpyxl` can read them, but `pandas` will only read the values.\n",
      "\n",
      "Feel free to modify the `file_path` variable to point to your actual Excel file.\n"
     ]
    }
   ],
   "source": [
    "print(response.content)"
   ]
  },
  {
   "cell_type": "markdown",
   "id": "8debc67c-cf43-49a7-ad37-89f16e5e7343",
   "metadata": {},
   "source": [
    "## Handcrafted Agent "
   ]
  },
  {
   "cell_type": "markdown",
   "id": "15d38244-618a-4c32-9436-63355c015cf2",
   "metadata": {},
   "source": [
    "#### what is agent doing\n",
    "- calling model with a prompt\n",
    "- maintianing a history of conversation"
   ]
  },
  {
   "cell_type": "code",
   "execution_count": 15,
   "id": "784e4092-b8f1-4c18-b7e8-3f6d78f6c38b",
   "metadata": {},
   "outputs": [],
   "source": [
    "class Agent:\n",
    "    def __init__(self, system=\"\"):\n",
    "        self.system = system\n",
    "        self.messages = []\n",
    "        if self.system:\n",
    "            self.messages.append({\"role\": \"system\", \"content\": sysytem})\n",
    "\n",
    "    def __call__(self, messages):\n",
    "        self.messages.append({\"role\": \"user\", \"content\": sysytem})\n",
    "        result = self.execute()\n",
    "        self.messages.append({\"role\": \"assistant\", \"content\": result})\n",
    "        return result\n",
    "\n",
    "    def execute(self):\n",
    "        completion = client.chat.completion.create(\n",
    "            model=\"gpt-4o-mini-2024-07-18\",\n",
    "            temparature=0,\n",
    "            messages=self.messages)\n",
    "        return completion.choices[0].messages.content"
   ]
  },
  {
   "cell_type": "markdown",
   "id": "b0886b58-7edd-488d-b26a-e884a41ce43e",
   "metadata": {},
   "source": [
    "#### A ReAct type prompt for agent \n",
    "- Thought:\n",
    "  - user asks a question to model\n",
    "  - model think about a plan of action from the available actions\n",
    "   - Available Actions:\n",
    "     - name of the python function: parameters of the function\n",
    "     - identifying the parameters correctly is critical\n",
    "- Action:\n",
    "  - from the free flow text identify the parameters for  the action\n",
    "  - return the model output as ACtion: function name: paramer\n",
    "  - This output will be parsed by the user or another program later to call the function\n",
    "  - also output 'PAUSE'. Why is this required ? may be external program can use this somehow.\n",
    "- Observation:\n",
    "  - assume that the function was called and result was obrained by user or by anothe program\n",
    "  - the model is now again called with the result along with the history\n",
    "  - the model now get to see:\n",
    "     - The original quesiton from the user\n",
    "     - The actions that it had suggested in terms of function name and its parameters\n",
    "     - the  result from the action\n",
    "- Answer: provide the final answer from the observation and the history of messages as context\n",
    "- Demonstration: give a task demonstration"
   ]
  },
  {
   "cell_type": "code",
   "execution_count": null,
   "id": "c5a1b357-92e2-4dfd-8ae3-2a9ed77c825a",
   "metadata": {},
   "outputs": [],
   "source": [
    "prompt = \"\"\"\n",
    "You run in a loop of Thought, Action, PAUSE, Observation.\n",
    "At the end of the loop you output an Answer\n",
    "Use Thought to describe your thoughts about the question you have been asked.\n",
    "Use Action to run one of the actions available to you - then return PAUSE.\n",
    "Observation will be the result of running those actions.\n",
    "\n",
    "Your available actions are:\n",
    "\n",
    "calculate:\n",
    "e.g. calculate: 4 * 7 / 3\n",
    "Runs a calculation and returns the number - uses Python so be sure to use floating point syntax if necessary\n",
    "\n",
    "average_dog_weight:\n",
    "e.g. average_dog_weight: Collie\n",
    "returns average weight of a dog when given the breed\n",
    "\n",
    "Example session:\n",
    "\n",
    "Question: How much does a Bulldog weigh?\n",
    "Thought: I should look the dogs weight using average_dog_weight\n",
    "Action: average_dog_weight: Bulldog\n",
    "PAUSE\n",
    "\n",
    "You will be called again with this:\n",
    "\n",
    "Observation: A Bulldog weights 51 lbs\n",
    "\n",
    "You then output:\n",
    "\n",
    "Answer: A bulldog weights 51 lbs\n",
    "\"\"\".strip()"
   ]
  },
  {
   "cell_type": "code",
   "execution_count": null,
   "id": "8e0725fe-b4f7-4351-99f0-963db56a9b8a",
   "metadata": {},
   "outputs": [],
   "source": []
  },
  {
   "cell_type": "code",
   "execution_count": null,
   "id": "37c97cfa-8eb9-4ead-98d1-8301035c303a",
   "metadata": {},
   "outputs": [],
   "source": []
  }
 ],
 "metadata": {
  "kernelspec": {
   "display_name": "Python 3 (ipykernel)",
   "language": "python",
   "name": "python3"
  },
  "language_info": {
   "codemirror_mode": {
    "name": "ipython",
    "version": 3
   },
   "file_extension": ".py",
   "mimetype": "text/x-python",
   "name": "python",
   "nbconvert_exporter": "python",
   "pygments_lexer": "ipython3",
   "version": "3.9.7"
  }
 },
 "nbformat": 4,
 "nbformat_minor": 5
}
