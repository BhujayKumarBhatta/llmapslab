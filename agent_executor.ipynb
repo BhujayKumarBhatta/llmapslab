{
 "cells": [
  {
   "cell_type": "markdown",
   "id": "61cb338c-66ee-4492-8c9d-a0a636e093ea",
   "metadata": {},
   "source": [
    "agent - https://github.com/langchain-ai/langchain/blob/master/libs/langchain/langchain/agents/agent.py#L58"
   ]
  },
  {
   "cell_type": "markdown",
   "id": "7fd2322b-8a4d-4fef-ad6b-5804b58a0bc3",
   "metadata": {},
   "source": [
    "langchain_core.agents - https://github.com/langchain-ai/langchain/blob/master/libs/core/langchain_core/agents.py"
   ]
  },
  {
   "cell_type": "markdown",
   "id": "76d565cc-d578-4b48-89e5-973b45d9e157",
   "metadata": {},
   "source": [
    "angchain.agents.agent_iterator - https://github.com/langchain-ai/langchain/blob/master/libs/langchain/langchain/agents/agent_iterator.py"
   ]
  },
  {
   "cell_type": "markdown",
   "id": "24a22783-0b4d-425a-9163-f988325ab520",
   "metadata": {},
   "source": [
    "langchain.agents.agent_types - https://github.com/langchain-ai/langchain/blob/master/libs/langchain/langchain/agents/agent_types.py"
   ]
  },
  {
   "cell_type": "code",
   "execution_count": 11,
   "id": "fae7c77e-2815-46f3-82de-1ee011065461",
   "metadata": {},
   "outputs": [],
   "source": [
    "from langchain_core.agents import AgentAction, AgentFinish, AgentStep  \n",
    "from langchain.agents.agent_iterator import AgentExecutorIterator\n",
    "from langchain.agents.agent_types import AgentType\n",
    "from langchain.agents import AgentExecutor, create_tool_calling_agent"
   ]
  },
  {
   "cell_type": "markdown",
   "id": "d384b86a-69c8-4801-b02e-32289ea5c4b3",
   "metadata": {},
   "source": [
    "Migrate to Langraph - https://python.langchain.com/v0.2/docs/how_to/migrate_agent/"
   ]
  },
  {
   "cell_type": "code",
   "execution_count": 9,
   "id": "82a843af-2ddb-44d6-be87-e22f1b002728",
   "metadata": {},
   "outputs": [],
   "source": [
    "from load_configs import openai_api_key\n",
    "from langchain_openai import ChatOpenAI, OpenAI\n",
    "from langchain_core.tools import tool"
   ]
  },
  {
   "cell_type": "code",
   "execution_count": 7,
   "id": "d3b75fb2-5fc1-4794-b071-8acd8ef639f7",
   "metadata": {},
   "outputs": [
    {
     "name": "stdout",
     "output_type": "stream",
     "text": [
      "client=<openai.resources.chat.completions.Completions object at 0x7f04191896d0> async_client=<openai.resources.chat.completions.AsyncCompletions object at 0x7f04191940a0> openai_api_key=SecretStr('**********') openai_proxy=''\n"
     ]
    }
   ],
   "source": [
    "model = ChatOpenAI(api_key=openai_api_key.get_secret_value())\n",
    "print(model)"
   ]
  },
  {
   "cell_type": "code",
   "execution_count": 8,
   "id": "812a476e-d140-4f98-905a-0fe7b0e5ad3f",
   "metadata": {},
   "outputs": [],
   "source": []
  }
 ],
 "metadata": {
  "kernelspec": {
   "display_name": "Python 3 (ipykernel)",
   "language": "python",
   "name": "python3"
  },
  "language_info": {
   "codemirror_mode": {
    "name": "ipython",
    "version": 3
   },
   "file_extension": ".py",
   "mimetype": "text/x-python",
   "name": "python",
   "nbconvert_exporter": "python",
   "pygments_lexer": "ipython3",
   "version": "3.9.7"
  }
 },
 "nbformat": 4,
 "nbformat_minor": 5
}
