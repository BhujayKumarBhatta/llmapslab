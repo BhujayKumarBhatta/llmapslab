{
 "cells": [
  {
   "cell_type": "code",
   "execution_count": 2,
   "id": "0a0b8aac-38f6-46f1-9c0f-4b27bb3c08f1",
   "metadata": {},
   "outputs": [],
   "source": [
    "from langchain_core.runnables.base import Runnable"
   ]
  },
  {
   "cell_type": "markdown",
   "id": "a87f08a8-21c4-4742-9225-45e3f4393803",
   "metadata": {},
   "source": [
    "https://github.com/langchain-ai/langchain/blob/d77c7c4236df8e56fbe3acc8e0a71b57b48f1678/libs/core/langchain_core/runnables/base.py#L1335\n",
    "\n",
    "\n",
    "\n",
    "Runnable(Generic[Input, Output], ABC):\n",
    "    \"\"\"A unit of work that can be invoked, batched, streamed, transformed and composed.\"\"\"\n",
    "- invoke/ainvoke: Transforms a single input into an output.\n",
    "- batch/abatch: Efficiently transforms multiple inputs into outputs.\n",
    "- stream/astream: Streams output from a single input as it’s produced.\n",
    "- async\n",
    "- bind\n",
    "- RunnableSequence invokes a series of runnables sequentially, with one Runnable’s output serving as the next’s input. Construct using the | operator or by passing a list of runnables to RunnableSequence.\n",
    "- RunnableParallel invokes runnables concurrently, providing the same input to each. Construct it using a dict literal within a sequence or by passing a dict to RunnableParallel.\n",
    "    \n",
    "\n",
    "    "
   ]
  },
  {
   "cell_type": "markdown",
   "id": "3337149f-ca82-4cd0-94ae-41598ce1c78c",
   "metadata": {
    "jp-MarkdownHeadingCollapsed": true
   },
   "source": [
    "# Inherit Runnable class and invoke or  batch of a  runnable"
   ]
  },
  {
   "cell_type": "code",
   "execution_count": 3,
   "id": "f2e08fbb-b8bd-49c6-942e-78c44f5a8b9f",
   "metadata": {},
   "outputs": [
    {
     "name": "stdout",
     "output_type": "stream",
     "text": [
      "add_two_num: 4\n",
      "multiply_num: 20\n"
     ]
    }
   ],
   "source": [
    "class AddTwoNum(Runnable):    \n",
    "    def invoke(self, x:int, y:int)->int:\n",
    "        return x + y\n",
    "add_two_num = AddTwoNum()\n",
    "print('add_two_num:', add_two_num.invoke(2, 2))\n",
    "\n",
    "class MultiplyNum(Runnable):\n",
    "    def invoke(self, x):\n",
    "        return x * 10\n",
    "multiply_num = MultiplyNum()\n",
    "print('multiply_num:', multiply_num.invoke(2))\n"
   ]
  },
  {
   "cell_type": "code",
   "execution_count": 20,
   "id": "0d69749d-0cf7-4eb0-8f99-2ae529d47ab4",
   "metadata": {},
   "outputs": [
    {
     "data": {
      "text/plain": [
       "[10, 20, 30]"
      ]
     },
     "execution_count": 20,
     "metadata": {},
     "output_type": "execute_result"
    }
   ],
   "source": [
    "multiply_num.batch([1, 2, 3])"
   ]
  },
  {
   "cell_type": "code",
   "execution_count": 21,
   "id": "3c2fd8b2-9013-4f1b-aa8f-9900fca138bc",
   "metadata": {},
   "outputs": [
    {
     "data": {
      "text/plain": [
       "[10, 20, 30]"
      ]
     },
     "execution_count": 21,
     "metadata": {},
     "output_type": "execute_result"
    }
   ],
   "source": [
    "await multiply_num.abatch([1, 2, 3])"
   ]
  },
  {
   "cell_type": "markdown",
   "id": "a5b2c15e-87a5-4f9f-b068-2853901db29f",
   "metadata": {
    "jp-MarkdownHeadingCollapsed": true
   },
   "source": [
    "# Multiple aruguments in the function"
   ]
  },
  {
   "cell_type": "code",
   "execution_count": 4,
   "id": "2daa5f2e-9522-4113-936f-20c02993ccb6",
   "metadata": {},
   "outputs": [
    {
     "name": "stdout",
     "output_type": "stream",
     "text": [
      "'int' object has no attribute 'items'\n"
     ]
    }
   ],
   "source": [
    "# def pipe returns  RunnableSequence( *others) \n",
    "# runnable_1 = RunnableLambda(add_one)\n",
    "# runnable_2 = RunnableLambda(mul_two)\n",
    "# sequence = runnable_1 | runnable_2\n",
    "# # Or equivalently:\n",
    "# # sequence = RunnableSequence(first=runnable_1, last=runnable_2)\n",
    "# sequence.invoke(1)\n",
    "\n",
    "' The serail op fails due to misatch in the invoke signature' \n",
    "\n",
    "serial_ops = add_two_num.pipe(multiply_num) \n",
    "try:\n",
    "    serial_ops.invoke(1, 1)\n",
    "except Exception as e:\n",
    "    print(e)"
   ]
  },
  {
   "cell_type": "code",
   "execution_count": 5,
   "id": "a16b9bb7-bd1d-4fd2-9e4e-aa1548a76f9b",
   "metadata": {},
   "outputs": [
    {
     "name": "stdout",
     "output_type": "stream",
     "text": [
      "add_two_num: 4\n",
      "multiply_num: 20\n",
      "'int' object has no attribute 'items'\n"
     ]
    }
   ],
   "source": [
    "### Fails again , the signature has config and **kwargs available but fist one have two positional param and second on has one positinal param\n",
    "class AddTwoNum(Runnable):    \n",
    "    def invoke(self, x:int, y:int, config=None, **kwargs)->int:\n",
    "        return x + y\n",
    "add_two_num = AddTwoNum()\n",
    "print('add_two_num:', add_two_num.invoke(2, 2))\n",
    "\n",
    "class MultiplyNum(Runnable):\n",
    "    def invoke(self, x, config=None, **kwargs):\n",
    "        return x * 10\n",
    "multiply_num = MultiplyNum()\n",
    "print('multiply_num:', multiply_num.invoke(2))\n",
    "serial_ops = add_two_num.pipe(multiply_num) \n",
    "try:\n",
    "    serial_ops.invoke(1, 1)\n",
    "except Exception as e:\n",
    "    print(e)"
   ]
  },
  {
   "cell_type": "code",
   "execution_count": 6,
   "id": "f91d07af-77c6-4434-a056-0ff76edbc67d",
   "metadata": {
    "scrolled": true
   },
   "outputs": [
    {
     "name": "stdout",
     "output_type": "stream",
     "text": [
      "add_two_num: 4\n",
      "multiply_num: 20\n",
      "\u001b[32;1m\u001b[1;3m[chain/start]\u001b[0m \u001b[1m[chain:RunnableSequence] Entering Chain run with input:\n",
      "\u001b[0m{\n",
      "  \"input\": [\n",
      "    2,\n",
      "    2\n",
      "  ]\n",
      "}\n",
      "\u001b[36;1m\u001b[1;3m[chain/end]\u001b[0m \u001b[1m[chain:RunnableSequence] [0ms] Exiting Chain run with output:\n",
      "\u001b[0m{\n",
      "  \"output\": 40\n",
      "}\n",
      "multiply_num: 40\n"
     ]
    }
   ],
   "source": [
    "from langchain_core.globals import set_debug\n",
    "set_debug(True)\n",
    "from langchain_core.tracers import ConsoleCallbackHandler\n",
    "\n",
    "### Now it works with one positinal argnment for both runnables\n",
    "class AddTwoNum(Runnable):    \n",
    "    def invoke(self, inputs, config=None, **kwargs):\n",
    "        x, y = inputs\n",
    "        return x + y\n",
    "add_two_num = AddTwoNum()\n",
    "input_data = (2, 2)\n",
    "print('add_two_num:', add_two_num.invoke(input_data))\n",
    "class MultiplyNum(Runnable):\n",
    "    def invoke(self, x, config=None, **kwargs):\n",
    "        return x * 10\n",
    "multiply_num = MultiplyNum()\n",
    "print('multiply_num:', multiply_num.invoke(2))\n",
    "serial_ops = add_two_num.pipe(multiply_num) \n",
    "print('multiply_num:', serial_ops.invoke(\n",
    "                                        input_data,\n",
    "                                        config={'callbacks': [ConsoleCallbackHandler()]}) )"
   ]
  },
  {
   "cell_type": "code",
   "execution_count": 7,
   "id": "0f9c47ce-e39f-43f5-bff1-867d76bd08cd",
   "metadata": {
    "scrolled": true
   },
   "outputs": [
    {
     "name": "stdout",
     "output_type": "stream",
     "text": [
      "\u001b[32;1m\u001b[1;3m[chain/start]\u001b[0m \u001b[1m[chain:RunnableSequence] Entering Chain run with input:\n",
      "\u001b[0m{\n",
      "  \"input\": [\n",
      "    2,\n",
      "    2\n",
      "  ]\n",
      "}\n",
      "\u001b[36;1m\u001b[1;3m[chain/end]\u001b[0m \u001b[1m[chain:RunnableSequence] [2ms] Exiting Chain run with output:\n",
      "\u001b[0m{\n",
      "  \"output\": 40\n",
      "}\n",
      "multiply_num: 40\n"
     ]
    }
   ],
   "source": [
    "set_debug(True)\n",
    "try:\n",
    "    print('multiply_num:', await serial_ops.ainvoke(\n",
    "                                            input_data,\n",
    "                                            # config={'callbacks': [ConsoleCallbackHandler()]}\n",
    "    ) \n",
    "         )\n",
    "except:\n",
    "    pass"
   ]
  },
  {
   "cell_type": "code",
   "execution_count": 8,
   "id": "31d868c6-9eaa-414b-8397-d04c50b33439",
   "metadata": {},
   "outputs": [
    {
     "name": "stdout",
     "output_type": "stream",
     "text": [
      "add_two_num: 4\n",
      "multiply_num: 20\n",
      "\u001b[32;1m\u001b[1;3m[chain/start]\u001b[0m \u001b[1m[chain:RunnableSequence] Entering Chain run with input:\n",
      "\u001b[0m{\n",
      "  \"input\": [\n",
      "    2,\n",
      "    2\n",
      "  ]\n",
      "}\n",
      "\u001b[36;1m\u001b[1;3m[chain/end]\u001b[0m \u001b[1m[chain:RunnableSequence] [1ms] Exiting Chain run with output:\n",
      "\u001b[0m{\n",
      "  \"output\": 40\n",
      "}\n",
      "multiply_num: 40\n"
     ]
    }
   ],
   "source": [
    "class AddTwoNum(Runnable):    \n",
    "    def invoke(self, inputs, config=None, **kwargs):\n",
    "        x, y = inputs\n",
    "        return x + y\n",
    "        \n",
    "    async def ainvoke(self, inputs, config=None, **kwargs):\n",
    "        x, y = inputs\n",
    "        return x + y\n",
    "add_two_num = AddTwoNum()\n",
    "input_data = (2, 2)\n",
    "print('add_two_num:', await add_two_num.ainvoke(input_data))\n",
    "class MultiplyNum(Runnable):\n",
    "    def invoke(self, x, config=None, **kwargs):\n",
    "        return x * 10\n",
    "\n",
    "    async def ainvoke(self, x, config=None, **kwargs):\n",
    "        return x * 10\n",
    "        \n",
    "multiply_num = MultiplyNum()\n",
    "print('multiply_num:', await multiply_num.ainvoke(2))\n",
    "serial_ops = add_two_num.pipe(multiply_num) \n",
    "print('multiply_num:', await serial_ops.ainvoke(\n",
    "                                        input_data,\n",
    "                                        # config={'callbacks': [ConsoleCallbackHandler()]}\n",
    ") )"
   ]
  },
  {
   "cell_type": "markdown",
   "id": "b7b5efbf-d8ee-4c30-acff-335e440e0e21",
   "metadata": {
    "jp-MarkdownHeadingCollapsed": true
   },
   "source": [
    "# How about parallel"
   ]
  },
  {
   "cell_type": "code",
   "execution_count": 25,
   "id": "c1e91df6-ee23-4f30-8588-1405c2284a05",
   "metadata": {},
   "outputs": [],
   "source": [
    "from langchain_core.runnables import RunnableParallel\n",
    "parallel_ops = RunnableParallel({\n",
    "    \"add_two_num\": add_two_num,\n",
    "    \"multiply_num\": multiply_num  ### This will be input_data * 10 => [2, 2] * 10 => 20 number of 2 \n",
    "})"
   ]
  },
  {
   "cell_type": "code",
   "execution_count": 26,
   "id": "506e498c-af33-4543-952f-aa2653035204",
   "metadata": {},
   "outputs": [
    {
     "name": "stdout",
     "output_type": "stream",
     "text": [
      "\u001b[32;1m\u001b[1;3m[chain/start]\u001b[0m \u001b[1m[chain:RunnableParallel<add_two_num,multiply_num>] Entering Chain run with input:\n",
      "\u001b[0m{\n",
      "  \"input\": [\n",
      "    2,\n",
      "    2\n",
      "  ]\n",
      "}\n",
      "\u001b[36;1m\u001b[1;3m[chain/end]\u001b[0m \u001b[1m[chain:RunnableParallel<add_two_num,multiply_num>] [1ms] Exiting Chain run with output:\n",
      "\u001b[0m{\n",
      "  \"add_two_num\": 4,\n",
      "  \"multiply_num\": [\n",
      "    2,\n",
      "    2,\n",
      "    2,\n",
      "    2,\n",
      "    2,\n",
      "    2,\n",
      "    2,\n",
      "    2,\n",
      "    2,\n",
      "    2,\n",
      "    2,\n",
      "    2,\n",
      "    2,\n",
      "    2,\n",
      "    2,\n",
      "    2,\n",
      "    2,\n",
      "    2,\n",
      "    2,\n",
      "    2\n",
      "  ]\n",
      "}\n"
     ]
    },
    {
     "data": {
      "text/plain": [
       "{'add_two_num': 4,\n",
       " 'multiply_num': (2, 2, 2, 2, 2, 2, 2, 2, 2, 2, 2, 2, 2, 2, 2, 2, 2, 2, 2, 2)}"
      ]
     },
     "execution_count": 26,
     "metadata": {},
     "output_type": "execute_result"
    }
   ],
   "source": [
    "parallel_ops.invoke(input_data)"
   ]
  },
  {
   "cell_type": "markdown",
   "id": "2d9b2f2e-c758-42d3-8916-2bbacef1bd02",
   "metadata": {
    "jp-MarkdownHeadingCollapsed": true
   },
   "source": [
    "# parallel with Bind"
   ]
  },
  {
   "cell_type": "code",
   "execution_count": 31,
   "id": "29d068a0-e736-43ee-b8f3-dda1641b4c64",
   "metadata": {},
   "outputs": [
    {
     "name": "stdout",
     "output_type": "stream",
     "text": [
      "\u001b[32;1m\u001b[1;3m[chain/start]\u001b[0m \u001b[1m[chain:RunnableParallel<multiply_by_10,multiply_by_100>] Entering Chain run with input:\n",
      "\u001b[0m{\n",
      "  \"input\": 39\n",
      "}\n",
      "\u001b[36;1m\u001b[1;3m[chain/end]\u001b[0m \u001b[1m[chain:RunnableParallel<multiply_by_10,multiply_by_100>] [2ms] Exiting Chain run with output:\n",
      "\u001b[0m{\n",
      "  \"multiply_by_10\": 390,\n",
      "  \"multiply_by_100\": 3900\n",
      "}\n"
     ]
    },
    {
     "data": {
      "text/plain": [
       "{'multiply_by_10': 390, 'multiply_by_100': 3900}"
      ]
     },
     "execution_count": 31,
     "metadata": {},
     "output_type": "execute_result"
    }
   ],
   "source": [
    "class MultiplyNum(Runnable):\n",
    "    def invoke(self, x, config=None, **kwargs):\n",
    "        y = kwargs.get('multiplier', 10)\n",
    "        return x * y\n",
    "        \n",
    "multiply_num = MultiplyNum()\n",
    "parallel_ops = RunnableParallel({\n",
    "    \"multiply_by_10\": multiply_num.bind(multiplier=10),\n",
    "    \"multiply_by_100\": multiply_num.bind(multiplier=100)  \n",
    "})\n",
    "parallel_ops.invoke(39)"
   ]
  },
  {
   "cell_type": "markdown",
   "id": "2c535033-10ee-4acc-a784-9656103b3436",
   "metadata": {
    "jp-MarkdownHeadingCollapsed": true
   },
   "source": [
    "# Chain serial and parallel"
   ]
  },
  {
   "cell_type": "code",
   "execution_count": 32,
   "id": "cc2299a9-174b-48b9-ae38-5403309fb0a3",
   "metadata": {},
   "outputs": [
    {
     "name": "stdout",
     "output_type": "stream",
     "text": [
      "\u001b[32;1m\u001b[1;3m[chain/start]\u001b[0m \u001b[1m[chain:RunnableSequence] Entering Chain run with input:\n",
      "\u001b[0m{\n",
      "  \"input\": [\n",
      "    2,\n",
      "    2\n",
      "  ]\n",
      "}\n",
      "\u001b[32;1m\u001b[1;3m[chain/start]\u001b[0m \u001b[1m[chain:RunnableSequence > chain:RunnableParallel<multiply_by_10,multiply_by_100>] Entering Chain run with input:\n",
      "\u001b[0m{\n",
      "  \"input\": 4\n",
      "}\n",
      "\u001b[36;1m\u001b[1;3m[chain/end]\u001b[0m \u001b[1m[chain:RunnableSequence > chain:RunnableParallel<multiply_by_10,multiply_by_100>] [1ms] Exiting Chain run with output:\n",
      "\u001b[0m{\n",
      "  \"multiply_by_10\": 40,\n",
      "  \"multiply_by_100\": 400\n",
      "}\n",
      "\u001b[36;1m\u001b[1;3m[chain/end]\u001b[0m \u001b[1m[chain:RunnableSequence] [3ms] Exiting Chain run with output:\n",
      "\u001b[0m{\n",
      "  \"multiply_by_10\": 40,\n",
      "  \"multiply_by_100\": 400\n",
      "}\n"
     ]
    },
    {
     "data": {
      "text/plain": [
       "{'multiply_by_10': 40, 'multiply_by_100': 400}"
      ]
     },
     "execution_count": 32,
     "metadata": {},
     "output_type": "execute_result"
    }
   ],
   "source": [
    "# serial_n_parallel_chain =  add_two_num | multiply_num | parallel_ops\n",
    "serial_n_parallel_chain =  add_two_num | parallel_ops\n",
    "serial_n_parallel_chain.invoke(input_data)"
   ]
  },
  {
   "cell_type": "markdown",
   "id": "ba48bccc-59ae-43da-bc89-9f5478e147d9",
   "metadata": {
    "jp-MarkdownHeadingCollapsed": true
   },
   "source": [
    "# Runnable Lambda "
   ]
  },
  {
   "cell_type": "code",
   "execution_count": 47,
   "id": "ada445f1-3468-4c75-8827-a5335bd679f4",
   "metadata": {},
   "outputs": [
    {
     "name": "stdout",
     "output_type": "stream",
     "text": [
      "\u001b[32;1m\u001b[1;3m[chain/start]\u001b[0m \u001b[1m[chain:RunnableLambda] Entering Chain run with input:\n",
      "\u001b[0m{\n",
      "  \"input\": 2\n",
      "}\n",
      "\u001b[36;1m\u001b[1;3m[chain/end]\u001b[0m \u001b[1m[chain:RunnableLambda] [0ms] Exiting Chain run with output:\n",
      "\u001b[0m{\n",
      "  \"output\": [\n",
      "    2,\n",
      "    2\n",
      "  ]\n",
      "}\n",
      "tranform_to_tuple: (2, 2)\n"
     ]
    }
   ],
   "source": [
    "from langchain_core.runnables import RunnableLambda\n",
    "transform_to_tuple = RunnableLambda(lambda x: (x, x))\n",
    "print('tranform_to_tuple:', transform_to_tuple.invoke(2))"
   ]
  },
  {
   "cell_type": "markdown",
   "id": "87daf966-b4e7-4814-992b-89faaebf968f",
   "metadata": {
    "jp-MarkdownHeadingCollapsed": true
   },
   "source": [
    "# Inline transformation through RunnableLambda  before RunnableParallel"
   ]
  },
  {
   "cell_type": "code",
   "execution_count": 36,
   "id": "9792191c-42cc-43d3-9c84-9b834c2d2476",
   "metadata": {},
   "outputs": [],
   "source": [
    "from langchain_core.runnables import RunnableParallel\n",
    "\n",
    "parallel_ops = RunnableParallel({\n",
    "    \"add_two_num\": add_two_num,\n",
    "    \"multiply_num\": multiply_num  ### This will be input_data * 10 => [2, 2] * 10 => 20 number of 2 \n",
    "})"
   ]
  },
  {
   "cell_type": "code",
   "execution_count": 37,
   "id": "853bde61-d0ca-41e7-813e-4b4ec70d440c",
   "metadata": {
    "scrolled": true
   },
   "outputs": [
    {
     "name": "stdout",
     "output_type": "stream",
     "text": [
      "\u001b[32;1m\u001b[1;3m[chain/start]\u001b[0m \u001b[1m[chain:RunnableSequence] Entering Chain run with input:\n",
      "\u001b[0m{\n",
      "  \"input\": [\n",
      "    2,\n",
      "    2\n",
      "  ]\n",
      "}\n",
      "\u001b[32;1m\u001b[1;3m[chain/start]\u001b[0m \u001b[1m[chain:RunnableSequence > chain:RunnableParallel<add_two_num,multiply_num>] Entering Chain run with input:\n",
      "\u001b[0m{\n",
      "  \"input\": 4\n",
      "}\n",
      "\u001b[31;1m\u001b[1;3m[chain/error]\u001b[0m \u001b[1m[chain:RunnableSequence > chain:RunnableParallel<add_two_num,multiply_num>] [3ms] Chain run errored with error:\n",
      "\u001b[0m\"TypeError('cannot unpack non-iterable int object')Traceback (most recent call last):\\n\\n\\n  File \\\"/mnt/d/myDev/llmapps/venv/lib/python3.9/site-packages/langchain_core/runnables/base.py\\\", line 3562, in invoke\\n    output = {key: future.result() for key, future in zip(steps, futures)}\\n\\n\\n  File \\\"/mnt/d/myDev/llmapps/venv/lib/python3.9/site-packages/langchain_core/runnables/base.py\\\", line 3562, in <dictcomp>\\n    output = {key: future.result() for key, future in zip(steps, futures)}\\n\\n\\n  File \\\"/home/bhujay/anaconda3/lib/python3.9/concurrent/futures/_base.py\\\", line 438, in result\\n    return self.__get_result()\\n\\n\\n  File \\\"/home/bhujay/anaconda3/lib/python3.9/concurrent/futures/_base.py\\\", line 390, in __get_result\\n    raise self._exception\\n\\n\\n  File \\\"/home/bhujay/anaconda3/lib/python3.9/concurrent/futures/thread.py\\\", line 52, in run\\n    result = self.fn(*self.args, **self.kwargs)\\n\\n\\n  File \\\"/tmp/ipykernel_1392/3487593571.py\\\", line 3, in invoke\\n    x, y = inputs\\n\\n\\nTypeError: cannot unpack non-iterable int object\"\n",
      "\u001b[31;1m\u001b[1;3m[chain/error]\u001b[0m \u001b[1m[chain:RunnableSequence] [6ms] Chain run errored with error:\n",
      "\u001b[0m\"TypeError('cannot unpack non-iterable int object')Traceback (most recent call last):\\n\\n\\n  File \\\"/mnt/d/myDev/llmapps/venv/lib/python3.9/site-packages/langchain_core/runnables/base.py\\\", line 2875, in invoke\\n    input = step.invoke(input, config)\\n\\n\\n  File \\\"/mnt/d/myDev/llmapps/venv/lib/python3.9/site-packages/langchain_core/runnables/base.py\\\", line 3562, in invoke\\n    output = {key: future.result() for key, future in zip(steps, futures)}\\n\\n\\n  File \\\"/mnt/d/myDev/llmapps/venv/lib/python3.9/site-packages/langchain_core/runnables/base.py\\\", line 3562, in <dictcomp>\\n    output = {key: future.result() for key, future in zip(steps, futures)}\\n\\n\\n  File \\\"/home/bhujay/anaconda3/lib/python3.9/concurrent/futures/_base.py\\\", line 438, in result\\n    return self.__get_result()\\n\\n\\n  File \\\"/home/bhujay/anaconda3/lib/python3.9/concurrent/futures/_base.py\\\", line 390, in __get_result\\n    raise self._exception\\n\\n\\n  File \\\"/home/bhujay/anaconda3/lib/python3.9/concurrent/futures/thread.py\\\", line 52, in run\\n    result = self.fn(*self.args, **self.kwargs)\\n\\n\\n  File \\\"/tmp/ipykernel_1392/3487593571.py\\\", line 3, in invoke\\n    x, y = inputs\\n\\n\\nTypeError: cannot unpack non-iterable int object\"\n"
     ]
    }
   ],
   "source": [
    "serial_n_parallel_chain =  add_two_num | parallel_ops\n",
    "try:\n",
    "    serial_n_parallel_chain.invoke(input_data)\n",
    "except:\n",
    "    pass"
   ]
  },
  {
   "cell_type": "code",
   "execution_count": 45,
   "id": "712a3d95-0c31-4a0d-987c-26ae8f5a4d49",
   "metadata": {},
   "outputs": [
    {
     "name": "stdout",
     "output_type": "stream",
     "text": [
      "\u001b[32;1m\u001b[1;3m[chain/start]\u001b[0m \u001b[1m[chain:RunnableLambda] Entering Chain run with input:\n",
      "\u001b[0m{\n",
      "  \"input\": 2\n",
      "}\n",
      "\u001b[36;1m\u001b[1;3m[chain/end]\u001b[0m \u001b[1m[chain:RunnableLambda] [0ms] Exiting Chain run with output:\n",
      "\u001b[0m{\n",
      "  \"output\": [\n",
      "    2,\n",
      "    2\n",
      "  ]\n",
      "}\n",
      "tranform_to_tuple: (2, 2)\n",
      "\u001b[32;1m\u001b[1;3m[chain/start]\u001b[0m \u001b[1m[chain:RunnableSequence] Entering Chain run with input:\n",
      "\u001b[0m{\n",
      "  \"input\": 2\n",
      "}\n",
      "\u001b[32;1m\u001b[1;3m[chain/start]\u001b[0m \u001b[1m[chain:RunnableSequence > chain:RunnableLambda] Entering Chain run with input:\n",
      "\u001b[0m{\n",
      "  \"input\": 2\n",
      "}\n",
      "\u001b[36;1m\u001b[1;3m[chain/end]\u001b[0m \u001b[1m[chain:RunnableSequence > chain:RunnableLambda] [0ms] Exiting Chain run with output:\n",
      "\u001b[0m{\n",
      "  \"output\": [\n",
      "    2,\n",
      "    2\n",
      "  ]\n",
      "}\n",
      "\u001b[36;1m\u001b[1;3m[chain/end]\u001b[0m \u001b[1m[chain:RunnableSequence] [1ms] Exiting Chain run with output:\n",
      "\u001b[0m{\n",
      "  \"output\": 4\n",
      "}\n",
      "transform_n_add: 4\n"
     ]
    }
   ],
   "source": [
    "transform_n_add = transform_to_tuple | add_two_num\n",
    "print('transform_n_add:', transform_n_add.invoke(2))"
   ]
  },
  {
   "cell_type": "code",
   "execution_count": 49,
   "id": "a3ac5da2-f344-4701-92d8-13c404acf120",
   "metadata": {},
   "outputs": [
    {
     "data": {
      "text/plain": [
       "{'add_two_num': 8, 'multiply_num': 40}"
      ]
     },
     "execution_count": 49,
     "metadata": {},
     "output_type": "execute_result"
    }
   ],
   "source": [
    "set_debug(False)\n",
    "transformed_parallel_ops = RunnableParallel({\n",
    "    \"add_two_num\": transform_n_add,\n",
    "    \"multiply_num\": multiply_num  ### This will be input_data * 10 => [2, 2] * 10 => 20 number of 2 \n",
    "})\n",
    "serial_transoform_parallel_chain =  add_two_num | transformed_parallel_ops\n",
    "serial_transoform_parallel_chain.invoke(input_data)"
   ]
  },
  {
   "cell_type": "code",
   "execution_count": null,
   "id": "ba56d29d-a9b1-4e0a-a2ae-64ce78e506e8",
   "metadata": {},
   "outputs": [],
   "source": []
  },
  {
   "cell_type": "markdown",
   "id": "ee512339-4dce-494a-9c70-65f0ab16c8a3",
   "metadata": {
    "jp-MarkdownHeadingCollapsed": true
   },
   "source": [
    "# RunnablePassthrough "
   ]
  },
  {
   "cell_type": "code",
   "execution_count": 62,
   "id": "2a639ec0-ef89-4d22-8f21-5ac8b824d2a5",
   "metadata": {},
   "outputs": [
    {
     "data": {
      "text/plain": [
       "30"
      ]
     },
     "execution_count": 62,
     "metadata": {},
     "output_type": "execute_result"
    }
   ],
   "source": [
    "# A function becomes Runnable by passing through RunnablePassthrough\n",
    "chain_rp = add_2x | RunnablePassthrough()\n",
    "chain_rp.invoke(10)"
   ]
  },
  {
   "cell_type": "code",
   "execution_count": 63,
   "id": "ba5e3d05-69ff-445b-99fa-2ec7e5559ca8",
   "metadata": {},
   "outputs": [
    {
     "data": {
      "text/plain": [
       "10"
      ]
     },
     "execution_count": 63,
     "metadata": {},
     "output_type": "execute_result"
    }
   ],
   "source": [
    "# Runnable to passthrough inputs unchanged or with additional keys.\n",
    "# This Runnable behaves almost like the identity function, except that it can be configured to add additional keys to the output, if the input is a dict.\n",
    "from langchain_core.runnables import RunnablePassthrough\n",
    "def add_2x(x):\n",
    "    return x + 2 * x\n",
    "rp = RunnablePassthrough(add_2x)\n",
    "rp.invoke(10)"
   ]
  },
  {
   "cell_type": "code",
   "execution_count": 78,
   "id": "ac234134-1ba4-486d-9192-0d04cd5687b3",
   "metadata": {},
   "outputs": [
    {
     "data": {
      "text/plain": [
       "{'add_2x': 30, 'add_100': 130}"
      ]
     },
     "execution_count": 78,
     "metadata": {},
     "output_type": "execute_result"
    }
   ],
   "source": [
    "### Assign an additional key when the input to RunnablePassthrough is a dict\n",
    "mydict = {\"add_2x\": add_2x }\n",
    "chain_rp = mydict| RunnablePassthrough().assign(add_100=lambda dict_inpt: dict_inpt['add_2x'] + 100)\n",
    "chain_rp.invoke(10)"
   ]
  },
  {
   "cell_type": "code",
   "execution_count": 82,
   "id": "daf6dc83-f183-4cfb-853b-355023f97d5d",
   "metadata": {},
   "outputs": [
    {
     "data": {
      "text/plain": [
       "{'input_data': 4, 'add_two_num': 8, 'input_to_multiply': 4, 'multiply_num': 40}"
      ]
     },
     "execution_count": 82,
     "metadata": {},
     "output_type": "execute_result"
    }
   ],
   "source": [
    "### keeping the original input at different stage of the chain\n",
    "transformed_parallel_ops = RunnableParallel({\n",
    "    \"input_data\": RunnablePassthrough(),\n",
    "    \"add_two_num\": transform_n_add,\n",
    "    \"input_to_multiply\": RunnablePassthrough(), ### get the \n",
    "    \"multiply_num\": multiply_num,  \n",
    "    \n",
    "})\n",
    "serial_transoform_parallel_chain =  add_two_num | transformed_parallel_ops\n",
    "serial_transoform_parallel_chain.invoke(input_data)"
   ]
  },
  {
   "cell_type": "code",
   "execution_count": null,
   "id": "c081754a-4346-4115-977b-e6466896a394",
   "metadata": {},
   "outputs": [],
   "source": []
  },
  {
   "cell_type": "code",
   "execution_count": null,
   "id": "acbb0894-74aa-4c46-91fa-fda3c53120fe",
   "metadata": {},
   "outputs": [],
   "source": []
  },
  {
   "cell_type": "markdown",
   "id": "d36a77ea-82b6-4bba-bffd-0160c680b043",
   "metadata": {
    "jp-MarkdownHeadingCollapsed": true
   },
   "source": [
    "# More on Runnable Class and Bind "
   ]
  },
  {
   "cell_type": "code",
   "execution_count": 9,
   "id": "1e07336a-c2f6-4794-9f09-faefb8aa08c7",
   "metadata": {},
   "outputs": [],
   "source": [
    "import langchain_core"
   ]
  },
  {
   "cell_type": "code",
   "execution_count": 10,
   "id": "59db287a-54af-452e-83e9-4528516f080b",
   "metadata": {},
   "outputs": [
    {
     "name": "stdout",
     "output_type": "stream",
     "text": [
      "Hello world!\n",
      "['Hello world!', 'Goodbye world!']\n"
     ]
    }
   ],
   "source": [
    "from langchain_core.runnables.base import Runnable\n",
    "from typing import Any, Dict, Optional, Type\n",
    "\n",
    "class TextTransformationRunnable(Runnable[str, str]):\n",
    "    \"\"\"\n",
    "    A Runnable that transforms input text by appending a specified suffix.\n",
    "    \"\"\"\n",
    "    def __init__(self, suffix: str):\n",
    "        super().__init__()\n",
    "        self.suffix = suffix\n",
    "\n",
    "    def invoke(self, input: str, config: Dict[str, Any] = None) -> str:\n",
    "        \"\"\"\n",
    "        Appends the suffix to the input text.\n",
    "        \"\"\"\n",
    "        return input + self.suffix\n",
    "\n",
    "    def batch(self, inputs: list[str], config: Dict[str, Any] = None) -> list[str]:\n",
    "        \"\"\"\n",
    "        Processes a batch of inputs by appending the suffix to each input text.\n",
    "        \"\"\"\n",
    "        return [self.invoke(input_text, config) for input_text in inputs]\n",
    "\n",
    "# Usage example\n",
    "suffix_adder = TextTransformationRunnable(\" world!\")\n",
    "\n",
    "# Single invocation\n",
    "result = suffix_adder.invoke(\"Hello\")\n",
    "print(result)  # Outputs: Hello world!\n",
    "\n",
    "# Batch invocation\n",
    "batch_result = suffix_adder.batch([\"Hello\", \"Goodbye\"])\n",
    "print(batch_result)  # Outputs: ['Hello world!', 'Goodbye world!']\n"
   ]
  },
  {
   "cell_type": "code",
   "execution_count": 83,
   "id": "6a0ca2b9-3a60-42c0-93d2-d9f3eae73fe9",
   "metadata": {},
   "outputs": [
    {
     "name": "stdout",
     "output_type": "stream",
     "text": [
      "runnable_add_one: 3\n",
      "runnable_buggy_double: 6\n"
     ]
    }
   ],
   "source": [
    "from langchain_core.runnables import RunnableLambda\n",
    "import random\n",
    "\n",
    "def add_one(x:int)->int:\n",
    "    return x + 1\n",
    "\n",
    "def buggy_double(y:int)->int:\n",
    "    'buggy code that will fail 70% of the time'\n",
    "    if random.random() > 0.3:\n",
    "        print('this code failed due to a bug')\n",
    "        raise ValueError('Buggy code triggerred')\n",
    "    return y * 2\n",
    "\n",
    "runnable_add_one = RunnableLambda(add_one)\n",
    "print('runnable_add_one:', runnable_add_one.invoke(2))\n",
    "runnable_buggy_double = RunnableLambda(buggy_double).with_retry(\n",
    "                            stop_after_attempt=10,\n",
    "                            wait_exponential_jitter=False)\n",
    "try:\n",
    "    print('runnable_buggy_double:', runnable_buggy_double.invoke(3)) \n",
    "except:\n",
    "    pass"
   ]
  },
  {
   "cell_type": "code",
   "execution_count": 84,
   "id": "6b25fab0-4b4c-4116-99c8-8bdfb3461825",
   "metadata": {},
   "outputs": [
    {
     "name": "stdout",
     "output_type": "stream",
     "text": [
      "this code failed due to a bug\n"
     ]
    },
    {
     "data": {
      "text/plain": [
       "4"
      ]
     },
     "execution_count": 84,
     "metadata": {},
     "output_type": "execute_result"
    }
   ],
   "source": [
    "sequence = runnable_add_one.pipe(runnable_buggy_double) ## equivallent \n",
    "sequence.invoke(1)"
   ]
  },
  {
   "cell_type": "code",
   "execution_count": 85,
   "id": "7643d568-fd07-4942-b588-c2589fb5e1ef",
   "metadata": {},
   "outputs": [
    {
     "name": "stdout",
     "output_type": "stream",
     "text": [
      "this code failed due to a bug\n",
      "this code failed due to a bug\n",
      "this code failed due to a bug\n",
      "this code failed due to a bug\n"
     ]
    },
    {
     "data": {
      "text/plain": [
       "4"
      ]
     },
     "execution_count": 85,
     "metadata": {},
     "output_type": "execute_result"
    }
   ],
   "source": [
    "set_debug(False)\n",
    "sequence = runnable_add_one | (runnable_buggy_double) ## equivallent \n",
    "sequence.invoke(1)"
   ]
  },
  {
   "cell_type": "code",
   "execution_count": 86,
   "id": "1d7ba316-52f7-4811-9550-182f9073cc27",
   "metadata": {},
   "outputs": [
    {
     "name": "stdout",
     "output_type": "stream",
     "text": [
      "this code failed due to a bug\n",
      "this code failed due to a bug\n",
      "this code failed due to a bug\n"
     ]
    },
    {
     "data": {
      "text/plain": [
       "4"
      ]
     },
     "execution_count": 86,
     "metadata": {},
     "output_type": "execute_result"
    }
   ],
   "source": [
    "await sequence.ainvoke(1)"
   ]
  },
  {
   "cell_type": "code",
   "execution_count": 87,
   "id": "be15c4f7-7fc9-44dc-955a-f4194f757ef2",
   "metadata": {},
   "outputs": [
    {
     "name": "stdout",
     "output_type": "stream",
     "text": [
      "this code failed due to a bugthis code failed due to a bug\n",
      "\n",
      "this code failed due to a bug\n",
      "this code failed due to a bug\n",
      "this code failed due to a bug\n"
     ]
    },
    {
     "data": {
      "text/plain": [
       "[4, 6]"
      ]
     },
     "execution_count": 87,
     "metadata": {},
     "output_type": "execute_result"
    }
   ],
   "source": [
    "set_debug(False)\n",
    "await sequence.abatch((1, 2))"
   ]
  },
  {
   "cell_type": "code",
   "execution_count": 88,
   "id": "d3a65112-07f0-40a7-9d9f-6528e0950689",
   "metadata": {},
   "outputs": [
    {
     "data": {
      "text/plain": [
       "{'mul_2': 4, 'mul_5': 10}"
      ]
     },
     "execution_count": 88,
     "metadata": {},
     "output_type": "execute_result"
    }
   ],
   "source": [
    "set_debug(False)\n",
    "parallel_ops =  RunnableLambda(lambda x: x + 1) | {\n",
    "    'mul_2': RunnableLambda(lambda x: x * 2),\n",
    "    'mul_5': RunnableLambda(lambda x: x * 5)\n",
    "}\n",
    "parallel_ops.invoke(1)"
   ]
  },
  {
   "cell_type": "code",
   "execution_count": null,
   "id": "8742068e-5413-4552-a9a3-d036f730755c",
   "metadata": {},
   "outputs": [],
   "source": []
  },
  {
   "cell_type": "code",
   "execution_count": null,
   "id": "87aeaa8c-d6cc-4980-9ad8-3a195cb25770",
   "metadata": {},
   "outputs": [],
   "source": []
  },
  {
   "cell_type": "code",
   "execution_count": null,
   "id": "beec1671-e169-4fb8-ad5f-841499f003a0",
   "metadata": {},
   "outputs": [],
   "source": []
  },
  {
   "cell_type": "markdown",
   "id": "bb84360a-4a21-4808-90bd-c4942923b9ac",
   "metadata": {},
   "source": [
    " the bind() method in Langchain serves a few key purposes:\n",
    "• It allows you to bind arguments to a Runnable, returning a new Runnable. This is useful when a Runnable in a chain requires an argument that is not in the output of the previous Runnable or included in the user input.0• It can be used to bind model-specific tools or default invocation arguments to a Runnable. This allows you to configure the Runnable with certain parameters that will be used each time it is invoked, without having to pass those parameters in manually. [2,3]\n",
    "• When working with chat models, the bind_tools() method can be used to handle converting custom tool schemas (like the ones used by OpenAI) and binding them to the model, so the model can call those tools as part of its response. [4,5]\n",
    "In summary, the bind() method in Langchain provides a way to configure a Runnable with additional parameters or functionality, without having to pass those in manually each time the Runnable is used. This helps make Runnables more reusable and composable within larger chains or workflows."
   ]
  },
  {
   "cell_type": "code",
   "execution_count": 17,
   "id": "a36e1a55-7215-408d-bd84-346310b6cb4a",
   "metadata": {},
   "outputs": [],
   "source": [
    "from typing import Any, Dict, Optional, Type\n",
    "from langchain_core.runnables import Runnable\n",
    "\n",
    "class TextProcessorRunnable(Runnable[str, str]):\n",
    "    def __init__(self, to_uppercase: bool = False) -> None:\n",
    "        self.to_uppercase = to_uppercase\n",
    "\n",
    "    def invoke(self, input: str, config: Optional[Dict[str, Any]] = None, **kwargs: Any) -> str:\n",
    "        # Merge the instance-level and kwargs-level configuration\n",
    "        to_uppercase = kwargs.get('to_uppercase', self.to_uppercase)\n",
    "        \n",
    "        # Process the input text\n",
    "        if to_uppercase:\n",
    "            return input.upper()\n",
    "        return input\n",
    "\n",
    "    @property\n",
    "    def InputType(self) -> Type[str]:\n",
    "        return str\n",
    "\n",
    "    @property\n",
    "    def OutputType(self) -> Type[str]:\n",
    "        return str\n"
   ]
  },
  {
   "cell_type": "code",
   "execution_count": 18,
   "id": "9e19802b-5d00-4d92-837f-b7ac7958366e",
   "metadata": {},
   "outputs": [
    {
     "name": "stdout",
     "output_type": "stream",
     "text": [
      "Hello World\n",
      "HELLO WORLD\n"
     ]
    }
   ],
   "source": [
    "# Create an instance of TextProcessorRunnable without binding\n",
    "processor = TextProcessorRunnable()\n",
    "\n",
    "# Invoke the processor without binding any arguments\n",
    "output = processor.invoke(\"Hello World\")\n",
    "print(output)  # Output: \"Hello World\"\n",
    "\n",
    "# Now, use the bind method to bind the 'to_uppercase' argument\n",
    "bound_processor = processor.bind(to_uppercase=True)\n",
    "\n",
    "# Invoke the bound processor\n",
    "bound_output = bound_processor.invoke(\"Hello World\")\n",
    "print(bound_output)  # Output: \"HELLO WORLD\"\n"
   ]
  },
  {
   "cell_type": "code",
   "execution_count": 19,
   "id": "bf9b3515-bb6a-4fb4-8fc2-31cd79502c23",
   "metadata": {},
   "outputs": [
    {
     "data": {
      "text/plain": [
       "Ellipsis"
      ]
     },
     "execution_count": 19,
     "metadata": {},
     "output_type": "execute_result"
    }
   ],
   "source": [
    "''' is being used as a placeholder. If tools is meant to hold a configuration or a set of functionalities that are yet to be implemented or configured, using ... is a way to indicate that it's intentionally left incomplete for the moment. '''\n",
    "tools = ...  \n",
    "tools"
   ]
  },
  {
   "cell_type": "markdown",
   "id": "5ae1b5e5-e9b3-4117-aab1-ed7dbc9d0336",
   "metadata": {},
   "source": [
    "#  STREAM "
   ]
  },
  {
   "cell_type": "markdown",
   "id": "710ed39c-4df8-4198-a511-b3436b2a8574",
   "metadata": {},
   "source": [
    "- this was left out in previous exercise - we have to complete it \n",
    "- stream from Runnable should be able to go to a jquery "
   ]
  },
  {
   "cell_type": "code",
   "execution_count": null,
   "id": "ee79b2c3-2f42-4af0-9442-12ccddfcbd75",
   "metadata": {},
   "outputs": [],
   "source": []
  },
  {
   "cell_type": "code",
   "execution_count": null,
   "id": "1a4cdf2a-9397-4fc6-8cf4-5262b592ab52",
   "metadata": {},
   "outputs": [],
   "source": []
  },
  {
   "cell_type": "code",
   "execution_count": null,
   "id": "5bc7002d-4b35-424b-ab59-bbafb67fd889",
   "metadata": {},
   "outputs": [],
   "source": []
  },
  {
   "cell_type": "code",
   "execution_count": null,
   "id": "d4e0bceb-515e-4e1d-a2e1-7077f32c4821",
   "metadata": {},
   "outputs": [],
   "source": []
  },
  {
   "cell_type": "code",
   "execution_count": null,
   "id": "bdf0884d-dcfb-4f7e-b66d-38b0220e7bf5",
   "metadata": {},
   "outputs": [],
   "source": []
  },
  {
   "cell_type": "code",
   "execution_count": null,
   "id": "27a05d37-f27a-4d4b-8c29-fbe338ebd61f",
   "metadata": {},
   "outputs": [],
   "source": []
  }
 ],
 "metadata": {
  "kernelspec": {
   "display_name": "Python 3 (ipykernel)",
   "language": "python",
   "name": "python3"
  },
  "language_info": {
   "codemirror_mode": {
    "name": "ipython",
    "version": 3
   },
   "file_extension": ".py",
   "mimetype": "text/x-python",
   "name": "python",
   "nbconvert_exporter": "python",
   "pygments_lexer": "ipython3",
   "version": "3.9.7"
  }
 },
 "nbformat": 4,
 "nbformat_minor": 5
}
