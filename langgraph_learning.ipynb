{
 "cells": [
  {
   "cell_type": "markdown",
   "id": "2149dd20-5643-48b9-9f18-e6d381e07718",
   "metadata": {},
   "source": [
    "# Imports"
   ]
  },
  {
   "cell_type": "code",
   "execution_count": 1,
   "id": "c77205af-7d66-4f54-9daf-627df82097e3",
   "metadata": {},
   "outputs": [],
   "source": [
    "import os\n",
    "import importlib\n",
    "import load_configs\n",
    "importlib.reload(load_configs)\n",
    "openai_api_key = load_configs.openai_api_key\n",
    "tavily_api_key = load_configs.tavily_api_key\n",
    "from load_configs import openai_api_key, tavily_api_key\n",
    "from langchain_openai import OpenAI, ChatOpenAI\n",
    "from typing import (\n",
    "    List, Sequence, Tuple, Callable, Optional, Union, Literal,\n",
    "    TYPE_CHECKING, Any, Annotated\n",
    ")\n",
    "from typing_extensions import TypedDict\n",
    "\n",
    "from langgraph.graph import StateGraph, START, END\n",
    "from langgraph.graph.message import add_messages"
   ]
  },
  {
   "cell_type": "markdown",
   "id": "e7a94264-f21e-4577-bcb5-79cc3cd15858",
   "metadata": {},
   "source": [
    "# Model"
   ]
  },
  {
   "cell_type": "code",
   "execution_count": 2,
   "id": "139b9a4c-1f79-4110-9504-2fef11fc972c",
   "metadata": {},
   "outputs": [
    {
     "data": {
      "text/plain": [
       "AIMessage(content='Hello! How can I assist you today?', response_metadata={'token_usage': {'completion_tokens': 9, 'prompt_tokens': 8, 'total_tokens': 17}, 'model_name': 'gpt-4o-mini-2024-07-18', 'system_fingerprint': 'fp_48196bc67a', 'finish_reason': 'stop', 'logprobs': None}, id='run-4158a994-5d5c-400a-8ec8-8a2061b0deb8-0', usage_metadata={'input_tokens': 8, 'output_tokens': 9, 'total_tokens': 17})"
      ]
     },
     "execution_count": 2,
     "metadata": {},
     "output_type": "execute_result"
    }
   ],
   "source": [
    "chatmodel = ChatOpenAI(api_key=openai_api_key.get_secret_value(), \n",
    "                       model=\"gpt-4o-mini\")\n",
    "chatmodel.invoke(\"hi\")"
   ]
  },
  {
   "cell_type": "markdown",
   "id": "2a033bfd-e189-4f20-9f11-4ec69126377f",
   "metadata": {
    "jp-MarkdownHeadingCollapsed": true
   },
   "source": [
    "# State as TypedDict"
   ]
  },
  {
   "cell_type": "code",
   "execution_count": 3,
   "id": "d8783b2e-6941-4783-accb-8370d409c3a0",
   "metadata": {},
   "outputs": [
    {
     "name": "stdout",
     "output_type": "stream",
     "text": [
      "{}\n",
      "{'messages': ['Hello', 'World']}\n",
      "{'key_out_side_of_schema': 'value not in schema will raise an error by type checking tool'}\n"
     ]
    }
   ],
   "source": [
    "class State(TypedDict):\n",
    "    messages: Annotated[list, add_messages]  ## The messages key is annotated with the add_messages reducer function, which tells LangGraph to append new messages to the existing list, rather than overwriting it.\n",
    "\n",
    "s1 = State()\n",
    "print(s1)\n",
    "\n",
    "### This dictionary must have a key messages with a value that is a list. \n",
    "###Type checkers (like mypy) will enforce this structure.\n",
    "\n",
    "state_instance: State = {\n",
    "    \"messages\": [\"Hello\", \"World\"]  \n",
    "}\n",
    "print(state_instance) \n",
    "\n",
    "## This will raise an error in static type checking tools\n",
    "state_instance: State = {\n",
    "    \"key_out_side_of_schema\": \"value not in schema will raise an error by type checking tool\"  \n",
    "    }\n",
    "print(state_instance)\n"
   ]
  },
  {
   "cell_type": "markdown",
   "id": "695cfd86-8ef2-4f9a-a182-aa99f817064c",
   "metadata": {},
   "source": [
    "# StateGraph Graph Builder"
   ]
  },
  {
   "cell_type": "code",
   "execution_count": 4,
   "id": "c45f5678-275d-45b8-a371-331b500894e8",
   "metadata": {},
   "outputs": [],
   "source": [
    "graph_builder = StateGraph(State)\n",
    "##graph_builder has methods to add node , edge "
   ]
  },
  {
   "cell_type": "code",
   "execution_count": 5,
   "id": "29cad1a3-54f4-461f-8477-59e9520f3888",
   "metadata": {},
   "outputs": [
    {
     "name": "stdout",
     "output_type": "stream",
     "text": [
      "{'chatbot': StateNodeSpec(runnable=chatbot(recurse=True), metadata=None, input=<class '__main__.State'>, retry_policy=None)}\n"
     ]
    }
   ],
   "source": [
    "## create a chatbot node - \n",
    "### Every node will receive current state as input and return updated state\n",
    "def chatbot(state: State):\n",
    "    node_input = state[\"messages\"]\n",
    "    node_result = chatmodel.invoke(node_input)\n",
    "    node_output = {\"messages\": [node_result]}\n",
    "    return node_output\n",
    "try:\n",
    "    graph_builder.add_node(\"chatbot\", chatbot)\n",
    "except:\n",
    "    pass\n",
    "print(graph_builder.nodes)"
   ]
  },
  {
   "cell_type": "code",
   "execution_count": 6,
   "id": "f5c1e727-50d5-4de9-bb30-34c640ea90d6",
   "metadata": {
    "scrolled": true
   },
   "outputs": [
    {
     "data": {
      "text/plain": [
       "CompiledStateGraph(nodes={'__start__': PregelNode(config={'tags': ['langsmith:hidden'], 'metadata': {}, 'configurable': {}}, channels=['__start__'], triggers=['__start__'], writers=[ChannelWrite<messages>(recurse=True, writes=[ChannelWriteEntry(channel='messages', value=<object object at 0x7fcc6a1c8510>, skip_none=False, mapper=_get_state_key(recurse=False))], require_at_least_one_of=['messages']), ChannelWrite<start:chatbot>(recurse=True, writes=[ChannelWriteEntry(channel='start:chatbot', value='__start__', skip_none=False, mapper=None)], require_at_least_one_of=None)]), 'chatbot': PregelNode(config={'tags': [], 'metadata': {}, 'configurable': {}}, channels={'messages': 'messages'}, triggers=['start:chatbot'], mapper=functools.partial(<function _coerce_state at 0x7fcc69c8eb80>, <class '__main__.State'>), writers=[ChannelWrite<chatbot,messages>(recurse=True, writes=[ChannelWriteEntry(channel='chatbot', value='chatbot', skip_none=False, mapper=None), ChannelWriteEntry(channel='messages', value=<object object at 0x7fcc6a1c8510>, skip_none=False, mapper=_get_state_key(recurse=False))], require_at_least_one_of=['messages'])])}, channels={'messages': <langgraph.channels.binop.BinaryOperatorAggregate object at 0x7fcc69bd1850>, '__start__': <langgraph.channels.ephemeral_value.EphemeralValue object at 0x7fcc69bd8fd0>, 'chatbot': <langgraph.channels.ephemeral_value.EphemeralValue object at 0x7fcc69baad90>, 'start:chatbot': <langgraph.channels.ephemeral_value.EphemeralValue object at 0x7fcc69baabe0>}, auto_validate=False, stream_mode='updates', output_channels=['messages'], stream_channels=['messages'], input_channels='__start__', builder=<langgraph.graph.state.StateGraph object at 0x7fcc69bd1220>)"
      ]
     },
     "execution_count": 6,
     "metadata": {},
     "output_type": "execute_result"
    }
   ],
   "source": [
    "graph_builder.add_edge(START, \"chatbot\") ## ENTRY POINT\n",
    "graph_builder.add_edge(\"chatbot\", END) ### finish point\n",
    "graph = graph_builder.compile()\n",
    "graph"
   ]
  },
  {
   "cell_type": "code",
   "execution_count": 7,
   "id": "626e315f-ce52-4f29-a4eb-00db7c81dc86",
   "metadata": {},
   "outputs": [
    {
     "data": {
      "text/plain": [
       "Graph(nodes={'__start__': Node(id='__start__', name='__start__', data=<class 'pydantic.v1.main.LangGraphInput'>, metadata=None), 'chatbot': Node(id='chatbot', name='chatbot', data=chatbot(recurse=True), metadata=None), '__end__': Node(id='__end__', name='__end__', data=<class 'pydantic.v1.main.LangGraphOutput'>, metadata=None)}, edges=[Edge(source='__start__', target='chatbot', data=None, conditional=False), Edge(source='chatbot', target='__end__', data=None, conditional=False)])"
      ]
     },
     "execution_count": 7,
     "metadata": {},
     "output_type": "execute_result"
    }
   ],
   "source": [
    "graph.get_graph()"
   ]
  },
  {
   "cell_type": "code",
   "execution_count": 8,
   "id": "5a2a3062-c8b8-42f4-bac5-a11698a326d4",
   "metadata": {},
   "outputs": [
    {
     "name": "stdout",
     "output_type": "stream",
     "text": [
      "%%{init: {'flowchart': {'curve': 'linear'}}}%%\n",
      "graph TD;\n",
      "\t__start__([__start__]):::first\n",
      "\tchatbot(chatbot)\n",
      "\t__end__([__end__]):::last\n",
      "\t__start__ --> chatbot;\n",
      "\tchatbot --> __end__;\n",
      "\tclassDef default fill:#f2f0ff,line-height:1.2\n",
      "\tclassDef first fill-opacity:0\n",
      "\tclassDef last fill:#bfb6fc\n",
      "\n"
     ]
    }
   ],
   "source": [
    "print(graph.get_graph().draw_mermaid())"
   ]
  },
  {
   "cell_type": "code",
   "execution_count": 9,
   "id": "8bd89b13-fda3-4513-92cf-5f3d0ca14394",
   "metadata": {},
   "outputs": [
    {
     "data": {
      "image/jpeg": "[encoded data removed]",
      "text/plain": [
       "<IPython.core.display.Image object>"
      ]
     },
     "metadata": {},
     "output_type": "display_data"
    }
   ],
   "source": [
    "from IPython.display import Image, display\n",
    "try:\n",
    "    display(Image(graph.get_graph().draw_mermaid_png()))\n",
    "except:\n",
    "    pass"
   ]
  },
  {
   "cell_type": "code",
   "execution_count": 10,
   "id": "0a3b34de-9fc5-4930-ae15-82dce96dfa6a",
   "metadata": {},
   "outputs": [
    {
     "name": "stdout",
     "output_type": "stream",
     "text": [
      "streamed_output_state_from_graph type: <class 'generator'>\n",
      "output_state_from_graph: {'chatbot': {'messages': [AIMessage(content=\"In dawn's soft blush, the world awakens slow, where whispered dreams and golden sunlight flow.\", response_metadata={'token_usage': {'completion_tokens': 20, 'prompt_tokens': 16, 'total_tokens': 36}, 'model_name': 'gpt-4o-mini-2024-07-18', 'system_fingerprint': 'fp_48196bc67a', 'finish_reason': 'stop', 'logprobs': None}, id='run-3b1e7e0d-5463-4d4d-a5b6-df28134e3897-0', usage_metadata={'input_tokens': 16, 'output_tokens': 20, 'total_tokens': 36})]}}\n"
     ]
    }
   ],
   "source": [
    "input_state = {\"messages\": (\"user\", \"tell me a one line poem on early morning\")}\n",
    "streamed_output_state_from_graph = graph.stream(input_state)\n",
    "print('streamed_output_state_from_graph type:', type(streamed_output_state_from_graph))\n",
    "output_state_from_graph = next(streamed_output_state_from_graph)\n",
    "print('output_state_from_graph:', output_state_from_graph)"
   ]
  },
  {
   "cell_type": "code",
   "execution_count": 11,
   "id": "5282bd8c-11c3-47e9-a65d-f4889dacb77a",
   "metadata": {},
   "outputs": [
    {
     "name": "stdout",
     "output_type": "stream",
     "text": [
      "In dawn's soft blush, the world awakens slow, where whispered dreams and golden sunlight flow.\n",
      "{'input_tokens': 16, 'output_tokens': 20, 'total_tokens': 36}\n",
      "{'token_usage': {'completion_tokens': 20, 'prompt_tokens': 16, 'total_tokens': 36}, 'model_name': 'gpt-4o-mini-2024-07-18', 'system_fingerprint': 'fp_48196bc67a', 'finish_reason': 'stop', 'logprobs': None}\n"
     ]
    }
   ],
   "source": [
    "chatmodel_output = output_state_from_graph['chatbot']['messages'][-1]\n",
    "print(chatmodel_output.content)\n",
    "print(chatmodel_output.usage_metadata)\n",
    "print(chatmodel_output.response_metadata)"
   ]
  },
  {
   "cell_type": "code",
   "execution_count": 12,
   "id": "eabf6bf8-3872-4aa6-996c-9aac83ca7f2e",
   "metadata": {},
   "outputs": [
    {
     "name": "stdout",
     "output_type": "stream",
     "text": [
      "{'chatbot': {'messages': [AIMessage(content='In the hush of dawn, whispers of light dance on dew-kissed dreams.', response_metadata={'token_usage': {'completion_tokens': 16, 'prompt_tokens': 16, 'total_tokens': 32}, 'model_name': 'gpt-4o-mini-2024-07-18', 'system_fingerprint': 'fp_48196bc67a', 'finish_reason': 'stop', 'logprobs': None}, id='run-81321721-f3d0-4fde-b72b-5581585a02fd-0', usage_metadata={'input_tokens': 16, 'output_tokens': 16, 'total_tokens': 32})]}}\n"
     ]
    }
   ],
   "source": [
    "input_state = {\"messages\": (\"user\", \"tell me a one line poem on early morning\")}\n",
    "streamed_output_state_from_graph = graph.stream(input_state)\n",
    "for event in streamed_output_state_from_graph:\n",
    "    print(event)"
   ]
  },
  {
   "cell_type": "code",
   "execution_count": 13,
   "id": "cdff0055-ad01-4ad4-a092-4e9d8790d231",
   "metadata": {
    "scrolled": true
   },
   "outputs": [
    {
     "data": {
      "text/plain": [
       "{'messages': [HumanMessage(content='tell me a one line poem on early morning', id='cc93a36c-3314-4658-83c4-f6f2e8cb1f95'),\n",
       "  AIMessage(content=\"In dawn's soft glow, the world awakens, kissed by whispers of light.\", response_metadata={'token_usage': {'completion_tokens': 17, 'prompt_tokens': 16, 'total_tokens': 33}, 'model_name': 'gpt-4o-mini-2024-07-18', 'system_fingerprint': 'fp_48196bc67a', 'finish_reason': 'stop', 'logprobs': None}, id='run-03820edd-50eb-4bf7-8d75-f0738d42cf2f-0', usage_metadata={'input_tokens': 16, 'output_tokens': 17, 'total_tokens': 33})]}"
      ]
     },
     "execution_count": 13,
     "metadata": {},
     "output_type": "execute_result"
    }
   ],
   "source": [
    "graph.invoke(input_state)"
   ]
  },
  {
   "cell_type": "code",
   "execution_count": 14,
   "id": "39573238-214a-446b-9010-d75e2799b36c",
   "metadata": {},
   "outputs": [
    {
     "data": {
      "text/plain": [
       "{'messages': [HumanMessage(content='tell me a one line poem on early morning', id='1d6b584a-bc77-4a75-a67c-15abe06f5bdc'),\n",
       "  AIMessage(content=\"In dawn's soft whisper, dreams dissolve like mist.\", response_metadata={'token_usage': {'completion_tokens': 11, 'prompt_tokens': 16, 'total_tokens': 27}, 'model_name': 'gpt-4o-mini-2024-07-18', 'system_fingerprint': 'fp_48196bc67a', 'finish_reason': 'stop', 'logprobs': None}, id='run-a201e1ff-d680-4364-8a50-a02b391cc1a2-0', usage_metadata={'input_tokens': 16, 'output_tokens': 11, 'total_tokens': 27})]}"
      ]
     },
     "execution_count": 14,
     "metadata": {},
     "output_type": "execute_result"
    }
   ],
   "source": [
    "from langchain_core.messages import (HumanMessage, SystemMessage, AIMessage)\n",
    "input_state = {\"messages\": (HumanMessage(\"tell me a one line poem on early morning\"))}\n",
    "graph.invoke(input_state)"
   ]
  },
  {
   "cell_type": "markdown",
   "id": "5e2e1f5a-aa60-48ed-99fe-08106bb0fe49",
   "metadata": {},
   "source": [
    "# we can run this graph in a while loop to act like a chatbot"
   ]
  },
  {
   "cell_type": "code",
   "execution_count": 15,
   "id": "b282d962-327c-4117-9005-119e70ec04f2",
   "metadata": {},
   "outputs": [
    {
     "name": "stdin",
     "output_type": "stream",
     "text": [
      "User:  hi\n"
     ]
    },
    {
     "name": "stdout",
     "output_type": "stream",
     "text": [
      "Hello! How can I assist you today?\n",
      "{'input_tokens': 8, 'output_tokens': 9, 'total_tokens': 17}\n"
     ]
    },
    {
     "name": "stdin",
     "output_type": "stream",
     "text": [
      "User:  quit\n"
     ]
    }
   ],
   "source": [
    "while True:\n",
    "    user_input = input(\"User: \")\n",
    "    if user_input.lower() in [\"quit\", \"exit\", \"q\"]:\n",
    "        break\n",
    "    else:\n",
    "        user_input = {\"messages\": (\"user\", user_input)}\n",
    "    streamed_output_state_from_graph = graph.stream(user_input) \n",
    "    output_state_from_graph = next(streamed_output_state_from_graph)\n",
    "    chatmodel_output = output_state_from_graph['chatbot']['messages'][-1]\n",
    "    print(chatmodel_output.content)\n",
    "    print(chatmodel_output.usage_metadata)    \n"
   ]
  },
  {
   "cell_type": "markdown",
   "id": "75ac21a5-8519-4a85-afd9-e406fada46a8",
   "metadata": {},
   "source": [
    "# Integrating tool"
   ]
  },
  {
   "cell_type": "markdown",
   "id": "7f5f2d31-631a-4e67-9691-8f6745fda3b1",
   "metadata": {},
   "source": [
    "##  initialize tavily tool"
   ]
  },
  {
   "cell_type": "code",
   "execution_count": 38,
   "id": "aef7448b-0fb7-41f8-a7e6-e10716716549",
   "metadata": {},
   "outputs": [
    {
     "data": {
      "text/plain": [
       "[{'url': 'https://economictimes.indiatimes.com/itc-ltd/stocks/companyid-13554.cms',\n",
       "  'content': 'ITC Share Price Today (21 Aug, 2024): ITC Stock Price (₹ 505.40) Live NSE/BSE updates on The Economic Times. Check out why ITC share price is up today. Get all details on ITC Ltd.shares news and analysis, Forecasts, Dividend, balance sheet, profit & loss, Quarterly results, annual report information, and more ...'},\n",
       " {'url': 'https://ticker.finology.in/company/ITC',\n",
       "  'content': 'ITC Ltd. Share Price Today: CLOSE 498.8, HIGH 503.4, LOW: 497.7. Get latest balance sheet, annual reports, quarterly results, and price chart.'}]"
      ]
     },
     "execution_count": 38,
     "metadata": {},
     "output_type": "execute_result"
    }
   ],
   "source": [
    "os.environ['TAVILY_API_KEY'] = tavily_api_key.get_secret_value()\n",
    "from langchain_community.tools.tavily_search import TavilySearchResults\n",
    "tavily_search = TavilySearchResults(max_results=2, #### response_format='content_and_artifact' this tool did not have support for artifact\n",
    "                                   )\n",
    "tavily_search.invoke(\"what is the ITC share price today \")"
   ]
  },
  {
   "cell_type": "code",
   "execution_count": 17,
   "id": "79885d7d-21cc-4f3d-92a7-e7a0d2ba6cb1",
   "metadata": {},
   "outputs": [],
   "source": [
    "tools = [tavily_search]"
   ]
  },
  {
   "cell_type": "markdown",
   "id": "0702262c-0ec2-49d0-b612-5a5d785ec052",
   "metadata": {},
   "source": [
    "##  bind tool with model"
   ]
  },
  {
   "cell_type": "code",
   "execution_count": 18,
   "id": "bd069beb-c8ab-4ce9-a920-5e8dd0119d9c",
   "metadata": {},
   "outputs": [
    {
     "data": {
      "text/plain": [
       "RunnableBinding(bound=ChatOpenAI(client=<openai.resources.chat.completions.Completions object at 0x7fcc69c34760>, async_client=<openai.resources.chat.completions.AsyncCompletions object at 0x7fcc69c45910>, model_name='gpt-4o-mini', openai_api_key=SecretStr('**********'), openai_proxy=''), kwargs={'tools': [{'type': 'function', 'function': {'name': 'tavily_search_results_json', 'description': 'A search engine optimized for comprehensive, accurate, and trusted results. Useful for when you need to answer questions about current events. Input should be a search query.', 'parameters': {'type': 'object', 'properties': {'query': {'description': 'search query to look up', 'type': 'string'}}, 'required': ['query']}}}]})"
      ]
     },
     "execution_count": 18,
     "metadata": {},
     "output_type": "execute_result"
    }
   ],
   "source": [
    "chatmodel_with_tools = chatmodel.bind_tools(tools)\n",
    "chatmodel_with_tools"
   ]
  },
  {
   "cell_type": "markdown",
   "id": "c7547a18-34cc-453e-b8cb-5c394d11fbba",
   "metadata": {},
   "source": [
    "##  rebuild the graph with new node as chatmodel_with_tools"
   ]
  },
  {
   "cell_type": "code",
   "execution_count": 19,
   "id": "95059a02-f9a6-431b-88d0-7dce24a74744",
   "metadata": {},
   "outputs": [],
   "source": [
    "graph_builder = StateGraph(State)\n",
    "\n",
    "def chatbot(state: State):\n",
    "    node_input = state[\"messages\"]\n",
    "    node_result = chatmodel_with_tools.invoke(node_input)\n",
    "    node_output = {\"messages\": [node_result]}\n",
    "    return node_output\n",
    "try:\n",
    "    graph_builder.add_node(\"chatbot\", chatbot)\n",
    "except:\n",
    "    pass\n"
   ]
  },
  {
   "cell_type": "markdown",
   "id": "505a2430-7a20-4b81-9797-b43beccde955",
   "metadata": {
    "jp-MarkdownHeadingCollapsed": true
   },
   "source": [
    "## tool execution environment - takes AIMessage , take tool_call attribute and invoke all the tools"
   ]
  },
  {
   "cell_type": "markdown",
   "id": "918152dd-ef84-487e-9aa4-217aeec43105",
   "metadata": {},
   "source": [
    " the model has determinied what all tool to call hence we have to now call all the tool present in the AIMessage"
   ]
  },
  {
   "cell_type": "code",
   "execution_count": 40,
   "id": "e5f36f5c-cc78-4cea-846e-7700cb07af54",
   "metadata": {},
   "outputs": [],
   "source": [
    "import json\n",
    "from langchain_core.messages import ToolMessage\n",
    "\n",
    "class BasicToolNode:\n",
    "    ''' A node that runs the tools requested in the last AIMessage'''\n",
    "\n",
    "    def __init__(self, tools: list) -> None:\n",
    "        self.tools_dict = {tool.name: tool for tool in tools} ## converting all the tools as a dict \n",
    "\n",
    "    def __call__(self, inputs: dict):\n",
    "        #### GET THE LAST MESSAGE\n",
    "        messages = inputs.get(\"messages\", []) #### walrus operator  if messages := inputs.get(\"messages\", [])\n",
    "        if messages:\n",
    "            message = messages[-1]\n",
    "        else:\n",
    "            raise ValueError(\"No message found in input\")\n",
    "        outputs = []\n",
    "        for tool_call in message.tool_calls:   ### AIMessage will have an attribute name tool_calls\n",
    "                    #  tool_call format ->        {\n",
    "                    #     \"name\": \"calculate_revenue_tool\",\n",
    "                    #     \"args\": {\"product_name\": \"mechanical keyboard\"},\n",
    "                    #     \"id\": \"1\" , ## required field\n",
    "                    #     \"type\": \"tool_call\", ## required field\n",
    "                    # }\n",
    "            tool_name = tool_call.get('name')            \n",
    "            tool_result = self.tools_dict[tool_name].invoke(\n",
    "                # tool_call.get('args')  ### This will only provide the result and we have to reformat it as ToolMessage\n",
    "                tool_call  #### this should provide me ToolMessage  with content and artifact if the tool have support for artifact\n",
    "                )\n",
    "            outputs.append(tool_result)\n",
    "            # outputs.append(\n",
    "            #     ToolMessage(\n",
    "            #         content= json.dumps(tool_result),  #{\"tool_result\": tool_result}\n",
    "            #         artifact={},\n",
    "            #         name=tool_name, \n",
    "            #         tool_call_id=tool_call['id']\n",
    "            #     )\n",
    "            # )\n",
    "        final_out =  {\"messages\": outputs} \n",
    "        return final_out\n",
    "                        \n",
    "tool_node = BasicToolNode(tools=tools)"
   ]
  },
  {
   "cell_type": "code",
   "execution_count": 21,
   "id": "8add77f4-0431-4c32-849f-d56f8be7b363",
   "metadata": {},
   "outputs": [
    {
     "data": {
      "text/plain": [
       "AIMessage(content='Hello! How can I assist you today?', response_metadata={'token_usage': {'completion_tokens': 10, 'prompt_tokens': 80, 'total_tokens': 90}, 'model_name': 'gpt-4o-mini-2024-07-18', 'system_fingerprint': 'fp_48196bc67a', 'finish_reason': 'stop', 'logprobs': None}, id='run-2041f479-e4d1-4b58-931a-f290d1cd3cd4-0', usage_metadata={'input_tokens': 80, 'output_tokens': 10, 'total_tokens': 90})"
      ]
     },
     "execution_count": 21,
     "metadata": {},
     "output_type": "execute_result"
    }
   ],
   "source": [
    "chatmodel_with_tools.invoke('hi')"
   ]
  },
  {
   "cell_type": "code",
   "execution_count": 22,
   "id": "371c7e30-323a-4da5-ad6d-f6725f2bdc28",
   "metadata": {},
   "outputs": [
    {
     "data": {
      "text/plain": [
       "AIMessage(content='', additional_kwargs={'tool_calls': [{'id': 'call_8BfjzaJd8cSXZQC7JnKVEIdI', 'function': {'arguments': '{\"query\":\"ITC share price today\"}', 'name': 'tavily_search_results_json'}, 'type': 'function'}]}, response_metadata={'token_usage': {'completion_tokens': 22, 'prompt_tokens': 88, 'total_tokens': 110}, 'model_name': 'gpt-4o-mini-2024-07-18', 'system_fingerprint': 'fp_48196bc67a', 'finish_reason': 'tool_calls', 'logprobs': None}, id='run-5be2a96c-0a0d-42c5-8e53-8a6c7066ca7e-0', tool_calls=[{'name': 'tavily_search_results_json', 'args': {'query': 'ITC share price today'}, 'id': 'call_8BfjzaJd8cSXZQC7JnKVEIdI', 'type': 'tool_call'}], usage_metadata={'input_tokens': 88, 'output_tokens': 22, 'total_tokens': 110})"
      ]
     },
     "execution_count": 22,
     "metadata": {},
     "output_type": "execute_result"
    }
   ],
   "source": [
    "aimsg = chatmodel_with_tools.invoke('what is the ITC share price today?')\n",
    "aimsg"
   ]
  },
  {
   "cell_type": "code",
   "execution_count": 41,
   "id": "3ecaab67-9e59-4b16-b770-3e6da628997b",
   "metadata": {},
   "outputs": [
    {
     "data": {
      "text/plain": [
       "{'messages': [ToolMessage(content=[{'url': 'https://economictimes.indiatimes.com/itc-ltd/stocks/companyid-13554.cms', 'content': 'ITC Share Price Today (21 Aug, 2024): ITC Stock Price (₹ 505.40) Live NSE/BSE updates on The Economic Times. Check out why ITC share price is up today. Get all details on ITC shares news and analysis, Forecasts, Dividend, balance sheet, profit & loss, Quarterly results, annual report information, and more'}, {'url': 'https://www.nseindia.com/get-quotes/equity?symbol=ITC', 'content': 'ITC Limited Share Price Today, Live NSE Stock Price: Get the latest ITC Limited news, company updates, quotes, offers, annual financial reports, graph, volumes, 52 week high low, buy sell tips, balance sheet, historical charts, market performance, capitalisation, dividends, volume, profit and loss account, research, results and more details at NSE India.'}], name='tavily_search_results_json', tool_call_id='call_8BfjzaJd8cSXZQC7JnKVEIdI')]}"
      ]
     },
     "execution_count": 41,
     "metadata": {},
     "output_type": "execute_result"
    }
   ],
   "source": [
    "tool_node({\"messages\": [aimsg]})"
   ]
  },
  {
   "cell_type": "markdown",
   "id": "e8cf6c95-3963-44c4-ba2c-f12ff8cbaa9c",
   "metadata": {},
   "source": [
    "## add the tool execution node in the graph"
   ]
  },
  {
   "cell_type": "code",
   "execution_count": 42,
   "id": "8e719b1d-56a3-43fe-ad96-d016919d698d",
   "metadata": {},
   "outputs": [],
   "source": [
    "graph_builder.add_node(\"tools\", tool_node)"
   ]
  },
  {
   "cell_type": "code",
   "execution_count": null,
   "id": "535f4703-8eda-4e2c-8b46-ac10fbb219e2",
   "metadata": {},
   "outputs": [],
   "source": []
  },
  {
   "cell_type": "markdown",
   "id": "3dfc3b9d-1c95-4e23-b2de-b2fed2054dc7",
   "metadata": {},
   "source": [
    "# Other "
   ]
  },
  {
   "cell_type": "code",
   "execution_count": null,
   "id": "569dc29b-6b6e-4795-85a8-6a1b4c56920f",
   "metadata": {},
   "outputs": [],
   "source": []
  },
  {
   "cell_type": "code",
   "execution_count": null,
   "id": "8f087cfd-fa37-4390-82ff-64e251dcbfd7",
   "metadata": {},
   "outputs": [],
   "source": []
  },
  {
   "cell_type": "code",
   "execution_count": null,
   "id": "b1ad301b-ebf6-4ff6-8f7f-1a73113c572c",
   "metadata": {},
   "outputs": [],
   "source": []
  }
 ],
 "metadata": {
  "kernelspec": {
   "display_name": "Python 3 (ipykernel)",
   "language": "python",
   "name": "python3"
  },
  "language_info": {
   "codemirror_mode": {
    "name": "ipython",
    "version": 3
   },
   "file_extension": ".py",
   "mimetype": "text/x-python",
   "name": "python",
   "nbconvert_exporter": "python",
   "pygments_lexer": "ipython3",
   "version": "3.9.7"
  }
 },
 "nbformat": 4,
 "nbformat_minor": 5
}
