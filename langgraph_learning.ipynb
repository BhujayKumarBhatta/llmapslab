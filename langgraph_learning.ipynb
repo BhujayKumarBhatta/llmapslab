{
 "cells": [
  {
   "cell_type": "markdown",
   "id": "2149dd20-5643-48b9-9f18-e6d381e07718",
   "metadata": {},
   "source": [
    "# Imports"
   ]
  },
  {
   "cell_type": "code",
   "execution_count": 13,
   "id": "c77205af-7d66-4f54-9daf-627df82097e3",
   "metadata": {},
   "outputs": [],
   "source": [
    "from load_configs import openai_api_key\n",
    "from langchain_openai import OpenAI, ChatOpenAI\n",
    "from typing import (\n",
    "    List, Sequence, Tuple, Callable, Optional, Union, Literal,\n",
    "    TYPE_CHECKING, Any, Annotated\n",
    ")\n",
    "from typing_extensions import TypedDict\n",
    "\n",
    "from langgraph.graph import StateGraph, START, END\n",
    "from langgraph.graph.message import add_messages"
   ]
  },
  {
   "cell_type": "markdown",
   "id": "e7a94264-f21e-4577-bcb5-79cc3cd15858",
   "metadata": {},
   "source": [
    "# Model"
   ]
  },
  {
   "cell_type": "code",
   "execution_count": 9,
   "id": "139b9a4c-1f79-4110-9504-2fef11fc972c",
   "metadata": {},
   "outputs": [
    {
     "data": {
      "text/plain": [
       "AIMessage(content='Hello! How can I assist you today?', response_metadata={'token_usage': {'completion_tokens': 9, 'prompt_tokens': 8, 'total_tokens': 17}, 'model_name': 'gpt-4o-mini-2024-07-18', 'system_fingerprint': 'fp_48196bc67a', 'finish_reason': 'stop', 'logprobs': None}, id='run-a4b456ac-1360-40a7-a29d-535283f57514-0', usage_metadata={'input_tokens': 8, 'output_tokens': 9, 'total_tokens': 17})"
      ]
     },
     "execution_count": 9,
     "metadata": {},
     "output_type": "execute_result"
    }
   ],
   "source": [
    "chatmodel = ChatOpenAI(api_key=openai_api_key.get_secret_value(), \n",
    "                       model=\"gpt-4o-mini\")\n",
    "chatmodel.invoke(\"hi\")"
   ]
  },
  {
   "cell_type": "markdown",
   "id": "2a033bfd-e189-4f20-9f11-4ec69126377f",
   "metadata": {},
   "source": [
    "# State as TypedDict"
   ]
  },
  {
   "cell_type": "code",
   "execution_count": 26,
   "id": "d8783b2e-6941-4783-accb-8370d409c3a0",
   "metadata": {},
   "outputs": [
    {
     "name": "stdout",
     "output_type": "stream",
     "text": [
      "{}\n",
      "{'messages': ['Hello', 'World']}\n",
      "{'key_out_side_of_schema': 'value not in schema will raise an error by type checking tool'}\n"
     ]
    }
   ],
   "source": [
    "class State(TypedDict):\n",
    "    messages: Annotated[list, add_messages]  ## The messages key is annotated with the add_messages reducer function, which tells LangGraph to append new messages to the existing list, rather than overwriting it.\n",
    "\n",
    "s1 = State()\n",
    "print(s1)\n",
    "\n",
    "### This dictionary must have a key messages with a value that is a list. \n",
    "###Type checkers (like mypy) will enforce this structure.\n",
    "\n",
    "state_instance: State = {\n",
    "    \"messages\": [\"Hello\", \"World\"]  \n",
    "}\n",
    "print(state_instance) \n",
    "\n",
    "## This will raise an error in static type checking tools\n",
    "state_instance: State = {\n",
    "    \"key_out_side_of_schema\": \"value not in schema will raise an error by type checking tool\"  \n",
    "    }\n",
    "print(state_instance)\n"
   ]
  },
  {
   "cell_type": "markdown",
   "id": "695cfd86-8ef2-4f9a-a182-aa99f817064c",
   "metadata": {},
   "source": [
    "# StateGraph Graph Builder"
   ]
  },
  {
   "cell_type": "code",
   "execution_count": 28,
   "id": "c45f5678-275d-45b8-a371-331b500894e8",
   "metadata": {},
   "outputs": [],
   "source": [
    "graph_builder = StateGraph(State)\n",
    "##graph_builder has methods to add node , edge "
   ]
  },
  {
   "cell_type": "code",
   "execution_count": 33,
   "id": "29cad1a3-54f4-461f-8477-59e9520f3888",
   "metadata": {},
   "outputs": [
    {
     "data": {
      "text/plain": [
       "{'chatbot': StateNodeSpec(runnable=chatbot(recurse=True), metadata=None, input=<class '__main__.State'>, retry_policy=None)}"
      ]
     },
     "execution_count": 33,
     "metadata": {},
     "output_type": "execute_result"
    }
   ],
   "source": [
    "## create a chatbot node - \n",
    "### Every node will receive current state as input and return updated state\n",
    "def chatbot(state: State):\n",
    "    node_input = state[\"messages\"]\n",
    "    node_result = chatmodel.invoke(node_input)\n",
    "    node_output = {\"messages\": [node_result]}\n",
    "    return node_output\n",
    "try:\n",
    "    graph_builder.add_node(\"chatbot\", chatbot)\n",
    "except:\n",
    "    pass\n",
    "print(graph_builder.nodes)"
   ]
  },
  {
   "cell_type": "code",
   "execution_count": 35,
   "id": "f5c1e727-50d5-4de9-bb30-34c640ea90d6",
   "metadata": {
    "scrolled": true
   },
   "outputs": [
    {
     "name": "stderr",
     "output_type": "stream",
     "text": [
      "Adding an edge to a graph that has already been compiled. This will not be reflected in the compiled graph.\n",
      "Adding an edge to a graph that has already been compiled. This will not be reflected in the compiled graph.\n"
     ]
    },
    {
     "data": {
      "text/plain": [
       "CompiledStateGraph(nodes={'__start__': PregelNode(config={'tags': ['langsmith:hidden'], 'metadata': {}, 'configurable': {}}, channels=['__start__'], triggers=['__start__'], writers=[ChannelWrite<messages>(recurse=True, writes=[ChannelWriteEntry(channel='messages', value=<object object at 0x7f97660fddf0>, skip_none=False, mapper=_get_state_key(recurse=False))], require_at_least_one_of=['messages']), ChannelWrite<start:chatbot>(recurse=True, writes=[ChannelWriteEntry(channel='start:chatbot', value='__start__', skip_none=False, mapper=None)], require_at_least_one_of=None)]), 'chatbot': PregelNode(config={'tags': [], 'metadata': {}, 'configurable': {}}, channels={'messages': 'messages'}, triggers=['start:chatbot'], mapper=functools.partial(<function _coerce_state at 0x7f9765d2a4c0>, <class '__main__.State'>), writers=[ChannelWrite<chatbot,messages>(recurse=True, writes=[ChannelWriteEntry(channel='chatbot', value='chatbot', skip_none=False, mapper=None), ChannelWriteEntry(channel='messages', value=<object object at 0x7f97660fddf0>, skip_none=False, mapper=_get_state_key(recurse=False))], require_at_least_one_of=['messages'])])}, channels={'messages': <langgraph.channels.binop.BinaryOperatorAggregate object at 0x7f9765f15370>, '__start__': <langgraph.channels.ephemeral_value.EphemeralValue object at 0x7f9765f15130>, 'chatbot': <langgraph.channels.ephemeral_value.EphemeralValue object at 0x7f9764ed5fa0>, 'start:chatbot': <langgraph.channels.ephemeral_value.EphemeralValue object at 0x7f9765e649a0>}, auto_validate=False, stream_mode='updates', output_channels=['messages'], stream_channels=['messages'], input_channels='__start__', builder=<langgraph.graph.state.StateGraph object at 0x7f9765f153a0>)"
      ]
     },
     "execution_count": 35,
     "metadata": {},
     "output_type": "execute_result"
    }
   ],
   "source": [
    "graph_builder.add_edge(START, \"chatbot\") ## ENTRY POINT\n",
    "graph_builder.add_edge(\"chatbot\", END) ### finish point\n",
    "graph = graph_builder.compile()\n",
    "graph"
   ]
  },
  {
   "cell_type": "code",
   "execution_count": 38,
   "id": "626e315f-ce52-4f29-a4eb-00db7c81dc86",
   "metadata": {},
   "outputs": [
    {
     "data": {
      "text/plain": [
       "Graph(nodes={'__start__': Node(id='__start__', name='__start__', data=<class 'pydantic.v1.main.LangGraphInput'>, metadata=None), 'chatbot': Node(id='chatbot', name='chatbot', data=chatbot(recurse=True), metadata=None), '__end__': Node(id='__end__', name='__end__', data=<class 'pydantic.v1.main.LangGraphOutput'>, metadata=None)}, edges=[Edge(source='__start__', target='chatbot', data=None, conditional=False), Edge(source='chatbot', target='__end__', data=None, conditional=False)])"
      ]
     },
     "execution_count": 38,
     "metadata": {},
     "output_type": "execute_result"
    }
   ],
   "source": [
    "graph.get_graph()"
   ]
  },
  {
   "cell_type": "code",
   "execution_count": 41,
   "id": "5a2a3062-c8b8-42f4-bac5-a11698a326d4",
   "metadata": {},
   "outputs": [
    {
     "name": "stdout",
     "output_type": "stream",
     "text": [
      "%%{init: {'flowchart': {'curve': 'linear'}}}%%\n",
      "graph TD;\n",
      "\t__start__([__start__]):::first\n",
      "\tchatbot(chatbot)\n",
      "\t__end__([__end__]):::last\n",
      "\t__start__ --> chatbot;\n",
      "\tchatbot --> __end__;\n",
      "\tclassDef default fill:#f2f0ff,line-height:1.2\n",
      "\tclassDef first fill-opacity:0\n",
      "\tclassDef last fill:#bfb6fc\n",
      "\n"
     ]
    }
   ],
   "source": [
    "print(graph.get_graph().draw_mermaid())"
   ]
  },
  {
   "cell_type": "code",
   "execution_count": 37,
   "id": "8bd89b13-fda3-4513-92cf-5f3d0ca14394",
   "metadata": {},
   "outputs": [
    {
     "data": {
      "image/jpeg": "[encoded data removed]",
      "text/plain": [
       "<IPython.core.display.Image object>"
      ]
     },
     "metadata": {},
     "output_type": "display_data"
    }
   ],
   "source": [
    "from IPython.display import Image, display\n",
    "try:\n",
    "    display(Image(graph.get_graph().draw_mermaid_png()))\n",
    "except:\n",
    "    pass"
   ]
  },
  {
   "cell_type": "code",
   "execution_count": 60,
   "id": "0a3b34de-9fc5-4930-ae15-82dce96dfa6a",
   "metadata": {},
   "outputs": [
    {
     "name": "stdout",
     "output_type": "stream",
     "text": [
      "streamed_output_state_from_graph type: <class 'generator'>\n",
      "output_state_from_graph: {'chatbot': {'messages': [AIMessage(content=\"In dawn's soft whisper, dreams dissolve like mist.\", response_metadata={'token_usage': {'completion_tokens': 11, 'prompt_tokens': 16, 'total_tokens': 27}, 'model_name': 'gpt-4o-mini-2024-07-18', 'system_fingerprint': 'fp_48196bc67a', 'finish_reason': 'stop', 'logprobs': None}, id='run-cc859b56-ea08-41de-9a3d-445f10de4c14-0', usage_metadata={'input_tokens': 16, 'output_tokens': 11, 'total_tokens': 27})]}}\n"
     ]
    }
   ],
   "source": [
    "input_state = {\"messages\": (\"user\", \"tell me a one line poem on early morning\")}\n",
    "streamed_output_state_from_graph = graph.stream(input_state)\n",
    "print('streamed_output_state_from_graph type:', type(streamed_output_state_from_graph))\n",
    "output_state_from_graph = next(streamed_output_state_from_graph)\n",
    "print('output_state_from_graph:', output_state_from_graph)"
   ]
  },
  {
   "cell_type": "code",
   "execution_count": 65,
   "id": "5282bd8c-11c3-47e9-a65d-f4889dacb77a",
   "metadata": {},
   "outputs": [
    {
     "name": "stdout",
     "output_type": "stream",
     "text": [
      "In dawn's soft whisper, dreams dissolve like mist.\n",
      "{'input_tokens': 16, 'output_tokens': 11, 'total_tokens': 27}\n",
      "{'token_usage': {'completion_tokens': 11, 'prompt_tokens': 16, 'total_tokens': 27}, 'model_name': 'gpt-4o-mini-2024-07-18', 'system_fingerprint': 'fp_48196bc67a', 'finish_reason': 'stop', 'logprobs': None}\n"
     ]
    }
   ],
   "source": [
    "chatmodel_output = output_state_from_graph['chatbot']['messages'][0]\n",
    "print(chatmodel_output.content)\n",
    "print(chatmodel_output.usage_metadata)\n",
    "print(chatmodel_output.response_metadata)"
   ]
  },
  {
   "cell_type": "code",
   "execution_count": 50,
   "id": "46a1dc2f-11f5-4abf-bbd4-43f48c265c63",
   "metadata": {},
   "outputs": [
    {
     "name": "stdout",
     "output_type": "stream",
     "text": [
      "Assistant: In the hush of dawn, the world whispers new dreams.\n"
     ]
    }
   ],
   "source": [
    "for event in events:\n",
    "    for value in event.values():\n",
    "        print(\"Assistant:\", value[\"messages\"][-1].content)"
   ]
  },
  {
   "cell_type": "code",
   "execution_count": null,
   "id": "b282d962-327c-4117-9005-119e70ec04f2",
   "metadata": {},
   "outputs": [],
   "source": []
  },
  {
   "cell_type": "code",
   "execution_count": null,
   "id": "4131422d-6ce5-49df-92b4-614f108be0ca",
   "metadata": {},
   "outputs": [],
   "source": []
  }
 ],
 "metadata": {
  "kernelspec": {
   "display_name": "Python 3 (ipykernel)",
   "language": "python",
   "name": "python3"
  },
  "language_info": {
   "codemirror_mode": {
    "name": "ipython",
    "version": 3
   },
   "file_extension": ".py",
   "mimetype": "text/x-python",
   "name": "python",
   "nbconvert_exporter": "python",
   "pygments_lexer": "ipython3",
   "version": "3.9.7"
  }
 },
 "nbformat": 4,
 "nbformat_minor": 5
}
